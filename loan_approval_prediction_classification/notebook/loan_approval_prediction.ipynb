{
 "cells": [
  {
   "cell_type": "code",
   "execution_count": 1,
   "id": "a46bb8f1",
   "metadata": {},
   "outputs": [],
   "source": [
    "import numpy as np\n",
    "import pandas as pd\n",
    "import matplotlib.pyplot as plt\n",
    "from sklearn.linear_model import LogisticRegression, SGDClassifier\n",
    "from sklearn.ensemble import RandomForestClassifier\n",
    "from sklearn.svm import SVC\n",
    "from sklearn.neighbors import KNeighborsClassifier\n",
    "from sklearn.pipeline import Pipeline\n",
    "from sklearn.compose import ColumnTransformer\n",
    "import seaborn as sns\n",
    "import numpy as np\n",
    "from sklearn.feature_selection import RFE\n",
    "from sklearn.model_selection import validation_curve\n",
    "from hyperopt import STATUS_OK, Trials, fmin, hp, tpe\n",
    "from sklearn.feature_selection import f_classif\n",
    "from sklearn.metrics import accuracy_score,f1_score,recall_score,precision_score,roc_auc_score,roc_curve,precision_recall_curve,confusion_matrix\n",
    "from sklearn.model_selection import cross_val_score,cross_val_predict\n",
    "from sklearn.ensemble import BaggingClassifier\n",
    "from sklearn.ensemble import VotingClassifier\n",
    "from sklearn.ensemble import ExtraTreesClassifier\n",
    "from sklearn.ensemble import AdaBoostClassifier\n",
    "from sklearn.ensemble import GradientBoostingClassifier\n",
    "from sklearn.tree import DecisionTreeClassifier\n",
    "from xgboost import XGBClassifier\n",
    "from sklearn.model_selection import GridSearchCV,RandomizedSearchCV\n",
    "import random\n",
    "from sklearn.metrics import classification_report,ConfusionMatrixDisplay\n",
    "import scipy.stats\n"
   ]
  },
  {
   "cell_type": "code",
   "execution_count": 2,
   "metadata": {},
   "outputs": [],
   "source": [
    "np.random.seed(42)"
   ]
  },
  {
   "cell_type": "markdown",
   "metadata": {},
   "source": [
    "# Load data"
   ]
  },
  {
   "cell_type": "code",
   "execution_count": 3,
   "id": "e03bd9ea",
   "metadata": {},
   "outputs": [],
   "source": [
    "train = pd.read_csv(\"./data/train.csv\")\n",
    "test = pd.read_csv(\"./data/test.csv\")"
   ]
  },
  {
   "cell_type": "code",
   "execution_count": 4,
   "id": "7c124653",
   "metadata": {},
   "outputs": [
    {
     "data": {
      "text/plain": [
       "(614, 13)"
      ]
     },
     "execution_count": 4,
     "metadata": {},
     "output_type": "execute_result"
    }
   ],
   "source": [
    "train.shape"
   ]
  },
  {
   "cell_type": "code",
   "execution_count": 5,
   "id": "9ae04e6f",
   "metadata": {},
   "outputs": [
    {
     "data": {
      "text/plain": [
       "(367, 12)"
      ]
     },
     "execution_count": 5,
     "metadata": {},
     "output_type": "execute_result"
    }
   ],
   "source": [
    "test.shape"
   ]
  },
  {
   "cell_type": "code",
   "execution_count": 6,
   "id": "f17383a4",
   "metadata": {},
   "outputs": [
    {
     "data": {
      "text/html": [
       "<div>\n",
       "<style scoped>\n",
       "    .dataframe tbody tr th:only-of-type {\n",
       "        vertical-align: middle;\n",
       "    }\n",
       "\n",
       "    .dataframe tbody tr th {\n",
       "        vertical-align: top;\n",
       "    }\n",
       "\n",
       "    .dataframe thead th {\n",
       "        text-align: right;\n",
       "    }\n",
       "</style>\n",
       "<table border=\"1\" class=\"dataframe\">\n",
       "  <thead>\n",
       "    <tr style=\"text-align: right;\">\n",
       "      <th></th>\n",
       "      <th>ApplicantIncome</th>\n",
       "      <th>CoapplicantIncome</th>\n",
       "      <th>LoanAmount</th>\n",
       "      <th>Loan_Amount_Term</th>\n",
       "      <th>Credit_History</th>\n",
       "    </tr>\n",
       "  </thead>\n",
       "  <tbody>\n",
       "    <tr>\n",
       "      <th>count</th>\n",
       "      <td>614.000000</td>\n",
       "      <td>614.000000</td>\n",
       "      <td>592.000000</td>\n",
       "      <td>600.00000</td>\n",
       "      <td>564.000000</td>\n",
       "    </tr>\n",
       "    <tr>\n",
       "      <th>mean</th>\n",
       "      <td>5403.459283</td>\n",
       "      <td>1621.245798</td>\n",
       "      <td>146.412162</td>\n",
       "      <td>342.00000</td>\n",
       "      <td>0.842199</td>\n",
       "    </tr>\n",
       "    <tr>\n",
       "      <th>std</th>\n",
       "      <td>6109.041673</td>\n",
       "      <td>2926.248369</td>\n",
       "      <td>85.587325</td>\n",
       "      <td>65.12041</td>\n",
       "      <td>0.364878</td>\n",
       "    </tr>\n",
       "    <tr>\n",
       "      <th>min</th>\n",
       "      <td>150.000000</td>\n",
       "      <td>0.000000</td>\n",
       "      <td>9.000000</td>\n",
       "      <td>12.00000</td>\n",
       "      <td>0.000000</td>\n",
       "    </tr>\n",
       "    <tr>\n",
       "      <th>25%</th>\n",
       "      <td>2877.500000</td>\n",
       "      <td>0.000000</td>\n",
       "      <td>100.000000</td>\n",
       "      <td>360.00000</td>\n",
       "      <td>1.000000</td>\n",
       "    </tr>\n",
       "    <tr>\n",
       "      <th>50%</th>\n",
       "      <td>3812.500000</td>\n",
       "      <td>1188.500000</td>\n",
       "      <td>128.000000</td>\n",
       "      <td>360.00000</td>\n",
       "      <td>1.000000</td>\n",
       "    </tr>\n",
       "    <tr>\n",
       "      <th>75%</th>\n",
       "      <td>5795.000000</td>\n",
       "      <td>2297.250000</td>\n",
       "      <td>168.000000</td>\n",
       "      <td>360.00000</td>\n",
       "      <td>1.000000</td>\n",
       "    </tr>\n",
       "    <tr>\n",
       "      <th>max</th>\n",
       "      <td>81000.000000</td>\n",
       "      <td>41667.000000</td>\n",
       "      <td>700.000000</td>\n",
       "      <td>480.00000</td>\n",
       "      <td>1.000000</td>\n",
       "    </tr>\n",
       "  </tbody>\n",
       "</table>\n",
       "</div>"
      ],
      "text/plain": [
       "       ApplicantIncome  CoapplicantIncome  LoanAmount  Loan_Amount_Term  \\\n",
       "count       614.000000         614.000000  592.000000         600.00000   \n",
       "mean       5403.459283        1621.245798  146.412162         342.00000   \n",
       "std        6109.041673        2926.248369   85.587325          65.12041   \n",
       "min         150.000000           0.000000    9.000000          12.00000   \n",
       "25%        2877.500000           0.000000  100.000000         360.00000   \n",
       "50%        3812.500000        1188.500000  128.000000         360.00000   \n",
       "75%        5795.000000        2297.250000  168.000000         360.00000   \n",
       "max       81000.000000       41667.000000  700.000000         480.00000   \n",
       "\n",
       "       Credit_History  \n",
       "count      564.000000  \n",
       "mean         0.842199  \n",
       "std          0.364878  \n",
       "min          0.000000  \n",
       "25%          1.000000  \n",
       "50%          1.000000  \n",
       "75%          1.000000  \n",
       "max          1.000000  "
      ]
     },
     "execution_count": 6,
     "metadata": {},
     "output_type": "execute_result"
    }
   ],
   "source": [
    "train.describe()"
   ]
  },
  {
   "cell_type": "code",
   "execution_count": 7,
   "id": "e18dc85d",
   "metadata": {},
   "outputs": [
    {
     "data": {
      "text/plain": [
       "Index(['Loan_ID', 'Gender', 'Married', 'Dependents', 'Education',\n",
       "       'Self_Employed', 'ApplicantIncome', 'CoapplicantIncome', 'LoanAmount',\n",
       "       'Loan_Amount_Term', 'Credit_History', 'Property_Area', 'Loan_Status'],\n",
       "      dtype='object')"
      ]
     },
     "execution_count": 7,
     "metadata": {},
     "output_type": "execute_result"
    }
   ],
   "source": [
    "train.columns"
   ]
  },
  {
   "cell_type": "code",
   "execution_count": 8,
   "id": "d9087e51",
   "metadata": {},
   "outputs": [
    {
     "data": {
      "text/plain": [
       "Index(['Loan_ID', 'Gender', 'Married', 'Dependents', 'Education',\n",
       "       'Self_Employed', 'ApplicantIncome', 'CoapplicantIncome', 'LoanAmount',\n",
       "       'Loan_Amount_Term', 'Credit_History', 'Property_Area'],\n",
       "      dtype='object')"
      ]
     },
     "execution_count": 8,
     "metadata": {},
     "output_type": "execute_result"
    }
   ],
   "source": [
    "test.columns"
   ]
  },
  {
   "cell_type": "code",
   "execution_count": 9,
   "id": "5896ff7f",
   "metadata": {
    "scrolled": true
   },
   "outputs": [
    {
     "data": {
      "text/html": [
       "<div>\n",
       "<style scoped>\n",
       "    .dataframe tbody tr th:only-of-type {\n",
       "        vertical-align: middle;\n",
       "    }\n",
       "\n",
       "    .dataframe tbody tr th {\n",
       "        vertical-align: top;\n",
       "    }\n",
       "\n",
       "    .dataframe thead th {\n",
       "        text-align: right;\n",
       "    }\n",
       "</style>\n",
       "<table border=\"1\" class=\"dataframe\">\n",
       "  <thead>\n",
       "    <tr style=\"text-align: right;\">\n",
       "      <th></th>\n",
       "      <th>Loan_ID</th>\n",
       "      <th>Gender</th>\n",
       "      <th>Married</th>\n",
       "      <th>Dependents</th>\n",
       "      <th>Education</th>\n",
       "      <th>Self_Employed</th>\n",
       "      <th>ApplicantIncome</th>\n",
       "      <th>CoapplicantIncome</th>\n",
       "      <th>LoanAmount</th>\n",
       "      <th>Loan_Amount_Term</th>\n",
       "      <th>Credit_History</th>\n",
       "      <th>Property_Area</th>\n",
       "      <th>Loan_Status</th>\n",
       "    </tr>\n",
       "  </thead>\n",
       "  <tbody>\n",
       "    <tr>\n",
       "      <th>0</th>\n",
       "      <td>LP001002</td>\n",
       "      <td>Male</td>\n",
       "      <td>No</td>\n",
       "      <td>0</td>\n",
       "      <td>Graduate</td>\n",
       "      <td>No</td>\n",
       "      <td>5849</td>\n",
       "      <td>0.0</td>\n",
       "      <td>NaN</td>\n",
       "      <td>360.0</td>\n",
       "      <td>1.0</td>\n",
       "      <td>Urban</td>\n",
       "      <td>Y</td>\n",
       "    </tr>\n",
       "    <tr>\n",
       "      <th>1</th>\n",
       "      <td>LP001003</td>\n",
       "      <td>Male</td>\n",
       "      <td>Yes</td>\n",
       "      <td>1</td>\n",
       "      <td>Graduate</td>\n",
       "      <td>No</td>\n",
       "      <td>4583</td>\n",
       "      <td>1508.0</td>\n",
       "      <td>128.0</td>\n",
       "      <td>360.0</td>\n",
       "      <td>1.0</td>\n",
       "      <td>Rural</td>\n",
       "      <td>N</td>\n",
       "    </tr>\n",
       "    <tr>\n",
       "      <th>2</th>\n",
       "      <td>LP001005</td>\n",
       "      <td>Male</td>\n",
       "      <td>Yes</td>\n",
       "      <td>0</td>\n",
       "      <td>Graduate</td>\n",
       "      <td>Yes</td>\n",
       "      <td>3000</td>\n",
       "      <td>0.0</td>\n",
       "      <td>66.0</td>\n",
       "      <td>360.0</td>\n",
       "      <td>1.0</td>\n",
       "      <td>Urban</td>\n",
       "      <td>Y</td>\n",
       "    </tr>\n",
       "    <tr>\n",
       "      <th>3</th>\n",
       "      <td>LP001006</td>\n",
       "      <td>Male</td>\n",
       "      <td>Yes</td>\n",
       "      <td>0</td>\n",
       "      <td>Not Graduate</td>\n",
       "      <td>No</td>\n",
       "      <td>2583</td>\n",
       "      <td>2358.0</td>\n",
       "      <td>120.0</td>\n",
       "      <td>360.0</td>\n",
       "      <td>1.0</td>\n",
       "      <td>Urban</td>\n",
       "      <td>Y</td>\n",
       "    </tr>\n",
       "    <tr>\n",
       "      <th>4</th>\n",
       "      <td>LP001008</td>\n",
       "      <td>Male</td>\n",
       "      <td>No</td>\n",
       "      <td>0</td>\n",
       "      <td>Graduate</td>\n",
       "      <td>No</td>\n",
       "      <td>6000</td>\n",
       "      <td>0.0</td>\n",
       "      <td>141.0</td>\n",
       "      <td>360.0</td>\n",
       "      <td>1.0</td>\n",
       "      <td>Urban</td>\n",
       "      <td>Y</td>\n",
       "    </tr>\n",
       "    <tr>\n",
       "      <th>5</th>\n",
       "      <td>LP001011</td>\n",
       "      <td>Male</td>\n",
       "      <td>Yes</td>\n",
       "      <td>2</td>\n",
       "      <td>Graduate</td>\n",
       "      <td>Yes</td>\n",
       "      <td>5417</td>\n",
       "      <td>4196.0</td>\n",
       "      <td>267.0</td>\n",
       "      <td>360.0</td>\n",
       "      <td>1.0</td>\n",
       "      <td>Urban</td>\n",
       "      <td>Y</td>\n",
       "    </tr>\n",
       "    <tr>\n",
       "      <th>6</th>\n",
       "      <td>LP001013</td>\n",
       "      <td>Male</td>\n",
       "      <td>Yes</td>\n",
       "      <td>0</td>\n",
       "      <td>Not Graduate</td>\n",
       "      <td>No</td>\n",
       "      <td>2333</td>\n",
       "      <td>1516.0</td>\n",
       "      <td>95.0</td>\n",
       "      <td>360.0</td>\n",
       "      <td>1.0</td>\n",
       "      <td>Urban</td>\n",
       "      <td>Y</td>\n",
       "    </tr>\n",
       "    <tr>\n",
       "      <th>7</th>\n",
       "      <td>LP001014</td>\n",
       "      <td>Male</td>\n",
       "      <td>Yes</td>\n",
       "      <td>3+</td>\n",
       "      <td>Graduate</td>\n",
       "      <td>No</td>\n",
       "      <td>3036</td>\n",
       "      <td>2504.0</td>\n",
       "      <td>158.0</td>\n",
       "      <td>360.0</td>\n",
       "      <td>0.0</td>\n",
       "      <td>Semiurban</td>\n",
       "      <td>N</td>\n",
       "    </tr>\n",
       "    <tr>\n",
       "      <th>8</th>\n",
       "      <td>LP001018</td>\n",
       "      <td>Male</td>\n",
       "      <td>Yes</td>\n",
       "      <td>2</td>\n",
       "      <td>Graduate</td>\n",
       "      <td>No</td>\n",
       "      <td>4006</td>\n",
       "      <td>1526.0</td>\n",
       "      <td>168.0</td>\n",
       "      <td>360.0</td>\n",
       "      <td>1.0</td>\n",
       "      <td>Urban</td>\n",
       "      <td>Y</td>\n",
       "    </tr>\n",
       "    <tr>\n",
       "      <th>9</th>\n",
       "      <td>LP001020</td>\n",
       "      <td>Male</td>\n",
       "      <td>Yes</td>\n",
       "      <td>1</td>\n",
       "      <td>Graduate</td>\n",
       "      <td>No</td>\n",
       "      <td>12841</td>\n",
       "      <td>10968.0</td>\n",
       "      <td>349.0</td>\n",
       "      <td>360.0</td>\n",
       "      <td>1.0</td>\n",
       "      <td>Semiurban</td>\n",
       "      <td>N</td>\n",
       "    </tr>\n",
       "  </tbody>\n",
       "</table>\n",
       "</div>"
      ],
      "text/plain": [
       "    Loan_ID Gender Married Dependents     Education Self_Employed  \\\n",
       "0  LP001002   Male      No          0      Graduate            No   \n",
       "1  LP001003   Male     Yes          1      Graduate            No   \n",
       "2  LP001005   Male     Yes          0      Graduate           Yes   \n",
       "3  LP001006   Male     Yes          0  Not Graduate            No   \n",
       "4  LP001008   Male      No          0      Graduate            No   \n",
       "5  LP001011   Male     Yes          2      Graduate           Yes   \n",
       "6  LP001013   Male     Yes          0  Not Graduate            No   \n",
       "7  LP001014   Male     Yes         3+      Graduate            No   \n",
       "8  LP001018   Male     Yes          2      Graduate            No   \n",
       "9  LP001020   Male     Yes          1      Graduate            No   \n",
       "\n",
       "   ApplicantIncome  CoapplicantIncome  LoanAmount  Loan_Amount_Term  \\\n",
       "0             5849                0.0         NaN             360.0   \n",
       "1             4583             1508.0       128.0             360.0   \n",
       "2             3000                0.0        66.0             360.0   \n",
       "3             2583             2358.0       120.0             360.0   \n",
       "4             6000                0.0       141.0             360.0   \n",
       "5             5417             4196.0       267.0             360.0   \n",
       "6             2333             1516.0        95.0             360.0   \n",
       "7             3036             2504.0       158.0             360.0   \n",
       "8             4006             1526.0       168.0             360.0   \n",
       "9            12841            10968.0       349.0             360.0   \n",
       "\n",
       "   Credit_History Property_Area Loan_Status  \n",
       "0             1.0         Urban           Y  \n",
       "1             1.0         Rural           N  \n",
       "2             1.0         Urban           Y  \n",
       "3             1.0         Urban           Y  \n",
       "4             1.0         Urban           Y  \n",
       "5             1.0         Urban           Y  \n",
       "6             1.0         Urban           Y  \n",
       "7             0.0     Semiurban           N  \n",
       "8             1.0         Urban           Y  \n",
       "9             1.0     Semiurban           N  "
      ]
     },
     "execution_count": 9,
     "metadata": {},
     "output_type": "execute_result"
    }
   ],
   "source": [
    "train.head(10)"
   ]
  },
  {
   "cell_type": "code",
   "execution_count": 10,
   "id": "48335576",
   "metadata": {},
   "outputs": [
    {
     "name": "stdout",
     "output_type": "stream",
     "text": [
      "<class 'pandas.core.frame.DataFrame'>\n",
      "RangeIndex: 614 entries, 0 to 613\n",
      "Data columns (total 13 columns):\n",
      " #   Column             Non-Null Count  Dtype  \n",
      "---  ------             --------------  -----  \n",
      " 0   Loan_ID            614 non-null    object \n",
      " 1   Gender             601 non-null    object \n",
      " 2   Married            611 non-null    object \n",
      " 3   Dependents         599 non-null    object \n",
      " 4   Education          614 non-null    object \n",
      " 5   Self_Employed      582 non-null    object \n",
      " 6   ApplicantIncome    614 non-null    int64  \n",
      " 7   CoapplicantIncome  614 non-null    float64\n",
      " 8   LoanAmount         592 non-null    float64\n",
      " 9   Loan_Amount_Term   600 non-null    float64\n",
      " 10  Credit_History     564 non-null    float64\n",
      " 11  Property_Area      614 non-null    object \n",
      " 12  Loan_Status        614 non-null    object \n",
      "dtypes: float64(4), int64(1), object(8)\n",
      "memory usage: 62.5+ KB\n"
     ]
    }
   ],
   "source": [
    "train.info()"
   ]
  },
  {
   "cell_type": "code",
   "execution_count": 11,
   "id": "8343efd3",
   "metadata": {},
   "outputs": [
    {
     "data": {
      "text/plain": [
       "Loan_ID               0\n",
       "Gender               13\n",
       "Married               3\n",
       "Dependents           15\n",
       "Education             0\n",
       "Self_Employed        32\n",
       "ApplicantIncome       0\n",
       "CoapplicantIncome     0\n",
       "LoanAmount           22\n",
       "Loan_Amount_Term     14\n",
       "Credit_History       50\n",
       "Property_Area         0\n",
       "Loan_Status           0\n",
       "dtype: int64"
      ]
     },
     "execution_count": 11,
     "metadata": {},
     "output_type": "execute_result"
    }
   ],
   "source": [
    "train.isna().sum()"
   ]
  },
  {
   "cell_type": "code",
   "execution_count": 12,
   "id": "6ef7982b",
   "metadata": {},
   "outputs": [
    {
     "data": {
      "text/plain": [
       "Loan_ID               0\n",
       "Gender               11\n",
       "Married               0\n",
       "Dependents           10\n",
       "Education             0\n",
       "Self_Employed        23\n",
       "ApplicantIncome       0\n",
       "CoapplicantIncome     0\n",
       "LoanAmount            5\n",
       "Loan_Amount_Term      6\n",
       "Credit_History       29\n",
       "Property_Area         0\n",
       "dtype: int64"
      ]
     },
     "execution_count": 12,
     "metadata": {},
     "output_type": "execute_result"
    }
   ],
   "source": [
    "test.isna().sum()"
   ]
  },
  {
   "cell_type": "code",
   "execution_count": 13,
   "id": "2292901a",
   "metadata": {},
   "outputs": [
    {
     "data": {
      "text/plain": [
       "Text(0.5, 6.79999999999999, 'Percent')"
      ]
     },
     "execution_count": 13,
     "metadata": {},
     "output_type": "execute_result"
    },
    {
     "data": {
      "text/plain": [
       "<Figure size 720x432 with 0 Axes>"
      ]
     },
     "metadata": {},
     "output_type": "display_data"
    },
    {
     "data": {
      "image/png": "[encoded data removed]",
      "text/plain": [
       "<Figure size 511.25x360 with 1 Axes>"
      ]
     },
     "metadata": {
      "needs_background": "light"
     },
     "output_type": "display_data"
    }
   ],
   "source": [
    "plt.figure(figsize=(10,6))\n",
    "sns.displot(\n",
    "    data=train.isna().melt(value_name=\"missing\"),\n",
    "    y=\"variable\",\n",
    "    hue=\"missing\",\n",
    "    multiple=\"fill\",\n",
    "    aspect=1.25)\n",
    "plt.xlabel(\"Percent\")"
   ]
  },
  {
   "cell_type": "code",
   "execution_count": 14,
   "id": "43da208f",
   "metadata": {},
   "outputs": [
    {
     "data": {
      "text/plain": [
       "Text(0.5, 6.79999999999999, 'Percent')"
      ]
     },
     "execution_count": 14,
     "metadata": {},
     "output_type": "execute_result"
    },
    {
     "data": {
      "text/plain": [
       "<Figure size 720x432 with 0 Axes>"
      ]
     },
     "metadata": {},
     "output_type": "display_data"
    },
    {
     "data": {
      "image/png": "[encoded data removed]",
      "text/plain": [
       "<Figure size 511.25x360 with 1 Axes>"
      ]
     },
     "metadata": {
      "needs_background": "light"
     },
     "output_type": "display_data"
    }
   ],
   "source": [
    "import seaborn as sns\n",
    "\n",
    "plt.figure(figsize=(10,6))\n",
    "sns.displot(\n",
    "    data=test.isna().melt(value_name=\"missing\"),\n",
    "    y=\"variable\",\n",
    "    hue=\"missing\",\n",
    "    multiple=\"fill\",\n",
    "    aspect=1.25)\n",
    "plt.xlabel(\"Percent\")"
   ]
  },
  {
   "cell_type": "code",
   "execution_count": 15,
   "id": "1ae05d6c",
   "metadata": {},
   "outputs": [],
   "source": [
    "train=train.drop(['Loan_ID'],axis=1)\n",
    "test_id = test['Loan_ID']\n",
    "test=test.drop(['Loan_ID'], axis=1)"
   ]
  },
  {
   "cell_type": "markdown",
   "id": "b174bd97",
   "metadata": {},
   "source": [
    "# Visualization"
   ]
  },
  {
   "cell_type": "code",
   "execution_count": 16,
   "id": "534c6814",
   "metadata": {
    "scrolled": false
   },
   "outputs": [
    {
     "data": {
      "text/plain": [
       "<AxesSubplot:xlabel='Dependents', ylabel='count'>"
      ]
     },
     "execution_count": 16,
     "metadata": {},
     "output_type": "execute_result"
    },
    {
     "data": {
      "image/png": "[encoded data removed]",
      "text/plain": [
       "<Figure size 1152x720 with 8 Axes>"
      ]
     },
     "metadata": {
      "needs_background": "light"
     },
     "output_type": "display_data"
    }
   ],
   "source": [
    "#Univariate Analysis\n",
    "fig,ax = plt.subplots(2,4,figsize=(16,10))\n",
    "sns.countplot(x= 'Loan_Status',data=train,ax=ax[0][0])\n",
    "sns.countplot(x='Gender',data=train,ax=ax[0][1])\n",
    "sns.countplot(x='Married',data=train,ax=ax[0][2])\n",
    "sns.countplot(x='Education',data=train,ax=ax[0][3])\n",
    "sns.countplot(x='Self_Employed',data=train,ax=ax[1][0])\n",
    "sns.countplot(x='Property_Area',data=train,ax=ax[1][1])\n",
    "sns.countplot(x='Credit_History',data=train,ax=ax[1][2])\n",
    "sns.countplot(x='Dependents',data=train,ax=ax[1][3])"
   ]
  },
  {
   "cell_type": "code",
   "execution_count": 17,
   "id": "60b95e7d",
   "metadata": {
    "scrolled": true
   },
   "outputs": [
    {
     "data": {
      "text/plain": [
       "<AxesSubplot:xlabel='ApplicantIncome', ylabel='Count'>"
      ]
     },
     "execution_count": 17,
     "metadata": {},
     "output_type": "execute_result"
    },
    {
     "data": {
      "image/png": "[encoded data removed]",
      "text/plain": [
       "<Figure size 432x288 with 1 Axes>"
      ]
     },
     "metadata": {
      "needs_background": "light"
     },
     "output_type": "display_data"
    }
   ],
   "source": [
    "sns.histplot(train[\"ApplicantIncome\"],kde = True)"
   ]
  },
  {
   "cell_type": "code",
   "execution_count": 18,
   "id": "c42589ac",
   "metadata": {},
   "outputs": [
    {
     "data": {
      "text/plain": [
       "<AxesSubplot:xlabel='CoapplicantIncome', ylabel='Count'>"
      ]
     },
     "execution_count": 18,
     "metadata": {},
     "output_type": "execute_result"
    },
    {
     "data": {
      "image/png": "[encoded data removed]",
      "text/plain": [
       "<Figure size 432x288 with 1 Axes>"
      ]
     },
     "metadata": {
      "needs_background": "light"
     },
     "output_type": "display_data"
    }
   ],
   "source": [
    "sns.histplot(train[\"CoapplicantIncome\"],kde = True)"
   ]
  },
  {
   "cell_type": "code",
   "execution_count": 19,
   "id": "b7155820",
   "metadata": {},
   "outputs": [
    {
     "data": {
      "text/plain": [
       "<AxesSubplot:xlabel='LoanAmount', ylabel='Count'>"
      ]
     },
     "execution_count": 19,
     "metadata": {},
     "output_type": "execute_result"
    },
    {
     "data": {
      "image/png": "[encoded data removed]",
      "text/plain": [
       "<Figure size 432x288 with 1 Axes>"
      ]
     },
     "metadata": {
      "needs_background": "light"
     },
     "output_type": "display_data"
    }
   ],
   "source": [
    "sns.histplot(train[\"LoanAmount\"],kde = True)"
   ]
  },
  {
   "cell_type": "code",
   "execution_count": 20,
   "id": "15492f06",
   "metadata": {},
   "outputs": [
    {
     "data": {
      "text/plain": [
       "<AxesSubplot:xlabel='ApplicantIncome', ylabel='Count'>"
      ]
     },
     "execution_count": 20,
     "metadata": {},
     "output_type": "execute_result"
    },
    {
     "data": {
      "image/png": "[encoded data removed]",
      "text/plain": [
       "<Figure size 432x288 with 1 Axes>"
      ]
     },
     "metadata": {
      "needs_background": "light"
     },
     "output_type": "display_data"
    }
   ],
   "source": [
    "sns.histplot(train['ApplicantIncome'],kde = True)"
   ]
  },
  {
   "cell_type": "markdown",
   "id": "eb72f052",
   "metadata": {},
   "source": [
    "# Data processing"
   ]
  },
  {
   "cell_type": "code",
   "execution_count": 21,
   "id": "b3b5a2a9",
   "metadata": {},
   "outputs": [],
   "source": [
    "# fill the missing values for numerical terms - mean\n",
    "train['LoanAmount'] = train['LoanAmount'].fillna(train['LoanAmount'].mean())\n",
    "\n",
    "test['LoanAmount'] = test['LoanAmount'].fillna(test['LoanAmount'].mean())\n"
   ]
  },
  {
   "cell_type": "code",
   "execution_count": 22,
   "id": "78df7293",
   "metadata": {},
   "outputs": [],
   "source": [
    "# fill the missing values for categorical terms - mode\n",
    "\n",
    "train['Gender'] = train[\"Gender\"].fillna(train['Gender'].mode()[0])\n",
    "train['Married'] = train[\"Married\"].fillna(train['Married'].mode()[0])\n",
    "train['Dependents'] = train[\"Dependents\"].fillna(train['Dependents'].mode()[0])\n",
    "train['Self_Employed'] = train[\"Self_Employed\"].fillna(train['Self_Employed'].mode()[0])\n",
    "train['Credit_History'] = train['Credit_History'].fillna(train['Credit_History'].mode()[0])\n",
    "train['Loan_Amount_Term'] = train['Loan_Amount_Term'].fillna(train['Loan_Amount_Term'].mode()[0])\n",
    "\n",
    "\n",
    "test['Gender'] = test[\"Gender\"].fillna(test['Gender'].mode()[0])\n",
    "test['Married'] = test[\"Married\"].fillna(test['Married'].mode()[0])\n",
    "test['Dependents'] = test[\"Dependents\"].fillna(test['Dependents'].mode()[0])\n",
    "test['Self_Employed'] = test[\"Self_Employed\"].fillna(test['Self_Employed'].mode()[0])\n",
    "test['Credit_History'] = test['Credit_History'].fillna(test['Credit_History'].mode()[0])\n",
    "test['Loan_Amount_Term'] = test['Loan_Amount_Term'].fillna(test['Loan_Amount_Term'].mode()[0])\n"
   ]
  },
  {
   "cell_type": "code",
   "execution_count": 23,
   "id": "ce76bb35",
   "metadata": {},
   "outputs": [
    {
     "data": {
      "text/plain": [
       "Gender               0\n",
       "Married              0\n",
       "Dependents           0\n",
       "Education            0\n",
       "Self_Employed        0\n",
       "ApplicantIncome      0\n",
       "CoapplicantIncome    0\n",
       "LoanAmount           0\n",
       "Loan_Amount_Term     0\n",
       "Credit_History       0\n",
       "Property_Area        0\n",
       "Loan_Status          0\n",
       "dtype: int64"
      ]
     },
     "execution_count": 23,
     "metadata": {},
     "output_type": "execute_result"
    }
   ],
   "source": [
    "train.isnull().sum()"
   ]
  },
  {
   "cell_type": "code",
   "execution_count": 24,
   "id": "865bd012",
   "metadata": {},
   "outputs": [],
   "source": [
    "converted_features = [\"Gender\",\"Married\",\"Education\",\"Self_Employed\",\"Property_Area\",\"Dependents\",\"Credit_History\"]\n",
    "def converted_cat(df, features):\n",
    "    for feature in features:\n",
    "        df[feature] = df[feature].astype(\"category\")\n",
    "\n",
    "converted_cat(train, converted_features)\n",
    "converted_cat(test, converted_features)"
   ]
  },
  {
   "cell_type": "markdown",
   "id": "c96edbce",
   "metadata": {},
   "source": [
    "# Feature engineering"
   ]
  },
  {
   "cell_type": "markdown",
   "metadata": {},
   "source": [
    "#### Tạo feature mới"
   ]
  },
  {
   "cell_type": "code",
   "execution_count": 25,
   "id": "51741ab9",
   "metadata": {},
   "outputs": [],
   "source": [
    "# combine training and test dataset\n",
    "combine_set=pd.concat([train,test], ignore_index=True)"
   ]
  },
  {
   "cell_type": "code",
   "execution_count": 26,
   "id": "965c69c4",
   "metadata": {},
   "outputs": [
    {
     "data": {
      "text/html": [
       "<div>\n",
       "<style scoped>\n",
       "    .dataframe tbody tr th:only-of-type {\n",
       "        vertical-align: middle;\n",
       "    }\n",
       "\n",
       "    .dataframe tbody tr th {\n",
       "        vertical-align: top;\n",
       "    }\n",
       "\n",
       "    .dataframe thead th {\n",
       "        text-align: right;\n",
       "    }\n",
       "</style>\n",
       "<table border=\"1\" class=\"dataframe\">\n",
       "  <thead>\n",
       "    <tr style=\"text-align: right;\">\n",
       "      <th></th>\n",
       "      <th>Gender</th>\n",
       "      <th>Married</th>\n",
       "      <th>Dependents</th>\n",
       "      <th>Education</th>\n",
       "      <th>Self_Employed</th>\n",
       "      <th>ApplicantIncome</th>\n",
       "      <th>CoapplicantIncome</th>\n",
       "      <th>LoanAmount</th>\n",
       "      <th>Loan_Amount_Term</th>\n",
       "      <th>Credit_History</th>\n",
       "      <th>Property_Area</th>\n",
       "      <th>Loan_Status</th>\n",
       "      <th>Total_Income</th>\n",
       "    </tr>\n",
       "  </thead>\n",
       "  <tbody>\n",
       "    <tr>\n",
       "      <th>0</th>\n",
       "      <td>Male</td>\n",
       "      <td>No</td>\n",
       "      <td>0</td>\n",
       "      <td>Graduate</td>\n",
       "      <td>No</td>\n",
       "      <td>5849</td>\n",
       "      <td>0.0</td>\n",
       "      <td>146.412162</td>\n",
       "      <td>360.0</td>\n",
       "      <td>1.0</td>\n",
       "      <td>Urban</td>\n",
       "      <td>Y</td>\n",
       "      <td>5849.0</td>\n",
       "    </tr>\n",
       "    <tr>\n",
       "      <th>1</th>\n",
       "      <td>Male</td>\n",
       "      <td>Yes</td>\n",
       "      <td>1</td>\n",
       "      <td>Graduate</td>\n",
       "      <td>No</td>\n",
       "      <td>4583</td>\n",
       "      <td>1508.0</td>\n",
       "      <td>128.000000</td>\n",
       "      <td>360.0</td>\n",
       "      <td>1.0</td>\n",
       "      <td>Rural</td>\n",
       "      <td>N</td>\n",
       "      <td>6091.0</td>\n",
       "    </tr>\n",
       "    <tr>\n",
       "      <th>2</th>\n",
       "      <td>Male</td>\n",
       "      <td>Yes</td>\n",
       "      <td>0</td>\n",
       "      <td>Graduate</td>\n",
       "      <td>Yes</td>\n",
       "      <td>3000</td>\n",
       "      <td>0.0</td>\n",
       "      <td>66.000000</td>\n",
       "      <td>360.0</td>\n",
       "      <td>1.0</td>\n",
       "      <td>Urban</td>\n",
       "      <td>Y</td>\n",
       "      <td>3000.0</td>\n",
       "    </tr>\n",
       "    <tr>\n",
       "      <th>3</th>\n",
       "      <td>Male</td>\n",
       "      <td>Yes</td>\n",
       "      <td>0</td>\n",
       "      <td>Not Graduate</td>\n",
       "      <td>No</td>\n",
       "      <td>2583</td>\n",
       "      <td>2358.0</td>\n",
       "      <td>120.000000</td>\n",
       "      <td>360.0</td>\n",
       "      <td>1.0</td>\n",
       "      <td>Urban</td>\n",
       "      <td>Y</td>\n",
       "      <td>4941.0</td>\n",
       "    </tr>\n",
       "    <tr>\n",
       "      <th>4</th>\n",
       "      <td>Male</td>\n",
       "      <td>No</td>\n",
       "      <td>0</td>\n",
       "      <td>Graduate</td>\n",
       "      <td>No</td>\n",
       "      <td>6000</td>\n",
       "      <td>0.0</td>\n",
       "      <td>141.000000</td>\n",
       "      <td>360.0</td>\n",
       "      <td>1.0</td>\n",
       "      <td>Urban</td>\n",
       "      <td>Y</td>\n",
       "      <td>6000.0</td>\n",
       "    </tr>\n",
       "  </tbody>\n",
       "</table>\n",
       "</div>"
      ],
      "text/plain": [
       "  Gender Married Dependents     Education Self_Employed  ApplicantIncome  \\\n",
       "0   Male      No          0      Graduate            No             5849   \n",
       "1   Male     Yes          1      Graduate            No             4583   \n",
       "2   Male     Yes          0      Graduate           Yes             3000   \n",
       "3   Male     Yes          0  Not Graduate            No             2583   \n",
       "4   Male      No          0      Graduate            No             6000   \n",
       "\n",
       "   CoapplicantIncome  LoanAmount  Loan_Amount_Term Credit_History  \\\n",
       "0                0.0  146.412162             360.0            1.0   \n",
       "1             1508.0  128.000000             360.0            1.0   \n",
       "2                0.0   66.000000             360.0            1.0   \n",
       "3             2358.0  120.000000             360.0            1.0   \n",
       "4                0.0  141.000000             360.0            1.0   \n",
       "\n",
       "  Property_Area Loan_Status  Total_Income  \n",
       "0         Urban           Y        5849.0  \n",
       "1         Rural           N        6091.0  \n",
       "2         Urban           Y        3000.0  \n",
       "3         Urban           Y        4941.0  \n",
       "4         Urban           Y        6000.0  "
      ]
     },
     "execution_count": 26,
     "metadata": {},
     "output_type": "execute_result"
    }
   ],
   "source": [
    "# total income\n",
    "combine_set['Total_Income'] = combine_set['ApplicantIncome'] + combine_set['CoapplicantIncome']\n",
    "combine_set.head()"
   ]
  },
  {
   "cell_type": "markdown",
   "metadata": {},
   "source": [
    "$$EMI = P * \\frac{r(1+r)^{n}}{(1+r)^{n} - 1}$$"
   ]
  },
  {
   "cell_type": "code",
   "execution_count": 27,
   "metadata": {},
   "outputs": [],
   "source": [
    "r = (8/12)/100\n",
    "combine_set['EMI'] = combine_set['LoanAmount']*((r*(1+r)**combine_set['Loan_Amount_Term'])) / ((1+r)**combine_set['Loan_Amount_Term'] - 1)\n",
    "combine_set['LoanAmountTerm_per_TotalIncome'] = combine_set['LoanAmount'] / combine_set['Total_Income']\n",
    "combine_set['EMI_per_TotalIncome'] = combine_set['EMI'] / combine_set['Total_Income']\n",
    "combine_set['EMI_per_LoanAmount'] = combine_set['EMI'] / combine_set['LoanAmount']\n",
    "combine_set['EMI_per_LoanAmountTerm'] = combine_set['EMI'] / combine_set['Loan_Amount_Term']"
   ]
  },
  {
   "cell_type": "code",
   "execution_count": 28,
   "id": "079f66b4",
   "metadata": {},
   "outputs": [
    {
     "data": {
      "text/plain": [
       "<AxesSubplot:>"
      ]
     },
     "execution_count": 28,
     "metadata": {},
     "output_type": "execute_result"
    },
    {
     "data": {
      "image/png": "[encoded data removed]",
      "text/plain": [
       "<Figure size 1080x720 with 2 Axes>"
      ]
     },
     "metadata": {
      "needs_background": "light"
     },
     "output_type": "display_data"
    }
   ],
   "source": [
    "#Corelation Matrix\n",
    "corr = combine_set[combine_set['Loan_Status'].isnull()==False].corr()\n",
    "plt.figure(figsize=(15,10))\n",
    "sns.heatmap(corr, annot = True, cmap=\"YlGnBu\")"
   ]
  },
  {
   "cell_type": "code",
   "execution_count": 29,
   "id": "d24b16dc",
   "metadata": {},
   "outputs": [],
   "source": [
    "# Label encode categorical variables\n",
    "from sklearn.preprocessing import LabelEncoder\n",
    "cols = [\"Gender\",\"Married\",\"Education\",'Self_Employed',\"Property_Area\",\"Dependents\",\"Credit_History\"]\n",
    "le = LabelEncoder()\n",
    "for col in cols:\n",
    "    combine_set[col] = le.fit_transform(combine_set[col])"
   ]
  },
  {
   "cell_type": "code",
   "execution_count": 30,
   "metadata": {},
   "outputs": [],
   "source": [
    "from sklearn.preprocessing import StandardScaler,MinMaxScaler\n",
    "cols = [\"LoanAmount\",\"Loan_Amount_Term\",\"LoanAmountTerm_per_TotalIncome\",\"EMI_per_TotalIncome\",\"EMI_per_LoanAmount\", \"EMI_per_LoanAmountTerm\",\"ApplicantIncome\",\"CoapplicantIncome\",\"EMI\",\"Total_Income\"]\n",
    "sd = StandardScaler()\n",
    "for col in cols:\n",
    "    combine_set[col] = sd.fit_transform(combine_set[col].values.reshape(-1,1))"
   ]
  },
  {
   "cell_type": "code",
   "execution_count": 31,
   "metadata": {},
   "outputs": [
    {
     "data": {
      "text/html": [
       "<div>\n",
       "<style scoped>\n",
       "    .dataframe tbody tr th:only-of-type {\n",
       "        vertical-align: middle;\n",
       "    }\n",
       "\n",
       "    .dataframe tbody tr th {\n",
       "        vertical-align: top;\n",
       "    }\n",
       "\n",
       "    .dataframe thead th {\n",
       "        text-align: right;\n",
       "    }\n",
       "</style>\n",
       "<table border=\"1\" class=\"dataframe\">\n",
       "  <thead>\n",
       "    <tr style=\"text-align: right;\">\n",
       "      <th></th>\n",
       "      <th>Gender</th>\n",
       "      <th>Married</th>\n",
       "      <th>Dependents</th>\n",
       "      <th>Education</th>\n",
       "      <th>Self_Employed</th>\n",
       "      <th>ApplicantIncome</th>\n",
       "      <th>CoapplicantIncome</th>\n",
       "      <th>LoanAmount</th>\n",
       "      <th>Loan_Amount_Term</th>\n",
       "      <th>Credit_History</th>\n",
       "      <th>Property_Area</th>\n",
       "      <th>Loan_Status</th>\n",
       "      <th>Total_Income</th>\n",
       "      <th>EMI</th>\n",
       "      <th>LoanAmountTerm_per_TotalIncome</th>\n",
       "      <th>EMI_per_TotalIncome</th>\n",
       "      <th>EMI_per_LoanAmount</th>\n",
       "      <th>EMI_per_LoanAmountTerm</th>\n",
       "    </tr>\n",
       "  </thead>\n",
       "  <tbody>\n",
       "    <tr>\n",
       "      <th>0</th>\n",
       "      <td>1</td>\n",
       "      <td>0</td>\n",
       "      <td>0</td>\n",
       "      <td>0</td>\n",
       "      <td>0</td>\n",
       "      <td>0.117565</td>\n",
       "      <td>-0.589506</td>\n",
       "      <td>0.050394</td>\n",
       "      <td>0.270528</td>\n",
       "      <td>1</td>\n",
       "      <td>2</td>\n",
       "      <td>Y</td>\n",
       "      <td>-0.154913</td>\n",
       "      <td>-0.056339</td>\n",
       "      <td>0.093717</td>\n",
       "      <td>-0.052438</td>\n",
       "      <td>-0.103376</td>\n",
       "      <td>-0.058334</td>\n",
       "    </tr>\n",
       "    <tr>\n",
       "      <th>1</th>\n",
       "      <td>1</td>\n",
       "      <td>1</td>\n",
       "      <td>1</td>\n",
       "      <td>0</td>\n",
       "      <td>0</td>\n",
       "      <td>-0.104844</td>\n",
       "      <td>-0.034561</td>\n",
       "      <td>-0.190880</td>\n",
       "      <td>0.270528</td>\n",
       "      <td>1</td>\n",
       "      <td>0</td>\n",
       "      <td>N</td>\n",
       "      <td>-0.114719</td>\n",
       "      <td>-0.182096</td>\n",
       "      <td>-0.344574</td>\n",
       "      <td>-0.258894</td>\n",
       "      <td>-0.103376</td>\n",
       "      <td>-0.061805</td>\n",
       "    </tr>\n",
       "    <tr>\n",
       "      <th>2</th>\n",
       "      <td>1</td>\n",
       "      <td>1</td>\n",
       "      <td>0</td>\n",
       "      <td>0</td>\n",
       "      <td>1</td>\n",
       "      <td>-0.382944</td>\n",
       "      <td>-0.589506</td>\n",
       "      <td>-1.003329</td>\n",
       "      <td>0.270528</td>\n",
       "      <td>1</td>\n",
       "      <td>2</td>\n",
       "      <td>Y</td>\n",
       "      <td>-0.628099</td>\n",
       "      <td>-0.605563</td>\n",
       "      <td>-0.237069</td>\n",
       "      <td>-0.208254</td>\n",
       "      <td>-0.103376</td>\n",
       "      <td>-0.073492</td>\n",
       "    </tr>\n",
       "    <tr>\n",
       "      <th>3</th>\n",
       "      <td>1</td>\n",
       "      <td>1</td>\n",
       "      <td>0</td>\n",
       "      <td>1</td>\n",
       "      <td>0</td>\n",
       "      <td>-0.456202</td>\n",
       "      <td>0.278239</td>\n",
       "      <td>-0.295712</td>\n",
       "      <td>0.270528</td>\n",
       "      <td>1</td>\n",
       "      <td>2</td>\n",
       "      <td>Y</td>\n",
       "      <td>-0.305721</td>\n",
       "      <td>-0.236737</td>\n",
       "      <td>0.012393</td>\n",
       "      <td>-0.090745</td>\n",
       "      <td>-0.103376</td>\n",
       "      <td>-0.063313</td>\n",
       "    </tr>\n",
       "    <tr>\n",
       "      <th>4</th>\n",
       "      <td>1</td>\n",
       "      <td>0</td>\n",
       "      <td>0</td>\n",
       "      <td>0</td>\n",
       "      <td>0</td>\n",
       "      <td>0.144093</td>\n",
       "      <td>-0.589506</td>\n",
       "      <td>-0.020527</td>\n",
       "      <td>0.270528</td>\n",
       "      <td>1</td>\n",
       "      <td>2</td>\n",
       "      <td>Y</td>\n",
       "      <td>-0.129833</td>\n",
       "      <td>-0.093304</td>\n",
       "      <td>-0.073422</td>\n",
       "      <td>-0.131168</td>\n",
       "      <td>-0.103376</td>\n",
       "      <td>-0.059354</td>\n",
       "    </tr>\n",
       "    <tr>\n",
       "      <th>...</th>\n",
       "      <td>...</td>\n",
       "      <td>...</td>\n",
       "      <td>...</td>\n",
       "      <td>...</td>\n",
       "      <td>...</td>\n",
       "      <td>...</td>\n",
       "      <td>...</td>\n",
       "      <td>...</td>\n",
       "      <td>...</td>\n",
       "      <td>...</td>\n",
       "      <td>...</td>\n",
       "      <td>...</td>\n",
       "      <td>...</td>\n",
       "      <td>...</td>\n",
       "      <td>...</td>\n",
       "      <td>...</td>\n",
       "      <td>...</td>\n",
       "      <td>...</td>\n",
       "    </tr>\n",
       "    <tr>\n",
       "      <th>609</th>\n",
       "      <td>0</td>\n",
       "      <td>0</td>\n",
       "      <td>0</td>\n",
       "      <td>0</td>\n",
       "      <td>0</td>\n",
       "      <td>-0.400512</td>\n",
       "      <td>-0.589506</td>\n",
       "      <td>-0.937809</td>\n",
       "      <td>0.270528</td>\n",
       "      <td>1</td>\n",
       "      <td>0</td>\n",
       "      <td>Y</td>\n",
       "      <td>-0.644708</td>\n",
       "      <td>-0.571413</td>\n",
       "      <td>0.033796</td>\n",
       "      <td>-0.080664</td>\n",
       "      <td>-0.103376</td>\n",
       "      <td>-0.072550</td>\n",
       "    </tr>\n",
       "    <tr>\n",
       "      <th>610</th>\n",
       "      <td>1</td>\n",
       "      <td>1</td>\n",
       "      <td>3</td>\n",
       "      <td>0</td>\n",
       "      <td>0</td>\n",
       "      <td>-0.188643</td>\n",
       "      <td>-0.589506</td>\n",
       "      <td>-1.344034</td>\n",
       "      <td>-2.522372</td>\n",
       "      <td>1</td>\n",
       "      <td>0</td>\n",
       "      <td>Y</td>\n",
       "      <td>-0.444405</td>\n",
       "      <td>-0.700530</td>\n",
       "      <td>-1.574418</td>\n",
       "      <td>-0.686816</td>\n",
       "      <td>0.235637</td>\n",
       "      <td>-0.066293</td>\n",
       "    </tr>\n",
       "    <tr>\n",
       "      <th>611</th>\n",
       "      <td>1</td>\n",
       "      <td>1</td>\n",
       "      <td>1</td>\n",
       "      <td>0</td>\n",
       "      <td>0</td>\n",
       "      <td>0.508100</td>\n",
       "      <td>-0.501186</td>\n",
       "      <td>1.447124</td>\n",
       "      <td>0.270528</td>\n",
       "      <td>1</td>\n",
       "      <td>2</td>\n",
       "      <td>Y</td>\n",
       "      <td>0.254164</td>\n",
       "      <td>0.671669</td>\n",
       "      <td>0.683496</td>\n",
       "      <td>0.225375</td>\n",
       "      <td>-0.103376</td>\n",
       "      <td>-0.038241</td>\n",
       "    </tr>\n",
       "    <tr>\n",
       "      <th>612</th>\n",
       "      <td>1</td>\n",
       "      <td>1</td>\n",
       "      <td>2</td>\n",
       "      <td>0</td>\n",
       "      <td>0</td>\n",
       "      <td>0.422193</td>\n",
       "      <td>-0.589506</td>\n",
       "      <td>0.582258</td>\n",
       "      <td>0.270528</td>\n",
       "      <td>1</td>\n",
       "      <td>2</td>\n",
       "      <td>Y</td>\n",
       "      <td>0.133085</td>\n",
       "      <td>0.220881</td>\n",
       "      <td>0.053179</td>\n",
       "      <td>-0.071533</td>\n",
       "      <td>-0.103376</td>\n",
       "      <td>-0.050683</td>\n",
       "    </tr>\n",
       "    <tr>\n",
       "      <th>613</th>\n",
       "      <td>0</td>\n",
       "      <td>0</td>\n",
       "      <td>0</td>\n",
       "      <td>0</td>\n",
       "      <td>1</td>\n",
       "      <td>-0.104844</td>\n",
       "      <td>-0.589506</td>\n",
       "      <td>-0.125360</td>\n",
       "      <td>0.270528</td>\n",
       "      <td>0</td>\n",
       "      <td>1</td>\n",
       "      <td>N</td>\n",
       "      <td>-0.365181</td>\n",
       "      <td>-0.147945</td>\n",
       "      <td>0.528835</td>\n",
       "      <td>0.152522</td>\n",
       "      <td>-0.103376</td>\n",
       "      <td>-0.060862</td>\n",
       "    </tr>\n",
       "  </tbody>\n",
       "</table>\n",
       "<p>614 rows × 18 columns</p>\n",
       "</div>"
      ],
      "text/plain": [
       "     Gender  Married  Dependents  Education  Self_Employed  ApplicantIncome  \\\n",
       "0         1        0           0          0              0         0.117565   \n",
       "1         1        1           1          0              0        -0.104844   \n",
       "2         1        1           0          0              1        -0.382944   \n",
       "3         1        1           0          1              0        -0.456202   \n",
       "4         1        0           0          0              0         0.144093   \n",
       "..      ...      ...         ...        ...            ...              ...   \n",
       "609       0        0           0          0              0        -0.400512   \n",
       "610       1        1           3          0              0        -0.188643   \n",
       "611       1        1           1          0              0         0.508100   \n",
       "612       1        1           2          0              0         0.422193   \n",
       "613       0        0           0          0              1        -0.104844   \n",
       "\n",
       "     CoapplicantIncome  LoanAmount  Loan_Amount_Term  Credit_History  \\\n",
       "0            -0.589506    0.050394          0.270528               1   \n",
       "1            -0.034561   -0.190880          0.270528               1   \n",
       "2            -0.589506   -1.003329          0.270528               1   \n",
       "3             0.278239   -0.295712          0.270528               1   \n",
       "4            -0.589506   -0.020527          0.270528               1   \n",
       "..                 ...         ...               ...             ...   \n",
       "609          -0.589506   -0.937809          0.270528               1   \n",
       "610          -0.589506   -1.344034         -2.522372               1   \n",
       "611          -0.501186    1.447124          0.270528               1   \n",
       "612          -0.589506    0.582258          0.270528               1   \n",
       "613          -0.589506   -0.125360          0.270528               0   \n",
       "\n",
       "     Property_Area Loan_Status  Total_Income       EMI  \\\n",
       "0                2           Y     -0.154913 -0.056339   \n",
       "1                0           N     -0.114719 -0.182096   \n",
       "2                2           Y     -0.628099 -0.605563   \n",
       "3                2           Y     -0.305721 -0.236737   \n",
       "4                2           Y     -0.129833 -0.093304   \n",
       "..             ...         ...           ...       ...   \n",
       "609              0           Y     -0.644708 -0.571413   \n",
       "610              0           Y     -0.444405 -0.700530   \n",
       "611              2           Y      0.254164  0.671669   \n",
       "612              2           Y      0.133085  0.220881   \n",
       "613              1           N     -0.365181 -0.147945   \n",
       "\n",
       "     LoanAmountTerm_per_TotalIncome  EMI_per_TotalIncome  EMI_per_LoanAmount  \\\n",
       "0                          0.093717            -0.052438           -0.103376   \n",
       "1                         -0.344574            -0.258894           -0.103376   \n",
       "2                         -0.237069            -0.208254           -0.103376   \n",
       "3                          0.012393            -0.090745           -0.103376   \n",
       "4                         -0.073422            -0.131168           -0.103376   \n",
       "..                              ...                  ...                 ...   \n",
       "609                        0.033796            -0.080664           -0.103376   \n",
       "610                       -1.574418            -0.686816            0.235637   \n",
       "611                        0.683496             0.225375           -0.103376   \n",
       "612                        0.053179            -0.071533           -0.103376   \n",
       "613                        0.528835             0.152522           -0.103376   \n",
       "\n",
       "     EMI_per_LoanAmountTerm  \n",
       "0                 -0.058334  \n",
       "1                 -0.061805  \n",
       "2                 -0.073492  \n",
       "3                 -0.063313  \n",
       "4                 -0.059354  \n",
       "..                      ...  \n",
       "609               -0.072550  \n",
       "610               -0.066293  \n",
       "611               -0.038241  \n",
       "612               -0.050683  \n",
       "613               -0.060862  \n",
       "\n",
       "[614 rows x 18 columns]"
      ]
     },
     "execution_count": 31,
     "metadata": {},
     "output_type": "execute_result"
    }
   ],
   "source": [
    "combine_set[combine_set['Loan_Status'].isnull()==False]"
   ]
  },
  {
   "cell_type": "code",
   "execution_count": 32,
   "id": "368e14f2",
   "metadata": {},
   "outputs": [],
   "source": [
    "train_df=combine_set[combine_set['Loan_Status'].isnull()==False]\n",
    "test_df=combine_set[combine_set['Loan_Status'].isnull()==True]"
   ]
  },
  {
   "cell_type": "code",
   "execution_count": 33,
   "id": "c5dd3323",
   "metadata": {},
   "outputs": [
    {
     "name": "stderr",
     "output_type": "stream",
     "text": [
      "C:\\Users\\quypr\\AppData\\Local\\Temp/ipykernel_15616/3963069098.py:2: SettingWithCopyWarning: \n",
      "A value is trying to be set on a copy of a slice from a DataFrame.\n",
      "Try using .loc[row_indexer,col_indexer] = value instead\n",
      "\n",
      "See the caveats in the documentation: https://pandas.pydata.org/pandas-docs/stable/user_guide/indexing.html#returning-a-view-versus-a-copy\n",
      "  train_df['Loan_Status'] = train_df['Loan_Status'].apply(lambda x: 1 if x == \"Y\" else 0)\n"
     ]
    }
   ],
   "source": [
    "# specify input and output attributes\n",
    "train_df['Loan_Status'] = train_df['Loan_Status'].apply(lambda x: 1 if x == \"Y\" else 0)\n",
    "X = train_df.drop(columns=['Loan_Status'], axis=1)\n",
    "y = train_df['Loan_Status']\n",
    "\n",
    "# drop target column (which is blank) from test dataset\n",
    "test =test_df.drop(['Loan_Status'],axis=1)"
   ]
  },
  {
   "cell_type": "markdown",
   "metadata": {},
   "source": [
    "#### Feature important (dùng random forest)"
   ]
  },
  {
   "cell_type": "code",
   "execution_count": 34,
   "metadata": {},
   "outputs": [
    {
     "data": {
      "text/plain": [
       "RandomForestClassifier()"
      ]
     },
     "execution_count": 34,
     "metadata": {},
     "output_type": "execute_result"
    }
   ],
   "source": [
    "rdf_clf = RandomForestClassifier()\n",
    "rdf_clf.fit((\"Loan_Amount_Term\"),y)"
   ]
  },
  {
   "cell_type": "code",
   "execution_count": 35,
   "metadata": {},
   "outputs": [
    {
     "data": {
      "text/plain": [
       "array(['Gender', 'Married', 'Dependents', 'Education', 'Self_Employed',\n",
       "       'ApplicantIncome', 'CoapplicantIncome', 'LoanAmount',\n",
       "       'Loan_Amount_Term', 'Credit_History', 'Property_Area',\n",
       "       'Total_Income', 'EMI', 'LoanAmountTerm_per_TotalIncome',\n",
       "       'EMI_per_TotalIncome', 'EMI_per_LoanAmount',\n",
       "       'EMI_per_LoanAmountTerm'], dtype=object)"
      ]
     },
     "execution_count": 35,
     "metadata": {},
     "output_type": "execute_result"
    }
   ],
   "source": [
    "rdf_clf.feature_names_in_"
   ]
  },
  {
   "cell_type": "code",
   "execution_count": 36,
   "metadata": {},
   "outputs": [
    {
     "data": {
      "text/plain": [
       "array([ 9, 13, 11,  5, 14, 16, 12,  7,  6, 10,  2,  8,  1, 15,  3,  0,  4],\n",
       "      dtype=int64)"
      ]
     },
     "execution_count": 36,
     "metadata": {},
     "output_type": "execute_result"
    }
   ],
   "source": [
    "np.argsort(rdf_clf.feature_importances_)[::-1]"
   ]
  },
  {
   "cell_type": "code",
   "execution_count": 37,
   "metadata": {},
   "outputs": [
    {
     "data": {
      "text/plain": [
       "array([0.01068149, 0.01339583, 0.02156677, 0.0127158 , 0.0103001 ,\n",
       "       0.08813343, 0.0528008 , 0.06577678, 0.01409456, 0.25589886,\n",
       "       0.02872633, 0.08943689, 0.06741217, 0.10262824, 0.08502892,\n",
       "       0.01301505, 0.06838798])"
      ]
     },
     "execution_count": 37,
     "metadata": {},
     "output_type": "execute_result"
    }
   ],
   "source": [
    "rdf_clf.feature_importances_"
   ]
  },
  {
   "cell_type": "code",
   "execution_count": 38,
   "metadata": {},
   "outputs": [],
   "source": [
    "name = []\n",
    "value = []"
   ]
  },
  {
   "cell_type": "code",
   "execution_count": 39,
   "metadata": {},
   "outputs": [
    {
     "name": "stdout",
     "output_type": "stream",
     "text": [
      "Credit_History :  0.25589885649661775\n",
      "LoanAmountTerm_per_TotalIncome :  0.10262823707635059\n",
      "Total_Income :  0.08943689301618903\n",
      "ApplicantIncome :  0.08813343392300783\n",
      "EMI_per_TotalIncome :  0.085028919988377\n",
      "EMI_per_LoanAmountTerm :  0.06838797846034174\n",
      "EMI :  0.06741216714409139\n",
      "LoanAmount :  0.06577677731623262\n",
      "CoapplicantIncome :  0.05280080330723115\n",
      "Property_Area :  0.028726328639176017\n",
      "Dependents :  0.021566765077386932\n",
      "Loan_Amount_Term :  0.01409456231767058\n",
      "Married :  0.013395834248768028\n",
      "EMI_per_LoanAmount :  0.01301505319532536\n",
      "Education :  0.012715800758586894\n",
      "Gender :  0.010681492485460542\n",
      "Self_Employed :  0.010300096549186726\n"
     ]
    }
   ],
   "source": [
    "for idx in (np.argsort(rdf_clf.feature_importances_)[::-1]):\n",
    "    name.append(rdf_clf.feature_names_in_[idx])\n",
    "    value.append(rdf_clf.feature_importances_[idx] )\n",
    "    print(rdf_clf.feature_names_in_[idx] , \": \" , rdf_clf.feature_importances_[idx] )"
   ]
  },
  {
   "cell_type": "code",
   "execution_count": 40,
   "metadata": {},
   "outputs": [
    {
     "data": {
      "text/html": [
       "<div>\n",
       "<style scoped>\n",
       "    .dataframe tbody tr th:only-of-type {\n",
       "        vertical-align: middle;\n",
       "    }\n",
       "\n",
       "    .dataframe tbody tr th {\n",
       "        vertical-align: top;\n",
       "    }\n",
       "\n",
       "    .dataframe thead th {\n",
       "        text-align: right;\n",
       "    }\n",
       "</style>\n",
       "<table border=\"1\" class=\"dataframe\">\n",
       "  <thead>\n",
       "    <tr style=\"text-align: right;\">\n",
       "      <th></th>\n",
       "      <th>index</th>\n",
       "      <th>Value</th>\n",
       "    </tr>\n",
       "  </thead>\n",
       "  <tbody>\n",
       "    <tr>\n",
       "      <th>0</th>\n",
       "      <td>Credit_History</td>\n",
       "      <td>0.255899</td>\n",
       "    </tr>\n",
       "    <tr>\n",
       "      <th>1</th>\n",
       "      <td>LoanAmountTerm_per_TotalIncome</td>\n",
       "      <td>0.102628</td>\n",
       "    </tr>\n",
       "    <tr>\n",
       "      <th>2</th>\n",
       "      <td>Total_Income</td>\n",
       "      <td>0.089437</td>\n",
       "    </tr>\n",
       "    <tr>\n",
       "      <th>3</th>\n",
       "      <td>ApplicantIncome</td>\n",
       "      <td>0.088133</td>\n",
       "    </tr>\n",
       "    <tr>\n",
       "      <th>4</th>\n",
       "      <td>EMI_per_TotalIncome</td>\n",
       "      <td>0.085029</td>\n",
       "    </tr>\n",
       "    <tr>\n",
       "      <th>5</th>\n",
       "      <td>EMI_per_LoanAmountTerm</td>\n",
       "      <td>0.068388</td>\n",
       "    </tr>\n",
       "    <tr>\n",
       "      <th>6</th>\n",
       "      <td>EMI</td>\n",
       "      <td>0.067412</td>\n",
       "    </tr>\n",
       "    <tr>\n",
       "      <th>7</th>\n",
       "      <td>LoanAmount</td>\n",
       "      <td>0.065777</td>\n",
       "    </tr>\n",
       "    <tr>\n",
       "      <th>8</th>\n",
       "      <td>CoapplicantIncome</td>\n",
       "      <td>0.052801</td>\n",
       "    </tr>\n",
       "    <tr>\n",
       "      <th>9</th>\n",
       "      <td>Property_Area</td>\n",
       "      <td>0.028726</td>\n",
       "    </tr>\n",
       "    <tr>\n",
       "      <th>10</th>\n",
       "      <td>Dependents</td>\n",
       "      <td>0.021567</td>\n",
       "    </tr>\n",
       "    <tr>\n",
       "      <th>11</th>\n",
       "      <td>Loan_Amount_Term</td>\n",
       "      <td>0.014095</td>\n",
       "    </tr>\n",
       "    <tr>\n",
       "      <th>12</th>\n",
       "      <td>Married</td>\n",
       "      <td>0.013396</td>\n",
       "    </tr>\n",
       "    <tr>\n",
       "      <th>13</th>\n",
       "      <td>EMI_per_LoanAmount</td>\n",
       "      <td>0.013015</td>\n",
       "    </tr>\n",
       "    <tr>\n",
       "      <th>14</th>\n",
       "      <td>Education</td>\n",
       "      <td>0.012716</td>\n",
       "    </tr>\n",
       "    <tr>\n",
       "      <th>15</th>\n",
       "      <td>Gender</td>\n",
       "      <td>0.010681</td>\n",
       "    </tr>\n",
       "    <tr>\n",
       "      <th>16</th>\n",
       "      <td>Self_Employed</td>\n",
       "      <td>0.010300</td>\n",
       "    </tr>\n",
       "  </tbody>\n",
       "</table>\n",
       "</div>"
      ],
      "text/plain": [
       "                             index     Value\n",
       "0                   Credit_History  0.255899\n",
       "1   LoanAmountTerm_per_TotalIncome  0.102628\n",
       "2                     Total_Income  0.089437\n",
       "3                  ApplicantIncome  0.088133\n",
       "4              EMI_per_TotalIncome  0.085029\n",
       "5           EMI_per_LoanAmountTerm  0.068388\n",
       "6                              EMI  0.067412\n",
       "7                       LoanAmount  0.065777\n",
       "8                CoapplicantIncome  0.052801\n",
       "9                    Property_Area  0.028726\n",
       "10                      Dependents  0.021567\n",
       "11                Loan_Amount_Term  0.014095\n",
       "12                         Married  0.013396\n",
       "13              EMI_per_LoanAmount  0.013015\n",
       "14                       Education  0.012716\n",
       "15                          Gender  0.010681\n",
       "16                   Self_Employed  0.010300"
      ]
     },
     "execution_count": 40,
     "metadata": {},
     "output_type": "execute_result"
    }
   ],
   "source": [
    "p = pd.DataFrame({\"Value\":value},index=name,).reset_index()\n",
    "p"
   ]
  },
  {
   "cell_type": "code",
   "execution_count": 41,
   "metadata": {},
   "outputs": [
    {
     "data": {
      "text/plain": [
       "Text(0.5, 0, 'Ranking')"
      ]
     },
     "execution_count": 41,
     "metadata": {},
     "output_type": "execute_result"
    },
    {
     "data": {
      "image/png": "[encoded data removed]",
      "text/plain": [
       "<Figure size 1080x720 with 1 Axes>"
      ]
     },
     "metadata": {
      "needs_background": "light"
     },
     "output_type": "display_data"
    }
   ],
   "source": [
    "plt.figure(figsize = (15,10))\n",
    "sns.barplot(data = p,x = 'Value',y='index')\n",
    "plt.ylabel(\"Variable\")\n",
    "plt.xlabel(\"Ranking\")"
   ]
  },
  {
   "cell_type": "code",
   "execution_count": 42,
   "metadata": {},
   "outputs": [
    {
     "name": "stdout",
     "output_type": "stream",
     "text": [
      "Total_Income :  0.08943689301618903\n",
      "ApplicantIncome :  0.08813343392300783\n",
      "EMI_per_TotalIncome :  0.085028919988377\n",
      "LoanAmountTerm_per_TotalIncome :  0.10262823707635059\n",
      "Credit_History :  0.25589885649661775\n",
      "EMI_per_LoanAmountTerm :  0.06838797846034174\n",
      "EMI :  0.06741216714409139\n",
      "LoanAmount :  0.06577677731623262\n",
      "CoapplicantIncome :  0.05280080330723115\n"
     ]
    }
   ],
   "source": [
    "for idx in np.argpartition(rdf_clf.feature_importances_,-9)[::-1][:9]:\n",
    "    print(rdf_clf.feature_names_in_[idx] , \": \" , rdf_clf.feature_importances_[idx] )"
   ]
  },
  {
   "cell_type": "code",
   "execution_count": 43,
   "metadata": {},
   "outputs": [
    {
     "data": {
      "text/plain": [
       "array(['Total_Income', 'ApplicantIncome', 'EMI_per_TotalIncome',\n",
       "       'LoanAmountTerm_per_TotalIncome', 'Credit_History',\n",
       "       'EMI_per_LoanAmountTerm', 'EMI', 'LoanAmount', 'CoapplicantIncome'],\n",
       "      dtype=object)"
      ]
     },
     "execution_count": 43,
     "metadata": {},
     "output_type": "execute_result"
    }
   ],
   "source": [
    "rdf_clf.feature_names_in_[np.argpartition(rdf_clf.feature_importances_,-9)[::-1][:9]]"
   ]
  },
  {
   "cell_type": "code",
   "execution_count": 44,
   "metadata": {},
   "outputs": [],
   "source": [
    "X = X[rdf_clf.feature_names_in_[np.argpartition(rdf_clf.feature_importances_,-9)[::-1][:9]]]"
   ]
  },
  {
   "cell_type": "code",
   "execution_count": 45,
   "metadata": {},
   "outputs": [
    {
     "data": {
      "text/html": [
       "<div>\n",
       "<style scoped>\n",
       "    .dataframe tbody tr th:only-of-type {\n",
       "        vertical-align: middle;\n",
       "    }\n",
       "\n",
       "    .dataframe tbody tr th {\n",
       "        vertical-align: top;\n",
       "    }\n",
       "\n",
       "    .dataframe thead th {\n",
       "        text-align: right;\n",
       "    }\n",
       "</style>\n",
       "<table border=\"1\" class=\"dataframe\">\n",
       "  <thead>\n",
       "    <tr style=\"text-align: right;\">\n",
       "      <th></th>\n",
       "      <th>Total_Income</th>\n",
       "      <th>ApplicantIncome</th>\n",
       "      <th>EMI_per_TotalIncome</th>\n",
       "      <th>LoanAmountTerm_per_TotalIncome</th>\n",
       "      <th>Credit_History</th>\n",
       "      <th>EMI_per_LoanAmountTerm</th>\n",
       "      <th>EMI</th>\n",
       "      <th>LoanAmount</th>\n",
       "      <th>CoapplicantIncome</th>\n",
       "    </tr>\n",
       "  </thead>\n",
       "  <tbody>\n",
       "    <tr>\n",
       "      <th>0</th>\n",
       "      <td>-0.154913</td>\n",
       "      <td>0.117565</td>\n",
       "      <td>-0.052438</td>\n",
       "      <td>0.093717</td>\n",
       "      <td>1</td>\n",
       "      <td>-0.058334</td>\n",
       "      <td>-0.056339</td>\n",
       "      <td>0.050394</td>\n",
       "      <td>-0.589506</td>\n",
       "    </tr>\n",
       "    <tr>\n",
       "      <th>1</th>\n",
       "      <td>-0.114719</td>\n",
       "      <td>-0.104844</td>\n",
       "      <td>-0.258894</td>\n",
       "      <td>-0.344574</td>\n",
       "      <td>1</td>\n",
       "      <td>-0.061805</td>\n",
       "      <td>-0.182096</td>\n",
       "      <td>-0.190880</td>\n",
       "      <td>-0.034561</td>\n",
       "    </tr>\n",
       "    <tr>\n",
       "      <th>2</th>\n",
       "      <td>-0.628099</td>\n",
       "      <td>-0.382944</td>\n",
       "      <td>-0.208254</td>\n",
       "      <td>-0.237069</td>\n",
       "      <td>1</td>\n",
       "      <td>-0.073492</td>\n",
       "      <td>-0.605563</td>\n",
       "      <td>-1.003329</td>\n",
       "      <td>-0.589506</td>\n",
       "    </tr>\n",
       "    <tr>\n",
       "      <th>3</th>\n",
       "      <td>-0.305721</td>\n",
       "      <td>-0.456202</td>\n",
       "      <td>-0.090745</td>\n",
       "      <td>0.012393</td>\n",
       "      <td>1</td>\n",
       "      <td>-0.063313</td>\n",
       "      <td>-0.236737</td>\n",
       "      <td>-0.295712</td>\n",
       "      <td>0.278239</td>\n",
       "    </tr>\n",
       "    <tr>\n",
       "      <th>4</th>\n",
       "      <td>-0.129833</td>\n",
       "      <td>0.144093</td>\n",
       "      <td>-0.131168</td>\n",
       "      <td>-0.073422</td>\n",
       "      <td>1</td>\n",
       "      <td>-0.059354</td>\n",
       "      <td>-0.093304</td>\n",
       "      <td>-0.020527</td>\n",
       "      <td>-0.589506</td>\n",
       "    </tr>\n",
       "  </tbody>\n",
       "</table>\n",
       "</div>"
      ],
      "text/plain": [
       "   Total_Income  ApplicantIncome  EMI_per_TotalIncome  \\\n",
       "0     -0.154913         0.117565            -0.052438   \n",
       "1     -0.114719        -0.104844            -0.258894   \n",
       "2     -0.628099        -0.382944            -0.208254   \n",
       "3     -0.305721        -0.456202            -0.090745   \n",
       "4     -0.129833         0.144093            -0.131168   \n",
       "\n",
       "   LoanAmountTerm_per_TotalIncome  Credit_History  EMI_per_LoanAmountTerm  \\\n",
       "0                        0.093717               1               -0.058334   \n",
       "1                       -0.344574               1               -0.061805   \n",
       "2                       -0.237069               1               -0.073492   \n",
       "3                        0.012393               1               -0.063313   \n",
       "4                       -0.073422               1               -0.059354   \n",
       "\n",
       "        EMI  LoanAmount  CoapplicantIncome  \n",
       "0 -0.056339    0.050394          -0.589506  \n",
       "1 -0.182096   -0.190880          -0.034561  \n",
       "2 -0.605563   -1.003329          -0.589506  \n",
       "3 -0.236737   -0.295712           0.278239  \n",
       "4 -0.093304   -0.020527          -0.589506  "
      ]
     },
     "execution_count": 45,
     "metadata": {},
     "output_type": "execute_result"
    }
   ],
   "source": [
    "X.head(5)"
   ]
  },
  {
   "cell_type": "markdown",
   "metadata": {},
   "source": [
    "#### Split data"
   ]
  },
  {
   "cell_type": "code",
   "execution_count": 46,
   "metadata": {},
   "outputs": [],
   "source": [
    "from sklearn.model_selection import train_test_split\n",
    "x_train, x_test, y_train, y_test = train_test_split(X, y, test_size=0.2, random_state=42)"
   ]
  },
  {
   "cell_type": "markdown",
   "metadata": {},
   "source": [
    "# Model"
   ]
  },
  {
   "cell_type": "code",
   "execution_count": 47,
   "metadata": {},
   "outputs": [],
   "source": [
    "models = [LogisticRegression(),SGDClassifier(),RandomForestClassifier(),KNeighborsClassifier(),SVC(),DecisionTreeClassifier(),ExtraTreesClassifier(),GradientBoostingClassifier(),XGBClassifier()]\n",
    "model_score = {}\n",
    "\n",
    "for model in models:\n",
    "    score = cross_val_score(model,x_train,y_train,cv = 5,scoring = 'accuracy')\n",
    "    model_score[type(model).__name__] = score\n"
   ]
  },
  {
   "cell_type": "code",
   "execution_count": 48,
   "metadata": {},
   "outputs": [],
   "source": [
    "models_accu = [LogisticRegression(),SGDClassifier(),RandomForestClassifier(),KNeighborsClassifier(),SVC(),DecisionTreeClassifier(),ExtraTreesClassifier(),GradientBoostingClassifier(),XGBClassifier()]\n",
    "model_score_accu = {}\n",
    "\n",
    "for model in models_accu:\n",
    "    model.fit(x_train,y_train)\n",
    "    score = accuracy_score(y_test,model.predict(x_test))\n",
    "    model_score_accu[type(model).__name__] = score\n"
   ]
  },
  {
   "cell_type": "code",
   "execution_count": 49,
   "metadata": {},
   "outputs": [
    {
     "name": "stdout",
     "output_type": "stream",
     "text": [
      "LogisticRegression: 78.04878048780488\n",
      "SGDClassifier: 77.23577235772358\n",
      "RandomForestClassifier: 78.04878048780488\n",
      "KNeighborsClassifier: 79.67479674796748\n",
      "SVC: 80.48780487804879\n",
      "DecisionTreeClassifier: 78.04878048780488\n",
      "ExtraTreesClassifier: 78.86178861788618\n",
      "GradientBoostingClassifier: 77.23577235772358\n",
      "XGBClassifier: 78.86178861788618\n"
     ]
    }
   ],
   "source": [
    "for key,value in model_score_accu.items():\n",
    "    print(key + \": \" + str(value*100))"
   ]
  },
  {
   "cell_type": "code",
   "execution_count": 50,
   "metadata": {},
   "outputs": [],
   "source": [
    "models_f1 = [LogisticRegression(),SGDClassifier(),RandomForestClassifier(),KNeighborsClassifier(),SVC(),DecisionTreeClassifier(),ExtraTreesClassifier(),GradientBoostingClassifier(),XGBClassifier()]\n",
    "model_score_f1 = {}\n",
    "\n",
    "for model in models_f1:\n",
    "    model.fit(x_train,y_train)\n",
    "    score = f1_score(y_test,model.predict(x_test))\n",
    "    model_score_f1[type(model).__name__] = score\n"
   ]
  },
  {
   "cell_type": "code",
   "execution_count": 51,
   "metadata": {},
   "outputs": [
    {
     "name": "stdout",
     "output_type": "stream",
     "text": [
      "LogisticRegression: 85.24590163934427\n",
      "SGDClassifier: 85.87570621468925\n",
      "RandomForestClassifier: 85.0574712643678\n",
      "KNeighborsClassifier: 85.71428571428572\n",
      "SVC: 86.81318681318682\n",
      "DecisionTreeClassifier: 81.98757763975155\n",
      "ExtraTreesClassifier: 85.71428571428572\n",
      "GradientBoostingClassifier: 83.42857142857143\n",
      "XGBClassifier: 85.22727272727273\n"
     ]
    }
   ],
   "source": [
    "for key,value in model_score_f1.items():\n",
    "    print(key + \": \" + str(value*100))"
   ]
  },
  {
   "cell_type": "code",
   "execution_count": 52,
   "metadata": {},
   "outputs": [
    {
     "data": {
      "text/html": [
       "<div>\n",
       "<style scoped>\n",
       "    .dataframe tbody tr th:only-of-type {\n",
       "        vertical-align: middle;\n",
       "    }\n",
       "\n",
       "    .dataframe tbody tr th {\n",
       "        vertical-align: top;\n",
       "    }\n",
       "\n",
       "    .dataframe thead th {\n",
       "        text-align: right;\n",
       "    }\n",
       "</style>\n",
       "<table border=\"1\" class=\"dataframe\">\n",
       "  <thead>\n",
       "    <tr style=\"text-align: right;\">\n",
       "      <th></th>\n",
       "      <th>LogisticRegression</th>\n",
       "      <th>SGDClassifier</th>\n",
       "      <th>RandomForestClassifier</th>\n",
       "      <th>KNeighborsClassifier</th>\n",
       "      <th>SVC</th>\n",
       "      <th>DecisionTreeClassifier</th>\n",
       "      <th>ExtraTreesClassifier</th>\n",
       "      <th>GradientBoostingClassifier</th>\n",
       "      <th>XGBClassifier</th>\n",
       "    </tr>\n",
       "  </thead>\n",
       "  <tbody>\n",
       "    <tr>\n",
       "      <th>0</th>\n",
       "      <td>0.828283</td>\n",
       "      <td>0.808081</td>\n",
       "      <td>0.828283</td>\n",
       "      <td>0.808081</td>\n",
       "      <td>0.818182</td>\n",
       "      <td>0.757576</td>\n",
       "      <td>0.838384</td>\n",
       "      <td>0.828283</td>\n",
       "      <td>0.828283</td>\n",
       "    </tr>\n",
       "    <tr>\n",
       "      <th>1</th>\n",
       "      <td>0.816327</td>\n",
       "      <td>0.693878</td>\n",
       "      <td>0.755102</td>\n",
       "      <td>0.785714</td>\n",
       "      <td>0.795918</td>\n",
       "      <td>0.714286</td>\n",
       "      <td>0.734694</td>\n",
       "      <td>0.755102</td>\n",
       "      <td>0.744898</td>\n",
       "    </tr>\n",
       "    <tr>\n",
       "      <th>2</th>\n",
       "      <td>0.816327</td>\n",
       "      <td>0.744898</td>\n",
       "      <td>0.795918</td>\n",
       "      <td>0.785714</td>\n",
       "      <td>0.806122</td>\n",
       "      <td>0.755102</td>\n",
       "      <td>0.755102</td>\n",
       "      <td>0.816327</td>\n",
       "      <td>0.795918</td>\n",
       "    </tr>\n",
       "    <tr>\n",
       "      <th>3</th>\n",
       "      <td>0.795918</td>\n",
       "      <td>0.724490</td>\n",
       "      <td>0.755102</td>\n",
       "      <td>0.785714</td>\n",
       "      <td>0.785714</td>\n",
       "      <td>0.704082</td>\n",
       "      <td>0.755102</td>\n",
       "      <td>0.775510</td>\n",
       "      <td>0.744898</td>\n",
       "    </tr>\n",
       "    <tr>\n",
       "      <th>4</th>\n",
       "      <td>0.816327</td>\n",
       "      <td>0.612245</td>\n",
       "      <td>0.775510</td>\n",
       "      <td>0.755102</td>\n",
       "      <td>0.806122</td>\n",
       "      <td>0.714286</td>\n",
       "      <td>0.806122</td>\n",
       "      <td>0.795918</td>\n",
       "      <td>0.755102</td>\n",
       "    </tr>\n",
       "  </tbody>\n",
       "</table>\n",
       "</div>"
      ],
      "text/plain": [
       "   LogisticRegression  SGDClassifier  RandomForestClassifier  \\\n",
       "0            0.828283       0.808081                0.828283   \n",
       "1            0.816327       0.693878                0.755102   \n",
       "2            0.816327       0.744898                0.795918   \n",
       "3            0.795918       0.724490                0.755102   \n",
       "4            0.816327       0.612245                0.775510   \n",
       "\n",
       "   KNeighborsClassifier       SVC  DecisionTreeClassifier  \\\n",
       "0              0.808081  0.818182                0.757576   \n",
       "1              0.785714  0.795918                0.714286   \n",
       "2              0.785714  0.806122                0.755102   \n",
       "3              0.785714  0.785714                0.704082   \n",
       "4              0.755102  0.806122                0.714286   \n",
       "\n",
       "   ExtraTreesClassifier  GradientBoostingClassifier  XGBClassifier  \n",
       "0              0.838384                    0.828283       0.828283  \n",
       "1              0.734694                    0.755102       0.744898  \n",
       "2              0.755102                    0.816327       0.795918  \n",
       "3              0.755102                    0.775510       0.744898  \n",
       "4              0.806122                    0.795918       0.755102  "
      ]
     },
     "execution_count": 52,
     "metadata": {},
     "output_type": "execute_result"
    }
   ],
   "source": [
    "pd.DataFrame(model_score)"
   ]
  },
  {
   "cell_type": "code",
   "execution_count": 53,
   "metadata": {},
   "outputs": [],
   "source": [
    "def anova(scores):\n",
    "    mean = 0\n",
    "    for i in range(len(scores)):\n",
    "        mean += scores[i].mean()\n",
    "    mean /= len(scores)\n",
    "    SSA = 0\n",
    "    SSE = 0\n",
    "\n",
    "    for i in range(len(scores)):\n",
    "        SSA += 5*(mean - scores[i].mean())**2 \n",
    "        SSE += sum((scores[i].mean() - scores[i])**2) \n",
    "    dfr = len(scores)*len(scores[0]) - len(scores) \n",
    "    MSA = SSA / (len(scores) - 1)\n",
    "    MSE = SSE / dfr\n",
    "    F = MSA / MSE\n",
    "    print(\"--------------------------------------------------------------------------------\")\n",
    "    print (\"{:<20} {:<20} {:<20} {:<20} {:<20} {:<20} \".format('Source','df','SS',\"MS\",\"F\",\"P-value\"))\n",
    "    print (\"{:<20} {:<20} {:<20} {:<20} {:<20} {:<20} \".format('Display',len(scores) - 1,SSA.round(10),MSA.round(10),F.round(10),scipy.stats.f.sf(abs(F),len(scores) - 1,dfr)))\n",
    "    print (\"{:<20} {:<20} {:<20} {:<20} \".format('Residuals',dfr,SSE.round(7),MSE.round(7)))"
   ]
  },
  {
   "cell_type": "markdown",
   "metadata": {},
   "source": [
    "* $H_0 : \\mu_1 = \\mu_2 = ... = \\mu_8$\n",
    "* $H_1 : \\mu_1 \\neq \\mu_2 = ... \\neq \\mu_8$\n"
   ]
  },
  {
   "cell_type": "markdown",
   "metadata": {},
   "source": [
    "Với $\\alpha = 0.05$"
   ]
  },
  {
   "cell_type": "code",
   "execution_count": 54,
   "metadata": {},
   "outputs": [
    {
     "name": "stdout",
     "output_type": "stream",
     "text": [
      "--------------------------------------------------------------------------------\n",
      "Source               df                   SS                   MS                   F                    P-value              \n",
      "Display              7                    0.041232915          0.0058904164         4.2331259541         0.0020919212295060162 \n",
      "Residuals            32                   0.0445282            0.0013915            \n"
     ]
    }
   ],
   "source": [
    "anova([model_score[\"LogisticRegression\"],model_score[\"SGDClassifier\"],model_score['RandomForestClassifier'],model_score['SVC'],model_score['DecisionTreeClassifier'],model_score['ExtraTreesClassifier'],model_score['GradientBoostingClassifier'],model_score['XGBClassifier']])"
   ]
  },
  {
   "cell_type": "markdown",
   "metadata": {},
   "source": [
    "vì P-value = 0.02184 < $\\alpha = 0.05$ nên bác bỏ $H_0$. Vậy có sự khác nhau giữa các mô hình"
   ]
  },
  {
   "cell_type": "code",
   "execution_count": 55,
   "metadata": {},
   "outputs": [
    {
     "data": {
      "text/plain": [
       "<AxesSubplot:>"
      ]
     },
     "execution_count": 55,
     "metadata": {},
     "output_type": "execute_result"
    },
    {
     "data": {
      "image/png": "[encoded data removed]",
      "text/plain": [
       "<Figure size 1800x1080 with 1 Axes>"
      ]
     },
     "metadata": {
      "needs_background": "light"
     },
     "output_type": "display_data"
    }
   ],
   "source": [
    "plt.figure(figsize = (25,15))\n",
    "sns.boxplot(data = pd.DataFrame(model_score))"
   ]
  },
  {
   "cell_type": "markdown",
   "metadata": {},
   "source": [
    "# Thử nghiệm các mô hình khác nhau"
   ]
  },
  {
   "cell_type": "markdown",
   "metadata": {},
   "source": [
    "## Thử nghiệm trên mô hình Logistic Regression"
   ]
  },
  {
   "cell_type": "code",
   "execution_count": 56,
   "metadata": {},
   "outputs": [
    {
     "data": {
      "text/plain": [
       "LogisticRegression()"
      ]
     },
     "execution_count": 56,
     "metadata": {},
     "output_type": "execute_result"
    }
   ],
   "source": [
    "log_clf = LogisticRegression()\n",
    "log_clf.fit(x_train,y_train)"
   ]
  },
  {
   "cell_type": "code",
   "execution_count": 57,
   "metadata": {},
   "outputs": [],
   "source": [
    "y_score = cross_val_predict(log_clf,x_train,y_train,cv =3 ,method= 'decision_function')"
   ]
  },
  {
   "cell_type": "code",
   "execution_count": 58,
   "metadata": {},
   "outputs": [
    {
     "data": {
      "text/plain": [
       "array([[ 70,  79],\n",
       "       [  7, 335]], dtype=int64)"
      ]
     },
     "execution_count": 58,
     "metadata": {},
     "output_type": "execute_result"
    }
   ],
   "source": [
    "confusion_matrix(y_train,log_clf.predict(x_train))"
   ]
  },
  {
   "cell_type": "code",
   "execution_count": 59,
   "metadata": {},
   "outputs": [],
   "source": [
    "precision, recall, threshold = precision_recall_curve(y_train,y_score)  "
   ]
  },
  {
   "cell_type": "code",
   "execution_count": 60,
   "metadata": {},
   "outputs": [
    {
     "data": {
      "text/plain": [
       "<matplotlib.legend.Legend at 0x197ad233070>"
      ]
     },
     "execution_count": 60,
     "metadata": {},
     "output_type": "execute_result"
    },
    {
     "data": {
      "image/png": "[encoded data removed]",
      "text/plain": [
       "<Figure size 720x720 with 1 Axes>"
      ]
     },
     "metadata": {
      "needs_background": "light"
     },
     "output_type": "display_data"
    }
   ],
   "source": [
    "plt.figure(figsize = (10,10))\n",
    "plt.plot(threshold,precision[:-1],'b-',label = 'Precision')\n",
    "plt.plot(threshold,recall[:-1],'r-',label = 'Recall')\n",
    "plt.ylim([0,1])\n",
    "plt.plot([threshold[np.argmax(precision >= 0.8)],threshold[np.argmax(precision >= 0.8)]],[0,recall[np.argmax(precision >= 0.8)]],'k--')\n",
    "plt.legend()"
   ]
  },
  {
   "cell_type": "code",
   "execution_count": 61,
   "metadata": {},
   "outputs": [
    {
     "data": {
      "text/plain": [
       "[<matplotlib.lines.Line2D at 0x197ad292d90>]"
      ]
     },
     "execution_count": 61,
     "metadata": {},
     "output_type": "execute_result"
    },
    {
     "data": {
      "image/png": "[encoded data removed]",
      "text/plain": [
       "<Figure size 720x720 with 1 Axes>"
      ]
     },
     "metadata": {
      "needs_background": "light"
     },
     "output_type": "display_data"
    }
   ],
   "source": [
    "fpr,tpr,threshold_roc = roc_curve(y_train,y_score)\n",
    "plt.figure(figsize = (10,10))\n",
    "\n",
    "plt.plot(fpr,tpr,'b--')"
   ]
  },
  {
   "cell_type": "code",
   "execution_count": 62,
   "metadata": {},
   "outputs": [],
   "source": [
    "y_pred = y_score >= threshold[np.argmax(precision >= 0.78)]"
   ]
  },
  {
   "cell_type": "code",
   "execution_count": 63,
   "metadata": {},
   "outputs": [
    {
     "data": {
      "text/plain": [
       "0.7922606924643585"
      ]
     },
     "execution_count": 63,
     "metadata": {},
     "output_type": "execute_result"
    }
   ],
   "source": [
    "accuracy_score(y_train == 1,y_pred)"
   ]
  },
  {
   "cell_type": "code",
   "execution_count": 64,
   "metadata": {},
   "outputs": [
    {
     "data": {
      "text/plain": [
       "0.8671875"
      ]
     },
     "execution_count": 64,
     "metadata": {},
     "output_type": "execute_result"
    }
   ],
   "source": [
    "f1_score(y_train == 1,y_pred)"
   ]
  },
  {
   "cell_type": "code",
   "execution_count": 65,
   "metadata": {},
   "outputs": [
    {
     "data": {
      "text/plain": [
       "0.7816901408450704"
      ]
     },
     "execution_count": 65,
     "metadata": {},
     "output_type": "execute_result"
    }
   ],
   "source": [
    "precision_score(y_train == 1,y_pred)"
   ]
  },
  {
   "cell_type": "code",
   "execution_count": 66,
   "metadata": {},
   "outputs": [
    {
     "data": {
      "text/plain": [
       "0.9736842105263158"
      ]
     },
     "execution_count": 66,
     "metadata": {},
     "output_type": "execute_result"
    }
   ],
   "source": [
    "recall_score(y_train == 1,y_pred)"
   ]
  },
  {
   "cell_type": "code",
   "execution_count": 67,
   "metadata": {},
   "outputs": [
    {
     "data": {
      "text/plain": [
       "array([[ 56,  93],\n",
       "       [  9, 333]], dtype=int64)"
      ]
     },
     "execution_count": 67,
     "metadata": {},
     "output_type": "execute_result"
    }
   ],
   "source": [
    "confusion_matrix(y_train==1,y_pred)"
   ]
  },
  {
   "cell_type": "markdown",
   "metadata": {},
   "source": [
    "### Tìm kiếm tham số cho mô hình Logistic Regression "
   ]
  },
  {
   "cell_type": "code",
   "execution_count": 68,
   "metadata": {},
   "outputs": [],
   "source": [
    "param_grid = [\n",
    "    {\n",
    "        \"penalty\": ['l2','l1'],\n",
    "        \"C\": np.linspace(1e-6,1,100),\n",
    "        'solver': ['liblinear'],\n",
    "\n",
    "    },\n",
    "    {\n",
    "        \"penalty\": ['l2'],\n",
    "        \"C\": np.linspace(1e-6,1,100),\n",
    "        'solver': ['lbfgs'],\n",
    "    },\n",
    "\n",
    "    {\n",
    "        \"penalty\": ['elasticnet'],\n",
    "        \"C\": np.linspace(1e-6,1,100),\n",
    "        'l1_ratio' : np.linspace(0,1,20),\n",
    "        'solver': ['saga'],\n",
    "        'max_iter' : [5000],\n",
    "    },\n",
    "    \n",
    "]"
   ]
  },
  {
   "cell_type": "code",
   "execution_count": 69,
   "metadata": {},
   "outputs": [],
   "source": [
    "grid_search = GridSearchCV(log_clf,param_grid,scoring='accuracy',cv=5,verbose = 3)"
   ]
  },
  {
   "cell_type": "code",
   "execution_count": 70,
   "metadata": {},
   "outputs": [],
   "source": [
    "# grid_search.fit(x_train,y_train)"
   ]
  },
  {
   "cell_type": "code",
   "execution_count": 71,
   "metadata": {},
   "outputs": [],
   "source": [
    "# grid_search.best_params_"
   ]
  },
  {
   "cell_type": "code",
   "execution_count": 72,
   "metadata": {},
   "outputs": [],
   "source": [
    "best_logis = {'C': 0.09090999999999999, 'penalty': 'l2', 'solver': 'lbfgs'}"
   ]
  },
  {
   "cell_type": "code",
   "execution_count": 73,
   "metadata": {},
   "outputs": [
    {
     "data": {
      "text/plain": [
       "LogisticRegression()"
      ]
     },
     "execution_count": 73,
     "metadata": {},
     "output_type": "execute_result"
    }
   ],
   "source": [
    "log_clf = LogisticRegression()\n",
    "log_clf.fit(x_train,y_train)"
   ]
  },
  {
   "cell_type": "code",
   "execution_count": 74,
   "metadata": {},
   "outputs": [
    {
     "data": {
      "text/plain": [
       "LogisticRegression(C=0.09090999999999999, random_state=42)"
      ]
     },
     "execution_count": 74,
     "metadata": {},
     "output_type": "execute_result"
    }
   ],
   "source": [
    "log_improve = LogisticRegression(random_state=42,**best_logis)\n",
    "log_improve.fit(x_train,y_train)"
   ]
  },
  {
   "cell_type": "code",
   "execution_count": 75,
   "metadata": {},
   "outputs": [
    {
     "data": {
      "text/plain": [
       "0.8146361574933003"
      ]
     },
     "execution_count": 75,
     "metadata": {},
     "output_type": "execute_result"
    }
   ],
   "source": [
    "cross_val_score(log_clf,x_train,y_train,cv=5).mean()"
   ]
  },
  {
   "cell_type": "code",
   "execution_count": 76,
   "metadata": {},
   "outputs": [
    {
     "data": {
      "text/plain": [
       "0.8166666666666668"
      ]
     },
     "execution_count": 76,
     "metadata": {},
     "output_type": "execute_result"
    }
   ],
   "source": [
    "log_score = cross_val_score(log_improve,x_train,y_train,cv=20)\n",
    "log_score.mean()"
   ]
  },
  {
   "cell_type": "markdown",
   "metadata": {},
   "source": [
    "## Thử nghiệm trên mô hình SGDC"
   ]
  },
  {
   "cell_type": "code",
   "execution_count": 77,
   "metadata": {},
   "outputs": [
    {
     "data": {
      "text/plain": [
       "SGDClassifier(random_state=42)"
      ]
     },
     "execution_count": 77,
     "metadata": {},
     "output_type": "execute_result"
    }
   ],
   "source": [
    "sgdc = SGDClassifier(random_state=42)\n",
    "sgdc.fit(x_train,y_train)"
   ]
  },
  {
   "cell_type": "code",
   "execution_count": 78,
   "metadata": {},
   "outputs": [
    {
     "data": {
      "text/plain": [
       "0.7841888270459699"
      ]
     },
     "execution_count": 78,
     "metadata": {},
     "output_type": "execute_result"
    }
   ],
   "source": [
    "cross_val_score(sgdc,x_train,y_train,cv=5).mean()"
   ]
  },
  {
   "cell_type": "markdown",
   "metadata": {},
   "source": [
    "### Tìm kiếm tham số cho mô hình SGDC"
   ]
  },
  {
   "cell_type": "code",
   "execution_count": 79,
   "metadata": {},
   "outputs": [],
   "source": [
    "param_grid_sgdc = [\n",
    "    {\n",
    "        'alpha': np.linspace(1e-5,1e-2,500),\n",
    "        'learning_rate' : ['constant','optimal'],\n",
    "        'eta0' :np.linspace(0.00001,0.1,20),\n",
    "        'loss': ['hinge']\n",
    "    },    \n",
    "]"
   ]
  },
  {
   "cell_type": "code",
   "execution_count": 80,
   "metadata": {},
   "outputs": [],
   "source": [
    "grid_search_sgdc = GridSearchCV(sgdc,param_grid_sgdc,cv = 5,scoring='accuracy',verbose = 3)"
   ]
  },
  {
   "cell_type": "code",
   "execution_count": 81,
   "metadata": {},
   "outputs": [],
   "source": [
    "# grid_search_sgdc.fit(x_train,y_train)"
   ]
  },
  {
   "cell_type": "code",
   "execution_count": 82,
   "metadata": {},
   "outputs": [],
   "source": [
    "# grid_search_sgdc.best_params_"
   ]
  },
  {
   "cell_type": "code",
   "execution_count": 83,
   "metadata": {},
   "outputs": [],
   "source": [
    "best_sgdc ={'alpha': 1e-05,\n",
    " 'eta0': 0.005272631578947368,\n",
    " 'learning_rate': 'constant',\n",
    " 'loss': 'hinge'}"
   ]
  },
  {
   "cell_type": "code",
   "execution_count": 84,
   "metadata": {},
   "outputs": [
    {
     "data": {
      "text/plain": [
       "SGDClassifier(alpha=1e-05, eta0=0.005272631578947368, learning_rate='constant',\n",
       "              random_state=42)"
      ]
     },
     "execution_count": 84,
     "metadata": {},
     "output_type": "execute_result"
    }
   ],
   "source": [
    "sgdc_improve = SGDClassifier(random_state=42,**best_sgdc)\n",
    "sgdc_improve.fit(x_train,y_train)"
   ]
  },
  {
   "cell_type": "code",
   "execution_count": 85,
   "metadata": {},
   "outputs": [
    {
     "data": {
      "text/plain": [
       "0.8145"
      ]
     },
     "execution_count": 85,
     "metadata": {},
     "output_type": "execute_result"
    }
   ],
   "source": [
    "sgdc_score = cross_val_score(sgdc_improve,x_train,y_train,cv=20)\n",
    "sgdc_score.mean()"
   ]
  },
  {
   "cell_type": "markdown",
   "metadata": {},
   "source": [
    "## Thử nghiệm trên mô hình SVC"
   ]
  },
  {
   "cell_type": "code",
   "execution_count": 86,
   "metadata": {},
   "outputs": [
    {
     "data": {
      "text/plain": [
       "SVC()"
      ]
     },
     "execution_count": 86,
     "metadata": {},
     "output_type": "execute_result"
    }
   ],
   "source": [
    "svc = SVC()\n",
    "svc.fit(x_train,y_train)"
   ]
  },
  {
   "cell_type": "code",
   "execution_count": 87,
   "metadata": {},
   "outputs": [
    {
     "data": {
      "text/plain": [
       "0.8024118738404452"
      ]
     },
     "execution_count": 87,
     "metadata": {},
     "output_type": "execute_result"
    }
   ],
   "source": [
    "cross_val_score(svc,x_train,y_train,cv=5).mean()"
   ]
  },
  {
   "cell_type": "markdown",
   "metadata": {},
   "source": [
    "### Tìm kiếm tham số cho mô hình SVC"
   ]
  },
  {
   "cell_type": "code",
   "execution_count": 88,
   "metadata": {},
   "outputs": [],
   "source": [
    "param_grid_svc = [\n",
    "    {\n",
    "        \"C\" : np.linspace(1,100,200),\n",
    "        'kernel' : ['poly'],\n",
    "        'degree' : [1,2,3], \n",
    "        'coef0' : [0,0.1,0.01,0.001,0.0001] \n",
    "    },\n",
    "    {\n",
    "        \"C\" : np.linspace(1,100,200),\n",
    "        'kernel' : ['rbf'],\n",
    "        'gamma': np.linspace(1,10,100)\n",
    "    },\n",
    "\n",
    "]"
   ]
  },
  {
   "cell_type": "code",
   "execution_count": 89,
   "metadata": {},
   "outputs": [],
   "source": [
    "grid_search_svc= GridSearchCV(svc,param_grid_svc,cv = 5,scoring='accuracy',verbose = 3)"
   ]
  },
  {
   "cell_type": "code",
   "execution_count": 90,
   "metadata": {},
   "outputs": [],
   "source": [
    "# grid_search_svc.fit(x_train,y_train)"
   ]
  },
  {
   "cell_type": "code",
   "execution_count": 91,
   "metadata": {},
   "outputs": [],
   "source": [
    "# grid_search_svc.best_params_"
   ]
  },
  {
   "cell_type": "code",
   "execution_count": 92,
   "metadata": {},
   "outputs": [],
   "source": [
    "best_svc = {'C': 1.0, 'coef0': 0, 'degree': 1, 'kernel': 'poly'}"
   ]
  },
  {
   "cell_type": "code",
   "execution_count": 93,
   "metadata": {},
   "outputs": [
    {
     "data": {
      "text/plain": [
       "SVC(coef0=0, degree=1, kernel='poly', probability=True, random_state=42)"
      ]
     },
     "execution_count": 93,
     "metadata": {},
     "output_type": "execute_result"
    }
   ],
   "source": [
    "svc_improve = SVC(random_state=42,probability=True,**best_svc)\n",
    "svc_improve.fit(x_train,y_train)"
   ]
  },
  {
   "cell_type": "code",
   "execution_count": 94,
   "metadata": {},
   "outputs": [
    {
     "data": {
      "text/plain": [
       "0.7886178861788617"
      ]
     },
     "execution_count": 94,
     "metadata": {},
     "output_type": "execute_result"
    }
   ],
   "source": [
    "svc_improve.score(x_test,y_test)"
   ]
  },
  {
   "cell_type": "code",
   "execution_count": 95,
   "metadata": {},
   "outputs": [
    {
     "data": {
      "text/plain": [
       "0.8145"
      ]
     },
     "execution_count": 95,
     "metadata": {},
     "output_type": "execute_result"
    }
   ],
   "source": [
    "svc_score = cross_val_score(svc_improve,x_train,y_train,cv=20)\n",
    "svc_score.mean()"
   ]
  },
  {
   "cell_type": "code",
   "execution_count": 96,
   "metadata": {},
   "outputs": [
    {
     "data": {
      "text/plain": [
       "0.8586956521739131"
      ]
     },
     "execution_count": 96,
     "metadata": {},
     "output_type": "execute_result"
    }
   ],
   "source": [
    "f1_score(y_test,svc_improve.predict(x_test))"
   ]
  },
  {
   "cell_type": "markdown",
   "metadata": {},
   "source": [
    "## Thử nghiệm trên mô hình Decision Tree"
   ]
  },
  {
   "cell_type": "code",
   "execution_count": 97,
   "metadata": {},
   "outputs": [
    {
     "data": {
      "text/plain": [
       "DecisionTreeClassifier(random_state=42)"
      ]
     },
     "execution_count": 97,
     "metadata": {},
     "output_type": "execute_result"
    }
   ],
   "source": [
    "tree = DecisionTreeClassifier(random_state=42)\n",
    "tree.fit(x_train,y_train)"
   ]
  },
  {
   "cell_type": "code",
   "execution_count": 98,
   "metadata": {},
   "outputs": [
    {
     "data": {
      "text/plain": [
       "0.7290455576169862"
      ]
     },
     "execution_count": 98,
     "metadata": {},
     "output_type": "execute_result"
    }
   ],
   "source": [
    "cross_val_score(tree,x_train,y_train,cv=5).mean()"
   ]
  },
  {
   "cell_type": "markdown",
   "metadata": {},
   "source": [
    "### Tìm kiếm tham số cho mô hình Decision Tree"
   ]
  },
  {
   "cell_type": "code",
   "execution_count": 99,
   "metadata": {},
   "outputs": [],
   "source": [
    "param_grid_tree = [\n",
    "    {\n",
    "        \"criterion\" : ['gini',\"entropy\"],\n",
    "        \"splitter\": ['best','random'],\n",
    "        'max_depth': np.linspace(1,5,5).astype(int),\n",
    "        'min_samples_split' : np.linspace(2,10,9).astype(int), \n",
    "        'min_samples_leaf' : np.linspace(2,10,9).astype(int),\n",
    "        'max_leaf_nodes': np.linspace(2,10,9).astype(int),\n",
    "    }\n",
    "]"
   ]
  },
  {
   "cell_type": "code",
   "execution_count": 100,
   "metadata": {},
   "outputs": [],
   "source": [
    "grid_search_tree= GridSearchCV(tree,param_grid_tree,cv = 5,scoring='accuracy',verbose = 3)"
   ]
  },
  {
   "cell_type": "code",
   "execution_count": 101,
   "metadata": {},
   "outputs": [],
   "source": [
    "# grid_search_tree.fit(x_train,y_train)"
   ]
  },
  {
   "cell_type": "code",
   "execution_count": 102,
   "metadata": {},
   "outputs": [],
   "source": [
    "# grid_search_tree.best_params_"
   ]
  },
  {
   "cell_type": "code",
   "execution_count": 103,
   "metadata": {},
   "outputs": [],
   "source": [
    "best_tree = {'criterion': 'gini',\n",
    " 'max_depth': 4,\n",
    " 'max_leaf_nodes': 7,\n",
    " 'min_samples_leaf': 2,\n",
    " 'min_samples_split': 2,\n",
    " 'splitter': 'best'}"
   ]
  },
  {
   "cell_type": "code",
   "execution_count": 104,
   "metadata": {},
   "outputs": [
    {
     "data": {
      "text/plain": [
       "DecisionTreeClassifier(max_depth=4, max_leaf_nodes=7, min_samples_leaf=2,\n",
       "                       random_state=42)"
      ]
     },
     "execution_count": 104,
     "metadata": {},
     "output_type": "execute_result"
    }
   ],
   "source": [
    "tree_improve = DecisionTreeClassifier(random_state=42,**best_tree)\n",
    "tree_improve.fit(x_train,y_train)"
   ]
  },
  {
   "cell_type": "code",
   "execution_count": 105,
   "metadata": {},
   "outputs": [
    {
     "data": {
      "text/plain": [
       "0.8167500000000001"
      ]
     },
     "execution_count": 105,
     "metadata": {},
     "output_type": "execute_result"
    }
   ],
   "source": [
    "tree_score = cross_val_score(tree_improve,x_train,y_train,cv=20)\n",
    "tree_score.mean()"
   ]
  },
  {
   "cell_type": "code",
   "execution_count": 106,
   "metadata": {},
   "outputs": [
    {
     "data": {
      "text/plain": [
       "array([0.82051282, 0.91891892, 0.91891892, 0.94444444, 0.82926829,\n",
       "       0.8       , 0.86486486, 0.86486486, 0.89473684, 0.94444444,\n",
       "       0.84210526, 0.96969697, 0.82926829, 0.81081081, 0.88888889,\n",
       "       0.89473684, 0.97142857, 0.84210526, 0.89473684, 0.87179487])"
      ]
     },
     "execution_count": 106,
     "metadata": {},
     "output_type": "execute_result"
    }
   ],
   "source": [
    "cross_val_score(tree_improve,x_train,y_train,cv=20,scoring = 'f1')"
   ]
  },
  {
   "cell_type": "markdown",
   "metadata": {},
   "source": [
    "## So sánh sự khác nhau giữa 2 mô hình ExtraTree và RandomForest"
   ]
  },
  {
   "cell_type": "markdown",
   "metadata": {},
   "source": [
    "### Extra Tree"
   ]
  },
  {
   "cell_type": "code",
   "execution_count": 107,
   "metadata": {},
   "outputs": [
    {
     "data": {
      "text/plain": [
       "ExtraTreesClassifier(random_state=42)"
      ]
     },
     "execution_count": 107,
     "metadata": {},
     "output_type": "execute_result"
    }
   ],
   "source": [
    "extra_tree = ExtraTreesClassifier(random_state=42)\n",
    "extra_tree.fit(x_train,y_train)"
   ]
  },
  {
   "cell_type": "code",
   "execution_count": 108,
   "metadata": {},
   "outputs": [
    {
     "data": {
      "text/plain": [
       "0.7819624819624819"
      ]
     },
     "execution_count": 108,
     "metadata": {},
     "output_type": "execute_result"
    }
   ],
   "source": [
    "cross_val_score(extra_tree,x_train,y_train,cv=5).mean()"
   ]
  },
  {
   "cell_type": "markdown",
   "metadata": {},
   "source": [
    "#### Tìm kiếm tham số cho mô hình Extra Tree"
   ]
  },
  {
   "cell_type": "code",
   "execution_count": 109,
   "metadata": {},
   "outputs": [],
   "source": [
    "param_grid_extratree = [\n",
    "    {\n",
    "        \"criterion\" : ['gini',\"entropy\"],\n",
    "        'max_depth': np.linspace(2,6,5).astype(int),\n",
    "        'min_samples_split' : np.linspace(2,10,9).astype(int), \n",
    "        'min_samples_leaf' : np.linspace(2,10,9).astype(int),\n",
    "        'max_leaf_nodes': np.linspace(2,10,9).astype(int),\n",
    "    }\n",
    "]"
   ]
  },
  {
   "cell_type": "code",
   "execution_count": 110,
   "metadata": {},
   "outputs": [],
   "source": [
    "grid_search_extratree= GridSearchCV(extra_tree,param_grid_extratree,cv = 5,scoring='accuracy',verbose = 3)"
   ]
  },
  {
   "cell_type": "code",
   "execution_count": 111,
   "metadata": {},
   "outputs": [],
   "source": [
    "# grid_search_extratree.fit(x_train,y_train)"
   ]
  },
  {
   "cell_type": "code",
   "execution_count": 112,
   "metadata": {},
   "outputs": [],
   "source": [
    "# grid_search_extratree.best_params_"
   ]
  },
  {
   "cell_type": "code",
   "execution_count": 113,
   "metadata": {},
   "outputs": [],
   "source": [
    "best_extratree = {'criterion': 'gini',\n",
    " 'max_depth': 5,\n",
    " 'max_leaf_nodes': 10,\n",
    " 'min_samples_leaf': 2,\n",
    " 'min_samples_split': 5}"
   ]
  },
  {
   "cell_type": "code",
   "execution_count": 114,
   "metadata": {},
   "outputs": [
    {
     "data": {
      "text/plain": [
       "ExtraTreesClassifier(max_depth=5, max_leaf_nodes=10, min_samples_leaf=2,\n",
       "                     min_samples_split=5, random_state=42)"
      ]
     },
     "execution_count": 114,
     "metadata": {},
     "output_type": "execute_result"
    }
   ],
   "source": [
    "extra_tree_improve = ExtraTreesClassifier(random_state=42,**best_extratree)\n",
    "extra_tree_improve.fit(x_train,y_train)"
   ]
  },
  {
   "cell_type": "code",
   "execution_count": 115,
   "metadata": {},
   "outputs": [
    {
     "data": {
      "text/plain": [
       "0.8186666666666668"
      ]
     },
     "execution_count": 115,
     "metadata": {},
     "output_type": "execute_result"
    }
   ],
   "source": [
    "extratree_score = cross_val_score(extra_tree_improve,x_train,y_train,cv=20)\n",
    "extratree_score.mean()"
   ]
  },
  {
   "cell_type": "markdown",
   "metadata": {},
   "source": [
    "### Random Forest"
   ]
  },
  {
   "cell_type": "code",
   "execution_count": 116,
   "metadata": {},
   "outputs": [
    {
     "data": {
      "text/plain": [
       "RandomForestClassifier(random_state=42)"
      ]
     },
     "execution_count": 116,
     "metadata": {},
     "output_type": "execute_result"
    }
   ],
   "source": [
    "rdf = RandomForestClassifier(random_state=42)\n",
    "rdf.fit(x_train,y_train)"
   ]
  },
  {
   "cell_type": "code",
   "execution_count": 117,
   "metadata": {},
   "outputs": [
    {
     "data": {
      "text/plain": [
       "0.7901051329622759"
      ]
     },
     "execution_count": 117,
     "metadata": {},
     "output_type": "execute_result"
    }
   ],
   "source": [
    "cross_val_score(rdf,x_train,y_train,cv=5).mean()"
   ]
  },
  {
   "cell_type": "markdown",
   "metadata": {},
   "source": [
    "#### Tìm kiếm tham số cho mô hình Random Forest"
   ]
  },
  {
   "cell_type": "code",
   "execution_count": 118,
   "metadata": {},
   "outputs": [],
   "source": [
    "param_grid_rdf = [\n",
    "    {\n",
    "        \"criterion\" : ['gini',\"entropy\"],\n",
    "        'max_depth': np.linspace(2,6,5).astype(int),\n",
    "        'min_samples_split' : np.linspace(2,10,9).astype(int), \n",
    "        'min_samples_leaf' : np.linspace(2,10,9).astype(int),\n",
    "        'max_leaf_nodes': np.linspace(2,10,9).astype(int),\n",
    "    }\n",
    "]"
   ]
  },
  {
   "cell_type": "code",
   "execution_count": 119,
   "metadata": {},
   "outputs": [],
   "source": [
    "grid_search_rdf= GridSearchCV(rdf,param_grid_rdf,cv = 5,scoring='accuracy',verbose = 3)"
   ]
  },
  {
   "cell_type": "code",
   "execution_count": 120,
   "metadata": {},
   "outputs": [],
   "source": [
    "# grid_search_rdf.fit(x_train,y_train)"
   ]
  },
  {
   "cell_type": "code",
   "execution_count": 121,
   "metadata": {},
   "outputs": [],
   "source": [
    "# grid_search_rdf.best_params_"
   ]
  },
  {
   "cell_type": "code",
   "execution_count": 122,
   "metadata": {},
   "outputs": [],
   "source": [
    "best_rdf = {'criterion': 'gini',\n",
    " 'max_depth': 3,\n",
    " 'max_leaf_nodes': 5,\n",
    " 'min_samples_leaf': 4,\n",
    " 'min_samples_split': 2}"
   ]
  },
  {
   "cell_type": "code",
   "execution_count": 123,
   "metadata": {},
   "outputs": [
    {
     "data": {
      "text/plain": [
       "RandomForestClassifier(max_depth=3, max_leaf_nodes=5, min_samples_leaf=4,\n",
       "                       random_state=42)"
      ]
     },
     "execution_count": 123,
     "metadata": {},
     "output_type": "execute_result"
    }
   ],
   "source": [
    "rdf_improve = RandomForestClassifier(random_state=42,**best_rdf)\n",
    "rdf_improve.fit(x_train,y_train)"
   ]
  },
  {
   "cell_type": "code",
   "execution_count": 124,
   "metadata": {},
   "outputs": [
    {
     "data": {
      "text/plain": [
       "0.8185833333333334"
      ]
     },
     "execution_count": 124,
     "metadata": {},
     "output_type": "execute_result"
    }
   ],
   "source": [
    "rdf_score = cross_val_score(rdf_improve,x_train,y_train,cv=20)\n",
    "rdf_score.mean()"
   ]
  },
  {
   "cell_type": "markdown",
   "metadata": {},
   "source": [
    "Random Forest tốt hơn ExtraTree"
   ]
  },
  {
   "cell_type": "markdown",
   "metadata": {},
   "source": [
    "## Boosting"
   ]
  },
  {
   "cell_type": "markdown",
   "metadata": {},
   "source": [
    "### Gradient Boosting"
   ]
  },
  {
   "cell_type": "code",
   "execution_count": 125,
   "metadata": {},
   "outputs": [
    {
     "data": {
      "text/plain": [
       "GradientBoostingClassifier(learning_rate=0.05, max_depth=2, min_samples_leaf=2,\n",
       "                           random_state=42, subsample=0.5)"
      ]
     },
     "execution_count": 125,
     "metadata": {},
     "output_type": "execute_result"
    }
   ],
   "source": [
    "grad_boost = GradientBoostingClassifier(learning_rate=0.05,random_state=42,max_depth=2,min_samples_split = 2,min_samples_leaf = 2,subsample=0.5)\n",
    "grad_boost.fit(x_train,y_train)"
   ]
  },
  {
   "cell_type": "code",
   "execution_count": 126,
   "metadata": {},
   "outputs": [
    {
     "data": {
      "text/plain": [
       "0.8048780487804879"
      ]
     },
     "execution_count": 126,
     "metadata": {},
     "output_type": "execute_result"
    }
   ],
   "source": [
    "grad_boost.score(x_test,y_test)"
   ]
  },
  {
   "cell_type": "code",
   "execution_count": 127,
   "metadata": {},
   "outputs": [
    {
     "data": {
      "text/plain": [
       "0.8125000000000002"
      ]
     },
     "execution_count": 127,
     "metadata": {},
     "output_type": "execute_result"
    }
   ],
   "source": [
    "gradboost_score = cross_val_score(grad_boost,x_train,y_train,cv=20)\n",
    "gradboost_score.mean()"
   ]
  },
  {
   "cell_type": "markdown",
   "metadata": {},
   "source": [
    "### Extreme Gradient Boosting"
   ]
  },
  {
   "cell_type": "markdown",
   "metadata": {},
   "source": [
    "#### Tìm kiếm tham số cho mô hình XGBC"
   ]
  },
  {
   "cell_type": "code",
   "execution_count": 128,
   "metadata": {},
   "outputs": [],
   "source": [
    "space={\n",
    "    'eta': hp.quniform(\"eta\", 0.01,0.09,0.01),\n",
    "    'max_depth': hp.choice(\"max_depth\", np.arange(2, 10, dtype=int)),\n",
    "        'gamma': hp.choice ('gamma', np.arange(1, 10, dtype=int)),\n",
    "        'reg_alpha' : hp.choice('reg_alpha', np.arange(1, 5, dtype=int)),\n",
    "        'reg_lambda' : hp.choice('reg_lambda', np.arange(1, 5, dtype=int)),\n",
    "        'colsample_bytree' : hp.uniform(\"colsample_bytree\",0.5,1.0),\n",
    "        'min_child_weight' : hp.choice('min_child_weight', np.arange(1, 10)),\n",
    "        'n_estimators': 150,\n",
    "    }\n"
   ]
  },
  {
   "cell_type": "code",
   "execution_count": 129,
   "metadata": {},
   "outputs": [
    {
     "name": "stdout",
     "output_type": "stream",
     "text": [
      "SCORE: 0.8048780487804879\n"
     ]
    },
    {
     "data": {
      "text/plain": [
       "{'loss': -0.8048780487804879, 'status': 'ok'}"
      ]
     },
     "execution_count": 129,
     "metadata": {},
     "output_type": "execute_result"
    }
   ],
   "source": [
    "def objective(space):\n",
    "    clf=XGBClassifier(\n",
    "                    eta = space['eta'],tree_method = \"exact\",objective=\"binary:logistic\",\n",
    "                    n_estimators =space['n_estimators'], max_depth = (space['max_depth']), gamma = space['gamma'],\n",
    "                    reg_alpha = (space['reg_alpha']),min_child_weight=(space['min_child_weight']),\n",
    "                    colsample_bytree=(space['colsample_bytree']),use_label_encoder=False,eval_metric=\"error\",early_stopping_rounds = 100,seed = 42)\n",
    "    \n",
    "    evaluation = [( x_train, y_train), ( x_test, y_test)]\n",
    "    \n",
    "    clf.fit(x_train, y_train,\n",
    "            eval_set=evaluation,\n",
    "            verbose=False)\n",
    "    \n",
    "\n",
    "    pred = clf.predict(x_test)\n",
    "    accuracy = accuracy_score(y_test, pred)\n",
    "    print (\"SCORE:\", accuracy)\n",
    "    return {'loss': -accuracy, 'status': STATUS_OK }\n",
    "objective(space)"
   ]
  },
  {
   "cell_type": "code",
   "execution_count": 130,
   "metadata": {},
   "outputs": [],
   "source": [
    "# trials = Trials()\n",
    "\n",
    "# best_hyperparams = fmin(fn = objective,\n",
    "#                         space = space,\n",
    "#                         algo = tpe.suggest,\n",
    "#                         max_evals = 100,\n",
    "#                         trials = trials)\n"
   ]
  },
  {
   "cell_type": "code",
   "execution_count": 131,
   "metadata": {},
   "outputs": [],
   "source": [
    "# best_hyperparams"
   ]
  },
  {
   "cell_type": "code",
   "execution_count": 132,
   "metadata": {},
   "outputs": [
    {
     "data": {
      "text/plain": [
       "{'colsample_bytree': 0.7328996377661416,\n",
       " 'eta': 0.03,\n",
       " 'gamma': 2,\n",
       " 'max_depth': 4,\n",
       " 'min_child_weight': 2,\n",
       " 'reg_alpha': 2,\n",
       " 'reg_lambda': 3,\n",
       " 'n_estimators': 150}"
      ]
     },
     "execution_count": 132,
     "metadata": {},
     "output_type": "execute_result"
    }
   ],
   "source": [
    "best = {'colsample_bytree': 0.7328996377661416,\n",
    " 'eta': 0.03,\n",
    " 'gamma': 2,\n",
    " 'max_depth': 4,\n",
    " 'min_child_weight': 2,\n",
    " 'reg_alpha': 2,\n",
    " 'reg_lambda': 3,\n",
    "    'n_estimators': 150,\n",
    "}\n",
    "best"
   ]
  },
  {
   "cell_type": "code",
   "execution_count": 133,
   "metadata": {},
   "outputs": [
    {
     "data": {
      "text/plain": [
       "0.8130081300813008"
      ]
     },
     "execution_count": 133,
     "metadata": {},
     "output_type": "execute_result"
    }
   ],
   "source": [
    "xgb_improve = XGBClassifier(tree_method = \"exact\",objective=\"binary:logistic\",use_label_encoder=False,seed = 42,eval_metric=\"error\",**best)\n",
    "xgb_improve.fit(x_train,y_train)\n",
    "xgb_improve.score(x_test,y_test)"
   ]
  },
  {
   "cell_type": "code",
   "execution_count": 134,
   "metadata": {},
   "outputs": [
    {
     "data": {
      "text/plain": [
       "0.8811395119778794"
      ]
     },
     "execution_count": 134,
     "metadata": {},
     "output_type": "execute_result"
    }
   ],
   "source": [
    "extreme_grad_score = cross_val_score(xgb_improve,x_train,y_train,cv = 20,scoring='f1')\n",
    "extreme_grad_score.mean()"
   ]
  },
  {
   "cell_type": "markdown",
   "metadata": {},
   "source": [
    "# So sánh các mô hình sau khi điều chỉnh tham số "
   ]
  },
  {
   "cell_type": "code",
   "execution_count": 135,
   "metadata": {},
   "outputs": [],
   "source": [
    "model = {}\n",
    "model[\"Logistic\"] = log_score\n",
    "model[\"SGDC\"] = sgdc_score\n",
    "# model[\"SVC\"] = svc_score\n",
    "# model[\"Decision Tree\"] = tree_score\n",
    "# model[\"Extra Tree\"] = extratree_score\n",
    "model[\"Random Forest\"] = rdf_score\n",
    "# model['Gradient Boosting'] = gradboost_score\n",
    "model['XGB Classifier'] = extreme_grad_score\n"
   ]
  },
  {
   "cell_type": "code",
   "execution_count": 136,
   "metadata": {},
   "outputs": [
    {
     "data": {
      "text/plain": [
       "<AxesSubplot:>"
      ]
     },
     "execution_count": 136,
     "metadata": {},
     "output_type": "execute_result"
    },
    {
     "data": {
      "image/png": "[encoded data removed]",
      "text/plain": [
       "<Figure size 1080x1080 with 1 Axes>"
      ]
     },
     "metadata": {
      "needs_background": "light"
     },
     "output_type": "display_data"
    }
   ],
   "source": [
    "plt.figure(figsize = (15,15))\n",
    "sns.boxplot(data = pd.DataFrame(model))"
   ]
  },
  {
   "cell_type": "code",
   "execution_count": 137,
   "metadata": {},
   "outputs": [],
   "source": [
    "models = [log_improve,sgdc_improve,rdf_improve,xgb_improve]"
   ]
  },
  {
   "cell_type": "markdown",
   "metadata": {},
   "source": [
    "* Precision cao => Recall thấp => có nhiều False negative => có nhiều người đủ điều kiện vay mà không được cho vay => mất doanh thu\n",
    "* Precision thấp => Recall cao => có nhiều False positive => có nhiều người không điều kiện vay mà được cho vay => không đủ điều kiện trả \n",
    "* Vậy ta sẽ dùng chỉ số F1 để đánh giá"
   ]
  },
  {
   "cell_type": "code",
   "execution_count": 138,
   "metadata": {},
   "outputs": [],
   "source": [
    "acc = []\n",
    "for model in models:\n",
    "    acc.append(accuracy_score(y_test,model.predict(x_test))*100)\n"
   ]
  },
  {
   "cell_type": "code",
   "execution_count": 139,
   "metadata": {},
   "outputs": [],
   "source": [
    "f1 = []\n",
    "for model in models:\n",
    "    f1.append(f1_score(y_test,model.predict(x_test))*100)"
   ]
  },
  {
   "cell_type": "code",
   "execution_count": 140,
   "metadata": {},
   "outputs": [
    {
     "data": {
      "text/html": [
       "<div>\n",
       "<style scoped>\n",
       "    .dataframe tbody tr th:only-of-type {\n",
       "        vertical-align: middle;\n",
       "    }\n",
       "\n",
       "    .dataframe tbody tr th {\n",
       "        vertical-align: top;\n",
       "    }\n",
       "\n",
       "    .dataframe thead th {\n",
       "        text-align: right;\n",
       "    }\n",
       "</style>\n",
       "<table border=\"1\" class=\"dataframe\">\n",
       "  <thead>\n",
       "    <tr style=\"text-align: right;\">\n",
       "      <th></th>\n",
       "      <th>Accuracy</th>\n",
       "      <th>F1-Score</th>\n",
       "    </tr>\n",
       "  </thead>\n",
       "  <tbody>\n",
       "    <tr>\n",
       "      <th>Random Forest</th>\n",
       "      <td>78.861789</td>\n",
       "      <td>85.869565</td>\n",
       "    </tr>\n",
       "    <tr>\n",
       "      <th>XGB Classifier</th>\n",
       "      <td>78.861789</td>\n",
       "      <td>85.869565</td>\n",
       "    </tr>\n",
       "    <tr>\n",
       "      <th>Logistic Regression</th>\n",
       "      <td>79.674797</td>\n",
       "      <td>85.875706</td>\n",
       "    </tr>\n",
       "    <tr>\n",
       "      <th>SGD Classifier</th>\n",
       "      <td>81.300813</td>\n",
       "      <td>87.150838</td>\n",
       "    </tr>\n",
       "  </tbody>\n",
       "</table>\n",
       "</div>"
      ],
      "text/plain": [
       "                      Accuracy   F1-Score\n",
       "Random Forest        78.861789  85.869565\n",
       "XGB Classifier       78.861789  85.869565\n",
       "Logistic Regression  79.674797  85.875706\n",
       "SGD Classifier       81.300813  87.150838"
      ]
     },
     "execution_count": 140,
     "metadata": {},
     "output_type": "execute_result"
    }
   ],
   "source": [
    "cp = pd.DataFrame({\"Accuracy\":acc,\"F1-Score\":f1},index = {\"Logistic Regression\",\"SGD Classifier\",\"Random Forest\",\"XGB Classifier\"})\n",
    "cp"
   ]
  },
  {
   "cell_type": "markdown",
   "metadata": {},
   "source": [
    "# Tổng kết các mô hình: \n",
    "* Vì mô hình XGBoost có hiệu suất cao nhất nên ta sẽ dùng mô hình XGBoost với F1_score = 0.87151 và Accuracy = 0.813"
   ]
  },
  {
   "cell_type": "markdown",
   "metadata": {},
   "source": [
    "# Phân tích lỗi"
   ]
  },
  {
   "cell_type": "markdown",
   "metadata": {},
   "source": [
    "* Ta thấy mô hình XGBooost có hiệu suất cao nhất. Do đó ta sẽ tạo ma trận nhầm lẫn dựa trên mô hình này"
   ]
  },
  {
   "cell_type": "code",
   "execution_count": 141,
   "metadata": {},
   "outputs": [],
   "source": [
    "conn = confusion_matrix(y_test,xgb_improve.predict(x_test))"
   ]
  },
  {
   "cell_type": "code",
   "execution_count": 142,
   "metadata": {},
   "outputs": [
    {
     "data": {
      "text/plain": [
       "<sklearn.metrics._plot.confusion_matrix.ConfusionMatrixDisplay at 0x197b47f5910>"
      ]
     },
     "execution_count": 142,
     "metadata": {},
     "output_type": "execute_result"
    },
    {
     "data": {
      "image/png": "[encoded data removed]",
      "text/plain": [
       "<Figure size 432x288 with 2 Axes>"
      ]
     },
     "metadata": {
      "needs_background": "light"
     },
     "output_type": "display_data"
    }
   ],
   "source": [
    "ConfusionMatrixDisplay(conn).plot()"
   ]
  },
  {
   "cell_type": "code",
   "execution_count": 143,
   "metadata": {},
   "outputs": [
    {
     "data": {
      "text/plain": [
       "Y    422\n",
       "N    192\n",
       "Name: Loan_Status, dtype: int64"
      ]
     },
     "execution_count": 143,
     "metadata": {},
     "output_type": "execute_result"
    }
   ],
   "source": [
    "train['Loan_Status'].value_counts()"
   ]
  },
  {
   "cell_type": "markdown",
   "metadata": {},
   "source": [
    "* Dựa vào ma trận nhầm lẫn ta thấy tỉ lệ mẫu dương dự đoán đúng rất cao(334/8). Bên cạnh đó, mô hình khó phân biệt 1 nhãn là âm hoặc dương đối với nhãn âm, tỉ lệ `True Negative` và `False Positive` gần như không có sự khác biệt. Điều này xảy ra là do có thể tập nhãn không được cân bằng(có ít mẫu âm trong dữ liệu)."
   ]
  }
 ],
 "metadata": {
  "interpreter": {
   "hash": "6bfd7e43db9e4734bb66d5adfb403b43705154d42fa8cc6fabe3ef8413fb5b5c"
  },
  "kernelspec": {
   "display_name": "Python 3 (ipykernel)",
   "language": "python",
   "name": "python3"
  },
  "language_info": {
   "codemirror_mode": {
    "name": "ipython",
    "version": 3
   },
   "file_extension": ".py",
   "mimetype": "text/x-python",
   "name": "python",
   "nbconvert_exporter": "python",
   "pygments_lexer": "ipython3",
   "version": "3.11.5"
  }
 },
 "nbformat": 4,
 "nbformat_minor": 2
}
