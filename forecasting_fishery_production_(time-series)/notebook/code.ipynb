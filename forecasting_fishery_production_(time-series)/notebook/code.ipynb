{
 "cells": [
  {
   "cell_type": "markdown",
   "metadata": {},
   "source": [
    "# Đọc dữ liệu"
   ]
  },
  {
   "cell_type": "code",
   "execution_count": 1,
   "metadata": {},
   "outputs": [],
   "source": [
    "import pandas as pd\n",
    "from sklearn.metrics import mean_squared_error\n",
    "import datetime\n",
    "import seaborn as sns\n",
    "import matplotlib.pyplot as plt\n",
    "from statsmodels.tsa.api import VAR,VARMAX,ARIMA\n",
    "from statsmodels.tsa.statespace import sarimax\n",
    "from statsmodels.tsa.stattools import adfuller\n",
    "from statsmodels.tools.eval_measures import rmse, aic\n",
    "from sklearn.metrics import r2_score\n",
    "import numpy as np\n",
    "from statsmodels.tsa.seasonal import seasonal_decompose\n",
    "from pmdarima import AutoARIMA,auto_arima\n",
    "from sklearn.metrics import mean_absolute_percentage_error,mean_absolute_error\n",
    "import tensorflow as tf\n",
    "from keras.models import Sequential\n",
    "from keras.layers import Dense\n",
    "from keras.layers import LSTM\n",
    "from tensorflow.keras.callbacks import CSVLogger, EarlyStopping\n",
    "from keras.layers import LeakyReLU\n",
    "from sklearn.linear_model import SGDRegressor"
   ]
  },
  {
   "cell_type": "code",
   "execution_count": 2,
   "metadata": {},
   "outputs": [
    {
     "data": {
      "text/html": [
       "<div>\n",
       "<style scoped>\n",
       "    .dataframe tbody tr th:only-of-type {\n",
       "        vertical-align: middle;\n",
       "    }\n",
       "\n",
       "    .dataframe tbody tr th {\n",
       "        vertical-align: top;\n",
       "    }\n",
       "\n",
       "    .dataframe thead th {\n",
       "        text-align: right;\n",
       "    }\n",
       "</style>\n",
       "<table border=\"1\" class=\"dataframe\">\n",
       "  <thead>\n",
       "    <tr style=\"text-align: right;\">\n",
       "      <th></th>\n",
       "      <th>ChiSoPhatTrien</th>\n",
       "      <th>DienTichNuoiTrong</th>\n",
       "      <th>SoTauKhaiThacBien</th>\n",
       "      <th>TongSanLuong</th>\n",
       "    </tr>\n",
       "    <tr>\n",
       "      <th>Nam</th>\n",
       "      <th></th>\n",
       "      <th></th>\n",
       "      <th></th>\n",
       "      <th></th>\n",
       "    </tr>\n",
       "  </thead>\n",
       "  <tbody>\n",
       "    <tr>\n",
       "      <th>1995-12-31</th>\n",
       "      <td>108.2</td>\n",
       "      <td>453.6</td>\n",
       "      <td>95700.0</td>\n",
       "      <td>1584.4</td>\n",
       "    </tr>\n",
       "    <tr>\n",
       "      <th>1996-12-31</th>\n",
       "      <td>107.4</td>\n",
       "      <td>498.7</td>\n",
       "      <td>97700.0</td>\n",
       "      <td>1701.0</td>\n",
       "    </tr>\n",
       "    <tr>\n",
       "      <th>1997-12-31</th>\n",
       "      <td>101.7</td>\n",
       "      <td>504.1</td>\n",
       "      <td>71500.0</td>\n",
       "      <td>1730.4</td>\n",
       "    </tr>\n",
       "    <tr>\n",
       "      <th>1998-12-31</th>\n",
       "      <td>103.0</td>\n",
       "      <td>524.5</td>\n",
       "      <td>71799.0</td>\n",
       "      <td>1782.0</td>\n",
       "    </tr>\n",
       "    <tr>\n",
       "      <th>1999-12-31</th>\n",
       "      <td>112.6</td>\n",
       "      <td>524.6</td>\n",
       "      <td>73397.0</td>\n",
       "      <td>2006.8</td>\n",
       "    </tr>\n",
       "  </tbody>\n",
       "</table>\n",
       "</div>"
      ],
      "text/plain": [
       "            ChiSoPhatTrien  DienTichNuoiTrong  SoTauKhaiThacBien  TongSanLuong\n",
       "Nam                                                                           \n",
       "1995-12-31           108.2              453.6            95700.0        1584.4\n",
       "1996-12-31           107.4              498.7            97700.0        1701.0\n",
       "1997-12-31           101.7              504.1            71500.0        1730.4\n",
       "1998-12-31           103.0              524.5            71799.0        1782.0\n",
       "1999-12-31           112.6              524.6            73397.0        2006.8"
      ]
     },
     "execution_count": 2,
     "metadata": {},
     "output_type": "execute_result"
    }
   ],
   "source": [
    "data = pd.read_csv(\"sea.csv\")\n",
    "data['Nam'] = data['Nam'].astype('str') + \"-12-31\"\n",
    "data = data.set_index(\"Nam\")\n",
    "data.index = pd.DatetimeIndex(data.index,freq = 'A-DEC')\n",
    "data.head()\n"
   ]
  },
  {
   "cell_type": "markdown",
   "metadata": {},
   "source": [
    "# MISSING"
   ]
  },
  {
   "cell_type": "code",
   "execution_count": 3,
   "metadata": {},
   "outputs": [
    {
     "data": {
      "text/plain": [
       "Text(0.5, 6.79999999999999, 'Percent')"
      ]
     },
     "execution_count": 3,
     "metadata": {},
     "output_type": "execute_result"
    },
    {
     "data": {
      "text/plain": [
       "<Figure size 720x432 with 0 Axes>"
      ]
     },
     "metadata": {},
     "output_type": "display_data"
    },
    {
     "data": {
      "image/png": "[encoded data removed]",
      "text/plain": [
       "<Figure size 511.25x360 with 1 Axes>"
      ]
     },
     "metadata": {
      "needs_background": "light"
     },
     "output_type": "display_data"
    }
   ],
   "source": [
    "plt.figure(figsize=(10,6))\n",
    "sns.displot(\n",
    "    data=data.isna().melt(value_name=\"missing\"),\n",
    "    y=\"variable\",\n",
    "    hue=\"missing\",\n",
    "    multiple=\"fill\",\n",
    "    aspect=1.25)\n",
    "plt.xlabel(\"Percent\")"
   ]
  },
  {
   "cell_type": "code",
   "execution_count": 4,
   "metadata": {},
   "outputs": [],
   "source": [
    "data.interpolate(method = 'time',inplace = True,axis = 0,limit_direction = 'forward')"
   ]
  },
  {
   "cell_type": "code",
   "execution_count": 5,
   "metadata": {},
   "outputs": [
    {
     "data": {
      "text/html": [
       "<div>\n",
       "<style scoped>\n",
       "    .dataframe tbody tr th:only-of-type {\n",
       "        vertical-align: middle;\n",
       "    }\n",
       "\n",
       "    .dataframe tbody tr th {\n",
       "        vertical-align: top;\n",
       "    }\n",
       "\n",
       "    .dataframe thead th {\n",
       "        text-align: right;\n",
       "    }\n",
       "</style>\n",
       "<table border=\"1\" class=\"dataframe\">\n",
       "  <thead>\n",
       "    <tr style=\"text-align: right;\">\n",
       "      <th></th>\n",
       "      <th>ChiSoPhatTrien</th>\n",
       "      <th>DienTichNuoiTrong</th>\n",
       "      <th>SoTauKhaiThacBien</th>\n",
       "      <th>TongSanLuong</th>\n",
       "    </tr>\n",
       "    <tr>\n",
       "      <th>Nam</th>\n",
       "      <th></th>\n",
       "      <th></th>\n",
       "      <th></th>\n",
       "      <th></th>\n",
       "    </tr>\n",
       "  </thead>\n",
       "  <tbody>\n",
       "    <tr>\n",
       "      <th>1995-12-31</th>\n",
       "      <td>108.2</td>\n",
       "      <td>453.6</td>\n",
       "      <td>95700.000000</td>\n",
       "      <td>1584.4</td>\n",
       "    </tr>\n",
       "    <tr>\n",
       "      <th>1996-12-31</th>\n",
       "      <td>107.4</td>\n",
       "      <td>498.7</td>\n",
       "      <td>97700.000000</td>\n",
       "      <td>1701.0</td>\n",
       "    </tr>\n",
       "    <tr>\n",
       "      <th>1997-12-31</th>\n",
       "      <td>101.7</td>\n",
       "      <td>504.1</td>\n",
       "      <td>71500.000000</td>\n",
       "      <td>1730.4</td>\n",
       "    </tr>\n",
       "    <tr>\n",
       "      <th>1998-12-31</th>\n",
       "      <td>103.0</td>\n",
       "      <td>524.5</td>\n",
       "      <td>71799.000000</td>\n",
       "      <td>1782.0</td>\n",
       "    </tr>\n",
       "    <tr>\n",
       "      <th>1999-12-31</th>\n",
       "      <td>112.6</td>\n",
       "      <td>524.6</td>\n",
       "      <td>73397.000000</td>\n",
       "      <td>2006.8</td>\n",
       "    </tr>\n",
       "    <tr>\n",
       "      <th>2000-12-31</th>\n",
       "      <td>112.1</td>\n",
       "      <td>641.9</td>\n",
       "      <td>79768.000000</td>\n",
       "      <td>2250.9</td>\n",
       "    </tr>\n",
       "    <tr>\n",
       "      <th>2001-12-31</th>\n",
       "      <td>108.2</td>\n",
       "      <td>755.2</td>\n",
       "      <td>78978.000000</td>\n",
       "      <td>2435.1</td>\n",
       "    </tr>\n",
       "    <tr>\n",
       "      <th>2002-12-31</th>\n",
       "      <td>108.7</td>\n",
       "      <td>797.7</td>\n",
       "      <td>81800.000000</td>\n",
       "      <td>2647.9</td>\n",
       "    </tr>\n",
       "    <tr>\n",
       "      <th>2003-12-31</th>\n",
       "      <td>108.0</td>\n",
       "      <td>867.6</td>\n",
       "      <td>83122.000000</td>\n",
       "      <td>2859.8</td>\n",
       "    </tr>\n",
       "    <tr>\n",
       "      <th>2004-12-31</th>\n",
       "      <td>109.9</td>\n",
       "      <td>920.1</td>\n",
       "      <td>85430.000000</td>\n",
       "      <td>3143.2</td>\n",
       "    </tr>\n",
       "    <tr>\n",
       "      <th>2005-12-31</th>\n",
       "      <td>110.3</td>\n",
       "      <td>952.6</td>\n",
       "      <td>90880.000000</td>\n",
       "      <td>3466.8</td>\n",
       "    </tr>\n",
       "    <tr>\n",
       "      <th>2006-12-31</th>\n",
       "      <td>107.3</td>\n",
       "      <td>976.5</td>\n",
       "      <td>88319.000000</td>\n",
       "      <td>3721.6</td>\n",
       "    </tr>\n",
       "    <tr>\n",
       "      <th>2007-12-31</th>\n",
       "      <td>112.8</td>\n",
       "      <td>1018.8</td>\n",
       "      <td>85758.000000</td>\n",
       "      <td>4199.1</td>\n",
       "    </tr>\n",
       "    <tr>\n",
       "      <th>2008-12-31</th>\n",
       "      <td>109.6</td>\n",
       "      <td>1052.6</td>\n",
       "      <td>123000.000000</td>\n",
       "      <td>4602.0</td>\n",
       "    </tr>\n",
       "    <tr>\n",
       "      <th>2009-12-31</th>\n",
       "      <td>105.8</td>\n",
       "      <td>1044.7</td>\n",
       "      <td>126000.000000</td>\n",
       "      <td>4870.3</td>\n",
       "    </tr>\n",
       "    <tr>\n",
       "      <th>2010-12-31</th>\n",
       "      <td>105.6</td>\n",
       "      <td>1052.6</td>\n",
       "      <td>129000.000000</td>\n",
       "      <td>5142.7</td>\n",
       "    </tr>\n",
       "    <tr>\n",
       "      <th>2011-12-31</th>\n",
       "      <td>105.9</td>\n",
       "      <td>1040.5</td>\n",
       "      <td>128000.000000</td>\n",
       "      <td>5447.4</td>\n",
       "    </tr>\n",
       "    <tr>\n",
       "      <th>2012-12-31</th>\n",
       "      <td>106.9</td>\n",
       "      <td>1038.9</td>\n",
       "      <td>125000.000000</td>\n",
       "      <td>5820.7</td>\n",
       "    </tr>\n",
       "    <tr>\n",
       "      <th>2013-12-31</th>\n",
       "      <td>103.4</td>\n",
       "      <td>1046.4</td>\n",
       "      <td>124411.000000</td>\n",
       "      <td>6019.7</td>\n",
       "    </tr>\n",
       "    <tr>\n",
       "      <th>2014-12-31</th>\n",
       "      <td>105.2</td>\n",
       "      <td>1056.3</td>\n",
       "      <td>119532.455292</td>\n",
       "      <td>6333.2</td>\n",
       "    </tr>\n",
       "    <tr>\n",
       "      <th>2015-12-31</th>\n",
       "      <td>103.9</td>\n",
       "      <td>1057.3</td>\n",
       "      <td>114653.910584</td>\n",
       "      <td>6582.1</td>\n",
       "    </tr>\n",
       "    <tr>\n",
       "      <th>2016-12-31</th>\n",
       "      <td>104.4</td>\n",
       "      <td>1072.8</td>\n",
       "      <td>109762.000000</td>\n",
       "      <td>6870.7</td>\n",
       "    </tr>\n",
       "    <tr>\n",
       "      <th>2017-12-31</th>\n",
       "      <td>106.4</td>\n",
       "      <td>1106.8</td>\n",
       "      <td>110950.000000</td>\n",
       "      <td>7313.4</td>\n",
       "    </tr>\n",
       "    <tr>\n",
       "      <th>2018-12-31</th>\n",
       "      <td>106.2</td>\n",
       "      <td>1126.7</td>\n",
       "      <td>117294.206204</td>\n",
       "      <td>7769.1</td>\n",
       "    </tr>\n",
       "    <tr>\n",
       "      <th>2019-12-31</th>\n",
       "      <td>106.4</td>\n",
       "      <td>1147.8</td>\n",
       "      <td>123638.412409</td>\n",
       "      <td>8270.2</td>\n",
       "    </tr>\n",
       "    <tr>\n",
       "      <th>2020-12-31</th>\n",
       "      <td>102.7</td>\n",
       "      <td>1130.5</td>\n",
       "      <td>130000.000000</td>\n",
       "      <td>8497.2</td>\n",
       "    </tr>\n",
       "  </tbody>\n",
       "</table>\n",
       "</div>"
      ],
      "text/plain": [
       "            ChiSoPhatTrien  DienTichNuoiTrong  SoTauKhaiThacBien  TongSanLuong\n",
       "Nam                                                                           \n",
       "1995-12-31           108.2              453.6       95700.000000        1584.4\n",
       "1996-12-31           107.4              498.7       97700.000000        1701.0\n",
       "1997-12-31           101.7              504.1       71500.000000        1730.4\n",
       "1998-12-31           103.0              524.5       71799.000000        1782.0\n",
       "1999-12-31           112.6              524.6       73397.000000        2006.8\n",
       "2000-12-31           112.1              641.9       79768.000000        2250.9\n",
       "2001-12-31           108.2              755.2       78978.000000        2435.1\n",
       "2002-12-31           108.7              797.7       81800.000000        2647.9\n",
       "2003-12-31           108.0              867.6       83122.000000        2859.8\n",
       "2004-12-31           109.9              920.1       85430.000000        3143.2\n",
       "2005-12-31           110.3              952.6       90880.000000        3466.8\n",
       "2006-12-31           107.3              976.5       88319.000000        3721.6\n",
       "2007-12-31           112.8             1018.8       85758.000000        4199.1\n",
       "2008-12-31           109.6             1052.6      123000.000000        4602.0\n",
       "2009-12-31           105.8             1044.7      126000.000000        4870.3\n",
       "2010-12-31           105.6             1052.6      129000.000000        5142.7\n",
       "2011-12-31           105.9             1040.5      128000.000000        5447.4\n",
       "2012-12-31           106.9             1038.9      125000.000000        5820.7\n",
       "2013-12-31           103.4             1046.4      124411.000000        6019.7\n",
       "2014-12-31           105.2             1056.3      119532.455292        6333.2\n",
       "2015-12-31           103.9             1057.3      114653.910584        6582.1\n",
       "2016-12-31           104.4             1072.8      109762.000000        6870.7\n",
       "2017-12-31           106.4             1106.8      110950.000000        7313.4\n",
       "2018-12-31           106.2             1126.7      117294.206204        7769.1\n",
       "2019-12-31           106.4             1147.8      123638.412409        8270.2\n",
       "2020-12-31           102.7             1130.5      130000.000000        8497.2"
      ]
     },
     "execution_count": 5,
     "metadata": {},
     "output_type": "execute_result"
    }
   ],
   "source": [
    "data"
   ]
  },
  {
   "cell_type": "code",
   "execution_count": 6,
   "metadata": {},
   "outputs": [
    {
     "data": {
      "text/plain": [
       "ChiSoPhatTrien       0\n",
       "DienTichNuoiTrong    0\n",
       "SoTauKhaiThacBien    0\n",
       "TongSanLuong         0\n",
       "dtype: int64"
      ]
     },
     "execution_count": 6,
     "metadata": {},
     "output_type": "execute_result"
    }
   ],
   "source": [
    "data.isna().sum()"
   ]
  },
  {
   "cell_type": "code",
   "execution_count": 7,
   "metadata": {},
   "outputs": [
    {
     "data": {
      "text/plain": [
       "Text(0.5, 1.0, 'TongSanLuong')"
      ]
     },
     "execution_count": 7,
     "metadata": {},
     "output_type": "execute_result"
    },
    {
     "data": {
      "image/png": "[encoded data removed]",
      "text/plain": [
       "<Figure size 1440x720 with 4 Axes>"
      ]
     },
     "metadata": {
      "needs_background": "light"
     },
     "output_type": "display_data"
    }
   ],
   "source": [
    "plt.rcParams.update({\"figure.figsize\":(20,10)})\n",
    "\n",
    "fig,ax = plt.subplots(2,2)\n",
    "ax[0][0].plot(data.index,data['ChiSoPhatTrien'])\n",
    "ax[0][0].set_title(\"ChiSoPhatTrien\")\n",
    "ax[0][1].plot(data.index,data['DienTichNuoiTrong'])\n",
    "ax[0][1].set_title(\"DienTichNuoiTrong\")\n",
    "\n",
    "ax[1][0].plot(data.index,data['SoTauKhaiThacBien'])\n",
    "ax[1][0].set_title(\"SoTauKhaiThacBien\")\n",
    "\n",
    "ax[1][1].plot(data.index,data['TongSanLuong'])\n",
    "ax[1][1].set_title(\"TongSanLuong\")\n"
   ]
  },
  {
   "cell_type": "markdown",
   "metadata": {},
   "source": [
    "# Linear Regression"
   ]
  },
  {
   "cell_type": "markdown",
   "metadata": {},
   "source": [
    "## Ảnh hưởng giữa các biến trong mô hình hồi quy"
   ]
  },
  {
   "cell_type": "code",
   "execution_count": 8,
   "metadata": {},
   "outputs": [
    {
     "data": {
      "text/html": [
       "<div>\n",
       "<style scoped>\n",
       "    .dataframe tbody tr th:only-of-type {\n",
       "        vertical-align: middle;\n",
       "    }\n",
       "\n",
       "    .dataframe tbody tr th {\n",
       "        vertical-align: top;\n",
       "    }\n",
       "\n",
       "    .dataframe thead th {\n",
       "        text-align: right;\n",
       "    }\n",
       "</style>\n",
       "<table border=\"1\" class=\"dataframe\">\n",
       "  <thead>\n",
       "    <tr style=\"text-align: right;\">\n",
       "      <th></th>\n",
       "      <th>Nam</th>\n",
       "      <th>ChiSoPhatTrien</th>\n",
       "      <th>DienTichNuoiTrong</th>\n",
       "      <th>SoTauKhaiThacBien</th>\n",
       "      <th>TongSanLuong</th>\n",
       "    </tr>\n",
       "  </thead>\n",
       "  <tbody>\n",
       "    <tr>\n",
       "      <th>0</th>\n",
       "      <td>1995</td>\n",
       "      <td>108.2</td>\n",
       "      <td>453.6</td>\n",
       "      <td>95700.0</td>\n",
       "      <td>1584.4</td>\n",
       "    </tr>\n",
       "    <tr>\n",
       "      <th>1</th>\n",
       "      <td>1996</td>\n",
       "      <td>107.4</td>\n",
       "      <td>498.7</td>\n",
       "      <td>97700.0</td>\n",
       "      <td>1701.0</td>\n",
       "    </tr>\n",
       "    <tr>\n",
       "      <th>2</th>\n",
       "      <td>1997</td>\n",
       "      <td>101.7</td>\n",
       "      <td>504.1</td>\n",
       "      <td>71500.0</td>\n",
       "      <td>1730.4</td>\n",
       "    </tr>\n",
       "    <tr>\n",
       "      <th>3</th>\n",
       "      <td>1998</td>\n",
       "      <td>103.0</td>\n",
       "      <td>524.5</td>\n",
       "      <td>71799.0</td>\n",
       "      <td>1782.0</td>\n",
       "    </tr>\n",
       "    <tr>\n",
       "      <th>4</th>\n",
       "      <td>1999</td>\n",
       "      <td>112.6</td>\n",
       "      <td>524.6</td>\n",
       "      <td>73397.0</td>\n",
       "      <td>2006.8</td>\n",
       "    </tr>\n",
       "  </tbody>\n",
       "</table>\n",
       "</div>"
      ],
      "text/plain": [
       "    Nam  ChiSoPhatTrien  DienTichNuoiTrong  SoTauKhaiThacBien  TongSanLuong\n",
       "0  1995           108.2              453.6            95700.0        1584.4\n",
       "1  1996           107.4              498.7            97700.0        1701.0\n",
       "2  1997           101.7              504.1            71500.0        1730.4\n",
       "3  1998           103.0              524.5            71799.0        1782.0\n",
       "4  1999           112.6              524.6            73397.0        2006.8"
      ]
     },
     "execution_count": 8,
     "metadata": {},
     "output_type": "execute_result"
    }
   ],
   "source": [
    "data_linear = data.reset_index().copy()\n",
    "data_linear['Nam'] = data_linear['Nam'].apply(lambda x: x.year)\n",
    "data_linear.head()"
   ]
  },
  {
   "cell_type": "code",
   "execution_count": 9,
   "metadata": {},
   "outputs": [
    {
     "data": {
      "text/plain": [
       "<AxesSubplot:>"
      ]
     },
     "execution_count": 9,
     "metadata": {},
     "output_type": "execute_result"
    },
    {
     "data": {
      "image/png": "[encoded data removed]",
      "text/plain": [
       "<Figure size 1800x1080 with 2 Axes>"
      ]
     },
     "metadata": {
      "needs_background": "light"
     },
     "output_type": "display_data"
    }
   ],
   "source": [
    "plt.rcParams.update({\"figure.figsize\":(25,15)})\n",
    "sns.heatmap(data_linear.corr(),annot = True)"
   ]
  },
  {
   "cell_type": "code",
   "execution_count": 10,
   "metadata": {},
   "outputs": [],
   "source": [
    "train,test = data_linear.iloc[:-10,:],data_linear.iloc[-10:,:]"
   ]
  },
  {
   "cell_type": "code",
   "execution_count": 11,
   "metadata": {},
   "outputs": [
    {
     "data": {
      "text/html": [
       "<div>\n",
       "<style scoped>\n",
       "    .dataframe tbody tr th:only-of-type {\n",
       "        vertical-align: middle;\n",
       "    }\n",
       "\n",
       "    .dataframe tbody tr th {\n",
       "        vertical-align: top;\n",
       "    }\n",
       "\n",
       "    .dataframe thead th {\n",
       "        text-align: right;\n",
       "    }\n",
       "</style>\n",
       "<table border=\"1\" class=\"dataframe\">\n",
       "  <thead>\n",
       "    <tr style=\"text-align: right;\">\n",
       "      <th></th>\n",
       "      <th>Nam</th>\n",
       "      <th>ChiSoPhatTrien</th>\n",
       "      <th>DienTichNuoiTrong</th>\n",
       "      <th>SoTauKhaiThacBien</th>\n",
       "      <th>TongSanLuong</th>\n",
       "    </tr>\n",
       "  </thead>\n",
       "  <tbody>\n",
       "    <tr>\n",
       "      <th>0</th>\n",
       "      <td>1995</td>\n",
       "      <td>108.2</td>\n",
       "      <td>453.6</td>\n",
       "      <td>95700.0</td>\n",
       "      <td>1584.4</td>\n",
       "    </tr>\n",
       "    <tr>\n",
       "      <th>1</th>\n",
       "      <td>1996</td>\n",
       "      <td>107.4</td>\n",
       "      <td>498.7</td>\n",
       "      <td>97700.0</td>\n",
       "      <td>1701.0</td>\n",
       "    </tr>\n",
       "    <tr>\n",
       "      <th>2</th>\n",
       "      <td>1997</td>\n",
       "      <td>101.7</td>\n",
       "      <td>504.1</td>\n",
       "      <td>71500.0</td>\n",
       "      <td>1730.4</td>\n",
       "    </tr>\n",
       "    <tr>\n",
       "      <th>3</th>\n",
       "      <td>1998</td>\n",
       "      <td>103.0</td>\n",
       "      <td>524.5</td>\n",
       "      <td>71799.0</td>\n",
       "      <td>1782.0</td>\n",
       "    </tr>\n",
       "    <tr>\n",
       "      <th>4</th>\n",
       "      <td>1999</td>\n",
       "      <td>112.6</td>\n",
       "      <td>524.6</td>\n",
       "      <td>73397.0</td>\n",
       "      <td>2006.8</td>\n",
       "    </tr>\n",
       "  </tbody>\n",
       "</table>\n",
       "</div>"
      ],
      "text/plain": [
       "    Nam  ChiSoPhatTrien  DienTichNuoiTrong  SoTauKhaiThacBien  TongSanLuong\n",
       "0  1995           108.2              453.6            95700.0        1584.4\n",
       "1  1996           107.4              498.7            97700.0        1701.0\n",
       "2  1997           101.7              504.1            71500.0        1730.4\n",
       "3  1998           103.0              524.5            71799.0        1782.0\n",
       "4  1999           112.6              524.6            73397.0        2006.8"
      ]
     },
     "execution_count": 11,
     "metadata": {},
     "output_type": "execute_result"
    }
   ],
   "source": [
    "train.head()"
   ]
  },
  {
   "cell_type": "code",
   "execution_count": 12,
   "metadata": {},
   "outputs": [],
   "source": [
    "x_train,y_train = train.values[:,:-1],train.values[:,-1]\n",
    "x_test,y_test = test.values[:,:-1],test.values[:,-1]\n"
   ]
  },
  {
   "cell_type": "markdown",
   "metadata": {},
   "source": [
    "### Mô hình hồi quy không sử dụng yếu tố Nam"
   ]
  },
  {
   "cell_type": "code",
   "execution_count": 13,
   "metadata": {},
   "outputs": [
    {
     "data": {
      "text/plain": [
       "LinearRegression()"
      ]
     },
     "execution_count": 13,
     "metadata": {},
     "output_type": "execute_result"
    }
   ],
   "source": [
    "from sklearn.linear_model import LinearRegression\n",
    "lin_reg_without_Nam = LinearRegression()\n",
    "lin_reg_without_Nam.fit(x_train[:,1:],y_train)\n"
   ]
  },
  {
   "cell_type": "code",
   "execution_count": 14,
   "metadata": {},
   "outputs": [
    {
     "data": {
      "text/plain": [
       "(array([-7.25641716,  4.01540395,  0.0198855 ]), -1181.647899997788)"
      ]
     },
     "execution_count": 14,
     "metadata": {},
     "output_type": "execute_result"
    }
   ],
   "source": [
    "lin_reg_without_Nam.coef_,lin_reg_without_Nam.intercept_"
   ]
  },
  {
   "cell_type": "markdown",
   "metadata": {},
   "source": [
    "y = -7.25x1 + 4.0154x2+ 0.0199x3 - 1181.648"
   ]
  },
  {
   "cell_type": "code",
   "execution_count": 15,
   "metadata": {},
   "outputs": [],
   "source": [
    "lin_pred_without_Nam = lin_reg_without_Nam.predict(x_test[:,1:])"
   ]
  },
  {
   "cell_type": "code",
   "execution_count": 16,
   "metadata": {},
   "outputs": [],
   "source": [
    "rmse_without_Nam = rmse(lin_pred_without_Nam,test['TongSanLuong'])\n",
    "r2_without_Nam = r2_score(test['TongSanLuong'],lin_pred_without_Nam)\n",
    "mae_without_Nam = mean_absolute_error(lin_pred_without_Nam,test['TongSanLuong'])\n"
   ]
  },
  {
   "cell_type": "code",
   "execution_count": 17,
   "metadata": {},
   "outputs": [],
   "source": [
    "idx = pd.date_range('2011-12-31', periods=10, freq='Y')\n",
    "df_forecast_lin_without_Nam=pd.DataFrame(data=lin_pred_without_Nam, index=idx, columns=['TongSanLuong'])\n"
   ]
  },
  {
   "cell_type": "code",
   "execution_count": 18,
   "metadata": {},
   "outputs": [
    {
     "data": {
      "text/html": [
       "<div>\n",
       "<style scoped>\n",
       "    .dataframe tbody tr th:only-of-type {\n",
       "        vertical-align: middle;\n",
       "    }\n",
       "\n",
       "    .dataframe tbody tr th {\n",
       "        vertical-align: top;\n",
       "    }\n",
       "\n",
       "    .dataframe thead th {\n",
       "        text-align: right;\n",
       "    }\n",
       "</style>\n",
       "<table border=\"1\" class=\"dataframe\">\n",
       "  <thead>\n",
       "    <tr style=\"text-align: right;\">\n",
       "      <th></th>\n",
       "      <th>TongSanLuong</th>\n",
       "    </tr>\n",
       "  </thead>\n",
       "  <tbody>\n",
       "    <tr>\n",
       "      <th>2011-12-31</th>\n",
       "      <td>4773.269424</td>\n",
       "    </tr>\n",
       "    <tr>\n",
       "      <th>2012-12-31</th>\n",
       "      <td>4699.931859</td>\n",
       "    </tr>\n",
       "    <tr>\n",
       "      <th>2013-12-31</th>\n",
       "      <td>4743.732288</td>\n",
       "    </tr>\n",
       "    <tr>\n",
       "      <th>2014-12-31</th>\n",
       "      <td>4673.410932</td>\n",
       "    </tr>\n",
       "    <tr>\n",
       "      <th>2015-12-31</th>\n",
       "      <td>4589.847374</td>\n",
       "    </tr>\n",
       "    <tr>\n",
       "      <th>2016-12-31</th>\n",
       "      <td>4551.179835</td>\n",
       "    </tr>\n",
       "    <tr>\n",
       "      <th>2017-12-31</th>\n",
       "      <td>4696.814710</td>\n",
       "    </tr>\n",
       "    <tr>\n",
       "      <th>2018-12-31</th>\n",
       "      <td>4904.330249</td>\n",
       "    </tr>\n",
       "    <tr>\n",
       "      <th>2019-12-31</th>\n",
       "      <td>5113.761706</td>\n",
       "    </tr>\n",
       "    <tr>\n",
       "      <th>2020-12-31</th>\n",
       "      <td>5197.647316</td>\n",
       "    </tr>\n",
       "  </tbody>\n",
       "</table>\n",
       "</div>"
      ],
      "text/plain": [
       "            TongSanLuong\n",
       "2011-12-31   4773.269424\n",
       "2012-12-31   4699.931859\n",
       "2013-12-31   4743.732288\n",
       "2014-12-31   4673.410932\n",
       "2015-12-31   4589.847374\n",
       "2016-12-31   4551.179835\n",
       "2017-12-31   4696.814710\n",
       "2018-12-31   4904.330249\n",
       "2019-12-31   5113.761706\n",
       "2020-12-31   5197.647316"
      ]
     },
     "execution_count": 18,
     "metadata": {},
     "output_type": "execute_result"
    }
   ],
   "source": [
    "df_forecast_lin_without_Nam"
   ]
  },
  {
   "cell_type": "code",
   "execution_count": 19,
   "metadata": {},
   "outputs": [
    {
     "data": {
      "text/plain": [
       "Text(0, 0.5, 'TongSanLuong')"
      ]
     },
     "execution_count": 19,
     "metadata": {},
     "output_type": "execute_result"
    },
    {
     "data": {
      "image/png": "[encoded data removed]",
      "text/plain": [
       "<Figure size 1080x720 with 1 Axes>"
      ]
     },
     "metadata": {
      "needs_background": "light"
     },
     "output_type": "display_data"
    }
   ],
   "source": [
    "plt.figure(figsize = (15,10))\n",
    "plt.plot(test.index,test['TongSanLuong'],label = \"Actual\")\n",
    "plt.plot(test.index,df_forecast_lin_without_Nam['TongSanLuong'],label = \"Predict\")\n",
    "plt.legend(fontsize = 15)\n",
    "plt.title(\"Linear Regression\",fontsize = 15)\n",
    "plt.xlabel(\"Date\",fontsize = 15)\n",
    "plt.ylabel(\"TongSanLuong\",fontsize = 15)"
   ]
  },
  {
   "cell_type": "markdown",
   "metadata": {},
   "source": [
    "### Mô hình hồi quy chỉ sử dụng yếu tố Nam"
   ]
  },
  {
   "cell_type": "code",
   "execution_count": 20,
   "metadata": {},
   "outputs": [
    {
     "data": {
      "text/plain": [
       "LinearRegression()"
      ]
     },
     "execution_count": 20,
     "metadata": {},
     "output_type": "execute_result"
    }
   ],
   "source": [
    "from sklearn.linear_model import LinearRegression\n",
    "lin_reg_only_Nam = LinearRegression()\n",
    "lin_reg_only_Nam.fit(x_train[:,0].reshape(-1,1),y_train)\n"
   ]
  },
  {
   "cell_type": "code",
   "execution_count": 21,
   "metadata": {},
   "outputs": [
    {
     "data": {
      "text/plain": [
       "(array([247.55323529]), -492716.3536764703)"
      ]
     },
     "execution_count": 21,
     "metadata": {},
     "output_type": "execute_result"
    }
   ],
   "source": [
    "lin_reg_only_Nam.coef_,lin_reg_only_Nam.intercept_"
   ]
  },
  {
   "cell_type": "markdown",
   "metadata": {},
   "source": [
    "y = 247.553x1 - 492716.353"
   ]
  },
  {
   "cell_type": "code",
   "execution_count": 22,
   "metadata": {},
   "outputs": [],
   "source": [
    "lin_pred_only_Nam = lin_reg_only_Nam.predict(x_test[:,0].reshape(-1,1))\n"
   ]
  },
  {
   "cell_type": "code",
   "execution_count": 23,
   "metadata": {},
   "outputs": [],
   "source": [
    "rmse_only_Nam = rmse(lin_pred_only_Nam,test['TongSanLuong'])\n",
    "r2_only_Nam = r2_score(test['TongSanLuong'],lin_pred_only_Nam)\n",
    "mae_only_Nam = mean_absolute_error(lin_pred_only_Nam,test['TongSanLuong'])\n"
   ]
  },
  {
   "cell_type": "code",
   "execution_count": 24,
   "metadata": {},
   "outputs": [],
   "source": [
    "idx = pd.date_range('2011-12-31', periods=10, freq='Y')\n",
    "df_forecast_only_Nam=pd.DataFrame(data=lin_pred_only_Nam, index=idx, columns=['TongSanLuong'])"
   ]
  },
  {
   "cell_type": "code",
   "execution_count": 25,
   "metadata": {},
   "outputs": [
    {
     "data": {
      "text/plain": [
       "Text(0, 0.5, 'TongSanLuong')"
      ]
     },
     "execution_count": 25,
     "metadata": {},
     "output_type": "execute_result"
    },
    {
     "data": {
      "image/png": "[encoded data removed]",
      "text/plain": [
       "<Figure size 1080x720 with 1 Axes>"
      ]
     },
     "metadata": {
      "needs_background": "light"
     },
     "output_type": "display_data"
    }
   ],
   "source": [
    "plt.figure(figsize = (15,10))\n",
    "plt.plot(test.index,test['TongSanLuong'],label = \"Actual\")\n",
    "plt.plot(test.index,df_forecast_only_Nam['TongSanLuong'],label = \"Predict With Year\")\n",
    "plt.plot(test.index,df_forecast_lin_without_Nam['TongSanLuong'],label = \"Predict With Out Year\")\n",
    "\n",
    "plt.legend(fontsize = 15)\n",
    "plt.title(\"Linear Regression\",fontsize = 15)\n",
    "plt.xlabel(\"Date\",fontsize = 15)\n",
    "plt.ylabel(\"TongSanLuong\",fontsize = 15)"
   ]
  },
  {
   "cell_type": "markdown",
   "metadata": {},
   "source": [
    "### Mô hình hồi quy sử dụng thêm yếu tố Nam"
   ]
  },
  {
   "cell_type": "code",
   "execution_count": 26,
   "metadata": {},
   "outputs": [
    {
     "data": {
      "text/plain": [
       "LinearRegression()"
      ]
     },
     "execution_count": 26,
     "metadata": {},
     "output_type": "execute_result"
    }
   ],
   "source": [
    "from sklearn.linear_model import LinearRegression\n",
    "lin_reg = LinearRegression()\n",
    "lin_reg.fit(x_train,y_train)"
   ]
  },
  {
   "cell_type": "code",
   "execution_count": 27,
   "metadata": {},
   "outputs": [
    {
     "data": {
      "text/plain": [
       "0.0136337875"
      ]
     },
     "execution_count": 27,
     "metadata": {},
     "output_type": "execute_result"
    }
   ],
   "source": [
    "1.36337875e-02"
   ]
  },
  {
   "cell_type": "code",
   "execution_count": 28,
   "metadata": {},
   "outputs": [
    {
     "data": {
      "text/plain": [
       "(array([ 2.37763432e+02, -7.29011385e-01, -5.34283382e-01,  1.36337875e-02]),\n",
       " -473859.0355467673)"
      ]
     },
     "execution_count": 28,
     "metadata": {},
     "output_type": "execute_result"
    }
   ],
   "source": [
    "lin_reg.coef_,lin_reg.intercept_"
   ]
  },
  {
   "cell_type": "code",
   "execution_count": 29,
   "metadata": {},
   "outputs": [],
   "source": [
    "lin_pred = lin_reg.predict(x_test)"
   ]
  },
  {
   "cell_type": "code",
   "execution_count": 30,
   "metadata": {},
   "outputs": [],
   "source": [
    "rmse_all = rmse(lin_pred,test['TongSanLuong'])\n",
    "r2_all = r2_score(test['TongSanLuong'],lin_pred)\n",
    "mae_all = mean_absolute_error(lin_pred,test['TongSanLuong'])"
   ]
  },
  {
   "cell_type": "code",
   "execution_count": 31,
   "metadata": {},
   "outputs": [
    {
     "data": {
      "text/plain": [
       "0.08287739694632529"
      ]
     },
     "execution_count": 31,
     "metadata": {},
     "output_type": "execute_result"
    }
   ],
   "source": [
    "mean_absolute_percentage_error(lin_pred,test['TongSanLuong'])"
   ]
  },
  {
   "cell_type": "code",
   "execution_count": 32,
   "metadata": {},
   "outputs": [],
   "source": [
    "idx = pd.date_range('2011-12-31', periods=10, freq='Y')\n",
    "df_forecast_lin=pd.DataFrame(data=lin_pred, index=idx, columns=['TongSanLuong'])\n"
   ]
  },
  {
   "cell_type": "code",
   "execution_count": 33,
   "metadata": {},
   "outputs": [
    {
     "data": {
      "text/plain": [
       "Text(0, 0.5, 'TongSanLuong')"
      ]
     },
     "execution_count": 33,
     "metadata": {},
     "output_type": "execute_result"
    },
    {
     "data": {
      "image/png": "[encoded data removed]",
      "text/plain": [
       "<Figure size 1080x720 with 1 Axes>"
      ]
     },
     "metadata": {
      "needs_background": "light"
     },
     "output_type": "display_data"
    }
   ],
   "source": [
    "plt.figure(figsize = (15,10))\n",
    "plt.plot(test.index,test['TongSanLuong'],label = \"Actual\")\n",
    "plt.plot(test.index,df_forecast_lin['TongSanLuong'],label = \"Predict With Year\")\n",
    "plt.plot(test.index,df_forecast_lin_without_Nam['TongSanLuong'],label = \"Predict With Out Year\")\n",
    "plt.plot(test.index,df_forecast_only_Nam['TongSanLuong'],label = \"Predict Only Year\")\n",
    "\n",
    "plt.legend(fontsize = 15)\n",
    "plt.title(\"Linear Regression\",fontsize = 15)\n",
    "plt.xlabel(\"Date\",fontsize = 15)\n",
    "plt.ylabel(\"TongSanLuong\",fontsize = 15)"
   ]
  },
  {
   "cell_type": "markdown",
   "metadata": {},
   "source": [
    "Qua 3 đồ thị trên ta thấy yếu tố Nam ảnh hưởng mạnh mẽ tới chất lượng của mô hình, mô hình đạt kết quả cao nhất khi kết hợp tất cả các thuộc tính"
   ]
  },
  {
   "cell_type": "code",
   "execution_count": 34,
   "metadata": {},
   "outputs": [],
   "source": [
    "df_rmse = pd.DataFrame({\"RMSE\":[rmse_only_Nam,rmse_without_Nam,rmse_all],\"R2\":[r2_only_Nam,r2_without_Nam,r2_all],\"MAE\":[mae_only_Nam,mae_without_Nam,mae_all]},index = [\"Only Nam\",\"Without Nam\",\"All\"])"
   ]
  },
  {
   "cell_type": "code",
   "execution_count": 35,
   "metadata": {},
   "outputs": [
    {
     "data": {
      "text/html": [
       "<div>\n",
       "<style scoped>\n",
       "    .dataframe tbody tr th:only-of-type {\n",
       "        vertical-align: middle;\n",
       "    }\n",
       "\n",
       "    .dataframe tbody tr th {\n",
       "        vertical-align: top;\n",
       "    }\n",
       "\n",
       "    .dataframe thead th {\n",
       "        text-align: right;\n",
       "    }\n",
       "</style>\n",
       "<table border=\"1\" class=\"dataframe\">\n",
       "  <thead>\n",
       "    <tr style=\"text-align: right;\">\n",
       "      <th></th>\n",
       "      <th>RMSE</th>\n",
       "      <th>R2</th>\n",
       "      <th>MAE</th>\n",
       "    </tr>\n",
       "  </thead>\n",
       "  <tbody>\n",
       "    <tr>\n",
       "      <th>Only Nam</th>\n",
       "      <td>728.238631</td>\n",
       "      <td>0.460343</td>\n",
       "      <td>665.177941</td>\n",
       "    </tr>\n",
       "    <tr>\n",
       "      <th>Without Nam</th>\n",
       "      <td>2265.974092</td>\n",
       "      <td>-4.224929</td>\n",
       "      <td>2097.977431</td>\n",
       "    </tr>\n",
       "    <tr>\n",
       "      <th>All</th>\n",
       "      <td>651.228579</td>\n",
       "      <td>0.568444</td>\n",
       "      <td>553.690403</td>\n",
       "    </tr>\n",
       "  </tbody>\n",
       "</table>\n",
       "</div>"
      ],
      "text/plain": [
       "                    RMSE        R2          MAE\n",
       "Only Nam      728.238631  0.460343   665.177941\n",
       "Without Nam  2265.974092 -4.224929  2097.977431\n",
       "All           651.228579  0.568444   553.690403"
      ]
     },
     "execution_count": 35,
     "metadata": {},
     "output_type": "execute_result"
    }
   ],
   "source": [
    "df_rmse"
   ]
  },
  {
   "cell_type": "code",
   "execution_count": 36,
   "metadata": {},
   "outputs": [
    {
     "data": {
      "text/plain": [
       "Text(0, 0.5, 'RMSE')"
      ]
     },
     "execution_count": 36,
     "metadata": {},
     "output_type": "execute_result"
    },
    {
     "data": {
      "image/png": "[encoded data removed]",
      "text/plain": [
       "<Figure size 1800x1080 with 1 Axes>"
      ]
     },
     "metadata": {
      "needs_background": "light"
     },
     "output_type": "display_data"
    }
   ],
   "source": [
    "sns.barplot(data = df_rmse.reset_index(),x = 'index',y='RMSE')\n",
    "plt.xlabel(\"MODEL\",fontsize = 20)\n",
    "plt.ylabel(\"RMSE\",fontsize = 20)"
   ]
  },
  {
   "cell_type": "markdown",
   "metadata": {},
   "source": [
    "# Kiểm định "
   ]
  },
  {
   "cell_type": "markdown",
   "metadata": {},
   "source": [
    "## ADF_TEST"
   ]
  },
  {
   "cell_type": "code",
   "execution_count": 37,
   "metadata": {},
   "outputs": [],
   "source": [
    "def adf_test(data,title=''):\n",
    "    \"\"\"\n",
    "    Pass in a time series and an optional title, returns an ADF report\n",
    "    \"\"\"\n",
    "    print(f'Augmented Dickey-Fuller Test: {title}')\n",
    "    for atr in list(data):\n",
    "        result = adfuller(data[atr].dropna(),autolag='AIC') # .dropna() handles differenced data\n",
    "        labels = ['ADF test statistic','p-value','# lags used','# observations']\n",
    "        out = pd.Series(result[0:4],index=labels)\n",
    "        # for key,val in result[4].items():\n",
    "        #     out[f'critical value ({key})']=val\n",
    "        #     print(out.to_string())  # .to_string() removes the line \"dtype: float64\"\n",
    "        if result[1] <= 0.05:\n",
    "            print(atr + \": stationary, p-value = \" + str(result[1])+ \", ADF:\" + str(result[0]))\n",
    "        else:\n",
    "            print(atr + \": non-stationary, p-value = \" +  str(result[1])+ \", ADF:\" + str(result[0]))\n"
   ]
  },
  {
   "cell_type": "code",
   "execution_count": 38,
   "metadata": {},
   "outputs": [
    {
     "name": "stdout",
     "output_type": "stream",
     "text": [
      "Augmented Dickey-Fuller Test: \n",
      "ChiSoPhatTrien: non-stationary, p-value = 0.0556504288875797, ADF:-2.818710367942458\n",
      "DienTichNuoiTrong: non-stationary, p-value = 0.09086142587879448, ADF:-2.6104264363108487\n",
      "SoTauKhaiThacBien: non-stationary, p-value = 0.8173992864669152, ADF:-0.8058444058139393\n",
      "TongSanLuong: non-stationary, p-value = 1.0, ADF:3.631552418832209\n"
     ]
    }
   ],
   "source": [
    "adf_test(data)"
   ]
  },
  {
   "cell_type": "markdown",
   "metadata": {},
   "source": [
    "Biến đổi sang chuỗi dừng bằng cách lấy sai phân bậc 2\n"
   ]
  },
  {
   "cell_type": "code",
   "execution_count": 39,
   "metadata": {},
   "outputs": [],
   "source": [
    "data_diff = data.diff()\n",
    "data_diff = data_diff.iloc[1:,:]\n",
    "data_first_diff = data_diff.loc[\"2015-12-31\",\"TongSanLuong\"]\n",
    "\n",
    "data_diff['DienTichNuoiTrong']=data_diff['DienTichNuoiTrong'].apply(lambda x:np.cbrt(x))\n",
    "data_diff['TongSanLuong']=data_diff['TongSanLuong'].diff()\n",
    "data_diff = data_diff.iloc[1:,:]\n"
   ]
  },
  {
   "cell_type": "code",
   "execution_count": 40,
   "metadata": {},
   "outputs": [
    {
     "data": {
      "text/html": [
       "<div>\n",
       "<style scoped>\n",
       "    .dataframe tbody tr th:only-of-type {\n",
       "        vertical-align: middle;\n",
       "    }\n",
       "\n",
       "    .dataframe tbody tr th {\n",
       "        vertical-align: top;\n",
       "    }\n",
       "\n",
       "    .dataframe thead th {\n",
       "        text-align: right;\n",
       "    }\n",
       "</style>\n",
       "<table border=\"1\" class=\"dataframe\">\n",
       "  <thead>\n",
       "    <tr style=\"text-align: right;\">\n",
       "      <th></th>\n",
       "      <th>ChiSoPhatTrien</th>\n",
       "      <th>DienTichNuoiTrong</th>\n",
       "      <th>SoTauKhaiThacBien</th>\n",
       "      <th>TongSanLuong</th>\n",
       "    </tr>\n",
       "    <tr>\n",
       "      <th>Nam</th>\n",
       "      <th></th>\n",
       "      <th></th>\n",
       "      <th></th>\n",
       "      <th></th>\n",
       "    </tr>\n",
       "  </thead>\n",
       "  <tbody>\n",
       "    <tr>\n",
       "      <th>1997-12-31</th>\n",
       "      <td>-5.7</td>\n",
       "      <td>1.754411</td>\n",
       "      <td>-26200.0</td>\n",
       "      <td>-87.2</td>\n",
       "    </tr>\n",
       "    <tr>\n",
       "      <th>1998-12-31</th>\n",
       "      <td>1.3</td>\n",
       "      <td>2.732394</td>\n",
       "      <td>299.0</td>\n",
       "      <td>22.2</td>\n",
       "    </tr>\n",
       "    <tr>\n",
       "      <th>1999-12-31</th>\n",
       "      <td>9.6</td>\n",
       "      <td>0.464159</td>\n",
       "      <td>1598.0</td>\n",
       "      <td>173.2</td>\n",
       "    </tr>\n",
       "    <tr>\n",
       "      <th>2000-12-31</th>\n",
       "      <td>-0.5</td>\n",
       "      <td>4.895150</td>\n",
       "      <td>6371.0</td>\n",
       "      <td>19.3</td>\n",
       "    </tr>\n",
       "    <tr>\n",
       "      <th>2001-12-31</th>\n",
       "      <td>-3.9</td>\n",
       "      <td>4.838863</td>\n",
       "      <td>-790.0</td>\n",
       "      <td>-59.9</td>\n",
       "    </tr>\n",
       "  </tbody>\n",
       "</table>\n",
       "</div>"
      ],
      "text/plain": [
       "            ChiSoPhatTrien  DienTichNuoiTrong  SoTauKhaiThacBien  TongSanLuong\n",
       "Nam                                                                           \n",
       "1997-12-31            -5.7           1.754411           -26200.0         -87.2\n",
       "1998-12-31             1.3           2.732394              299.0          22.2\n",
       "1999-12-31             9.6           0.464159             1598.0         173.2\n",
       "2000-12-31            -0.5           4.895150             6371.0          19.3\n",
       "2001-12-31            -3.9           4.838863             -790.0         -59.9"
      ]
     },
     "execution_count": 40,
     "metadata": {},
     "output_type": "execute_result"
    }
   ],
   "source": [
    "data_diff.head()"
   ]
  },
  {
   "cell_type": "code",
   "execution_count": 41,
   "metadata": {},
   "outputs": [
    {
     "name": "stdout",
     "output_type": "stream",
     "text": [
      "Augmented Dickey-Fuller Test: \n",
      "ChiSoPhatTrien: stationary, p-value = 1.371252671482806e-06, ADF:-5.584715586830255\n",
      "DienTichNuoiTrong: stationary, p-value = 0.04771227681618971, ADF:-2.8800937381329\n",
      "SoTauKhaiThacBien: stationary, p-value = 4.1596192675857e-06, ADF:-5.357401165628298\n",
      "TongSanLuong: stationary, p-value = 2.6357364709598984e-06, ADF:-5.451687636951054\n"
     ]
    }
   ],
   "source": [
    "adf_test(data_diff)"
   ]
  },
  {
   "cell_type": "markdown",
   "metadata": {},
   "source": [
    "## Granger's Causality Test\n",
    "Kiểm định nhân quả Granger"
   ]
  },
  {
   "cell_type": "code",
   "execution_count": 42,
   "metadata": {},
   "outputs": [
    {
     "data": {
      "text/html": [
       "<div>\n",
       "<style scoped>\n",
       "    .dataframe tbody tr th:only-of-type {\n",
       "        vertical-align: middle;\n",
       "    }\n",
       "\n",
       "    .dataframe tbody tr th {\n",
       "        vertical-align: top;\n",
       "    }\n",
       "\n",
       "    .dataframe thead th {\n",
       "        text-align: right;\n",
       "    }\n",
       "</style>\n",
       "<table border=\"1\" class=\"dataframe\">\n",
       "  <thead>\n",
       "    <tr style=\"text-align: right;\">\n",
       "      <th></th>\n",
       "      <th>ChiSoPhatTrien_x</th>\n",
       "      <th>DienTichNuoiTrong_x</th>\n",
       "      <th>SoTauKhaiThacBien_x</th>\n",
       "      <th>TongSanLuong_x</th>\n",
       "    </tr>\n",
       "  </thead>\n",
       "  <tbody>\n",
       "    <tr>\n",
       "      <th>ChiSoPhatTrien_y</th>\n",
       "      <td>1.0000</td>\n",
       "      <td>0.0008</td>\n",
       "      <td>0.0000</td>\n",
       "      <td>0.0000</td>\n",
       "    </tr>\n",
       "    <tr>\n",
       "      <th>DienTichNuoiTrong_y</th>\n",
       "      <td>0.0001</td>\n",
       "      <td>1.0000</td>\n",
       "      <td>0.0023</td>\n",
       "      <td>0.2938</td>\n",
       "    </tr>\n",
       "    <tr>\n",
       "      <th>SoTauKhaiThacBien_y</th>\n",
       "      <td>0.0001</td>\n",
       "      <td>0.0001</td>\n",
       "      <td>1.0000</td>\n",
       "      <td>0.0000</td>\n",
       "    </tr>\n",
       "    <tr>\n",
       "      <th>TongSanLuong_y</th>\n",
       "      <td>0.1159</td>\n",
       "      <td>0.0077</td>\n",
       "      <td>0.0403</td>\n",
       "      <td>1.0000</td>\n",
       "    </tr>\n",
       "  </tbody>\n",
       "</table>\n",
       "</div>"
      ],
      "text/plain": [
       "                     ChiSoPhatTrien_x  DienTichNuoiTrong_x  \\\n",
       "ChiSoPhatTrien_y               1.0000               0.0008   \n",
       "DienTichNuoiTrong_y            0.0001               1.0000   \n",
       "SoTauKhaiThacBien_y            0.0001               0.0001   \n",
       "TongSanLuong_y                 0.1159               0.0077   \n",
       "\n",
       "                     SoTauKhaiThacBien_x  TongSanLuong_x  \n",
       "ChiSoPhatTrien_y                  0.0000          0.0000  \n",
       "DienTichNuoiTrong_y               0.0023          0.2938  \n",
       "SoTauKhaiThacBien_y               1.0000          0.0000  \n",
       "TongSanLuong_y                    0.0403          1.0000  "
      ]
     },
     "execution_count": 42,
     "metadata": {},
     "output_type": "execute_result"
    }
   ],
   "source": [
    "from statsmodels.tsa.stattools import grangercausalitytests\n",
    "maxlag=4\n",
    "\n",
    "test = 'ssr_chi2test'\n",
    "def grangers_causation_matrix(data, variables, test='ssr_chi2test', verbose=False):    \n",
    "    df = pd.DataFrame(np.zeros((len(variables), len(variables))), columns=variables, index=variables)\n",
    "    for c in df.columns:\n",
    "        for r in df.index:\n",
    "            test_result = grangercausalitytests(data[[r, c]], maxlag=maxlag, verbose=False)\n",
    "            p_values = [round(test_result[i+1][0][test][1],4) for i in range(maxlag)]\n",
    "            if verbose: print(f'Y = {r}, X = {c}, P Values = {p_values}')\n",
    "            min_p_value = np.min(p_values)\n",
    "            df.loc[r, c] = min_p_value\n",
    "    df.columns = [var + '_x' for var in variables]\n",
    "    df.index = [var + '_y' for var in variables]\n",
    "    return df\n",
    "\n",
    "grangers_causation_matrix(data, variables = data.columns)        \n"
   ]
  },
  {
   "cell_type": "markdown",
   "metadata": {},
   "source": [
    "Qua kiểm định nhân quả Granger ta thấy:\n",
    "* ChiSoPhatTrien không tác động nhân quả lên TongSanLuong\n",
    "* DienTichNuoiTrong và SoTauKhaiThacBien có tác động nhân quả lên TongSanLuong\n",
    "* DienTichNuoiTrong không tác động nhân quả lên ChiSoPhatTrien\n",
    "* DienTichNuoiTrong không tác động nhân quả lên SoTauKhaiThacBien\n"
   ]
  },
  {
   "cell_type": "code",
   "execution_count": 43,
   "metadata": {},
   "outputs": [],
   "source": [
    "data_1 = data.loc[\"2014-12-31\",\"TongSanLuong\"]"
   ]
  },
  {
   "cell_type": "markdown",
   "metadata": {},
   "source": [
    "## Cointegration Test "
   ]
  },
  {
   "cell_type": "markdown",
   "metadata": {},
   "source": [
    "Kiểm định đồng liên kết"
   ]
  },
  {
   "cell_type": "code",
   "execution_count": 44,
   "metadata": {},
   "outputs": [
    {
     "name": "stdout",
     "output_type": "stream",
     "text": [
      "Name   ::  Test Stat > C(95%)    =>   Signif  \n",
      " ----------------------------------------\n",
      "ChiSoPhatTrien ::  300.83    > 40.1749   =>   True\n",
      "DienTichNuoiTrong ::  159.4     > 24.2761   =>   True\n",
      "SoTauKhaiThacBien ::  56.03     > 12.3212   =>   True\n",
      "TongSanLuong ::  12.96     > 4.1296    =>   True\n"
     ]
    }
   ],
   "source": [
    "from statsmodels.tsa.vector_ar.vecm import coint_johansen\n",
    "\n",
    "def cointegration_test(df, alpha=0.05): \n",
    "    out = coint_johansen(df,-1,5)\n",
    "    d = {'0.90':0, '0.95':1, '0.99':2}\n",
    "    traces = out.lr1\n",
    "    cvts = out.cvt[:, d[str(1-alpha)]]\n",
    "    def adjust(val, length= 6): return str(val).ljust(length)\n",
    "\n",
    "    # Summary\n",
    "    print('Name   ::  Test Stat > C(95%)    =>   Signif  \\n', '--'*20)\n",
    "    for col, trace, cvt in zip(df.columns, traces, cvts):\n",
    "        print(adjust(col), ':: ', adjust(round(trace,2), 9), \">\", adjust(cvt, 8), ' =>  ' , trace > cvt)\n",
    "\n",
    "cointegration_test(data)\n"
   ]
  },
  {
   "cell_type": "markdown",
   "metadata": {},
   "source": [
    "Qua kiểm định đồng liên kết, ta thấy các yếu tố trên đều đồng liên kết, đều có mối quan hệ với nhau"
   ]
  },
  {
   "cell_type": "markdown",
   "metadata": {},
   "source": [
    "# Chia train,test"
   ]
  },
  {
   "cell_type": "code",
   "execution_count": 45,
   "metadata": {},
   "outputs": [],
   "source": [
    "train,test = data_diff.iloc[:-5,:],data_diff.iloc[-5:,:]"
   ]
  },
  {
   "cell_type": "code",
   "execution_count": 46,
   "metadata": {},
   "outputs": [],
   "source": [
    "train_pt,test_pt = train.iloc[:,1:],test.iloc[:,1:]"
   ]
  },
  {
   "cell_type": "code",
   "execution_count": 47,
   "metadata": {},
   "outputs": [
    {
     "data": {
      "text/plain": [
       "((19, 4), (5, 4))"
      ]
     },
     "execution_count": 47,
     "metadata": {},
     "output_type": "execute_result"
    }
   ],
   "source": [
    "train.shape,test.shape"
   ]
  },
  {
   "cell_type": "code",
   "execution_count": 48,
   "metadata": {},
   "outputs": [
    {
     "data": {
      "text/html": [
       "<div>\n",
       "<style scoped>\n",
       "    .dataframe tbody tr th:only-of-type {\n",
       "        vertical-align: middle;\n",
       "    }\n",
       "\n",
       "    .dataframe tbody tr th {\n",
       "        vertical-align: top;\n",
       "    }\n",
       "\n",
       "    .dataframe thead th {\n",
       "        text-align: right;\n",
       "    }\n",
       "</style>\n",
       "<table border=\"1\" class=\"dataframe\">\n",
       "  <thead>\n",
       "    <tr style=\"text-align: right;\">\n",
       "      <th></th>\n",
       "      <th>ChiSoPhatTrien</th>\n",
       "      <th>DienTichNuoiTrong</th>\n",
       "      <th>SoTauKhaiThacBien</th>\n",
       "      <th>TongSanLuong</th>\n",
       "    </tr>\n",
       "    <tr>\n",
       "      <th>Nam</th>\n",
       "      <th></th>\n",
       "      <th></th>\n",
       "      <th></th>\n",
       "      <th></th>\n",
       "    </tr>\n",
       "  </thead>\n",
       "  <tbody>\n",
       "    <tr>\n",
       "      <th>1997-12-31</th>\n",
       "      <td>-5.7</td>\n",
       "      <td>1.754411</td>\n",
       "      <td>-26200.000000</td>\n",
       "      <td>-87.2</td>\n",
       "    </tr>\n",
       "    <tr>\n",
       "      <th>1998-12-31</th>\n",
       "      <td>1.3</td>\n",
       "      <td>2.732394</td>\n",
       "      <td>299.000000</td>\n",
       "      <td>22.2</td>\n",
       "    </tr>\n",
       "    <tr>\n",
       "      <th>1999-12-31</th>\n",
       "      <td>9.6</td>\n",
       "      <td>0.464159</td>\n",
       "      <td>1598.000000</td>\n",
       "      <td>173.2</td>\n",
       "    </tr>\n",
       "    <tr>\n",
       "      <th>2000-12-31</th>\n",
       "      <td>-0.5</td>\n",
       "      <td>4.895150</td>\n",
       "      <td>6371.000000</td>\n",
       "      <td>19.3</td>\n",
       "    </tr>\n",
       "    <tr>\n",
       "      <th>2001-12-31</th>\n",
       "      <td>-3.9</td>\n",
       "      <td>4.838863</td>\n",
       "      <td>-790.000000</td>\n",
       "      <td>-59.9</td>\n",
       "    </tr>\n",
       "    <tr>\n",
       "      <th>2002-12-31</th>\n",
       "      <td>0.5</td>\n",
       "      <td>3.489766</td>\n",
       "      <td>2822.000000</td>\n",
       "      <td>28.6</td>\n",
       "    </tr>\n",
       "    <tr>\n",
       "      <th>2003-12-31</th>\n",
       "      <td>-0.7</td>\n",
       "      <td>4.119322</td>\n",
       "      <td>1322.000000</td>\n",
       "      <td>-0.9</td>\n",
       "    </tr>\n",
       "    <tr>\n",
       "      <th>2004-12-31</th>\n",
       "      <td>1.9</td>\n",
       "      <td>3.744436</td>\n",
       "      <td>2308.000000</td>\n",
       "      <td>71.5</td>\n",
       "    </tr>\n",
       "    <tr>\n",
       "      <th>2005-12-31</th>\n",
       "      <td>0.4</td>\n",
       "      <td>3.191252</td>\n",
       "      <td>5450.000000</td>\n",
       "      <td>40.2</td>\n",
       "    </tr>\n",
       "    <tr>\n",
       "      <th>2006-12-31</th>\n",
       "      <td>-3.0</td>\n",
       "      <td>2.880487</td>\n",
       "      <td>-2561.000000</td>\n",
       "      <td>-68.8</td>\n",
       "    </tr>\n",
       "    <tr>\n",
       "      <th>2007-12-31</th>\n",
       "      <td>5.5</td>\n",
       "      <td>3.484283</td>\n",
       "      <td>-2561.000000</td>\n",
       "      <td>222.7</td>\n",
       "    </tr>\n",
       "    <tr>\n",
       "      <th>2008-12-31</th>\n",
       "      <td>-3.2</td>\n",
       "      <td>3.233247</td>\n",
       "      <td>37242.000000</td>\n",
       "      <td>-74.6</td>\n",
       "    </tr>\n",
       "    <tr>\n",
       "      <th>2009-12-31</th>\n",
       "      <td>-3.8</td>\n",
       "      <td>-1.991632</td>\n",
       "      <td>3000.000000</td>\n",
       "      <td>-134.6</td>\n",
       "    </tr>\n",
       "    <tr>\n",
       "      <th>2010-12-31</th>\n",
       "      <td>-0.2</td>\n",
       "      <td>1.991632</td>\n",
       "      <td>3000.000000</td>\n",
       "      <td>4.1</td>\n",
       "    </tr>\n",
       "    <tr>\n",
       "      <th>2011-12-31</th>\n",
       "      <td>0.3</td>\n",
       "      <td>-2.295770</td>\n",
       "      <td>-1000.000000</td>\n",
       "      <td>32.3</td>\n",
       "    </tr>\n",
       "    <tr>\n",
       "      <th>2012-12-31</th>\n",
       "      <td>1.0</td>\n",
       "      <td>-1.169607</td>\n",
       "      <td>-3000.000000</td>\n",
       "      <td>68.6</td>\n",
       "    </tr>\n",
       "    <tr>\n",
       "      <th>2013-12-31</th>\n",
       "      <td>-3.5</td>\n",
       "      <td>1.957434</td>\n",
       "      <td>-589.000000</td>\n",
       "      <td>-174.3</td>\n",
       "    </tr>\n",
       "    <tr>\n",
       "      <th>2014-12-31</th>\n",
       "      <td>1.8</td>\n",
       "      <td>2.147229</td>\n",
       "      <td>-4878.544708</td>\n",
       "      <td>114.5</td>\n",
       "    </tr>\n",
       "    <tr>\n",
       "      <th>2015-12-31</th>\n",
       "      <td>-1.3</td>\n",
       "      <td>1.000000</td>\n",
       "      <td>-4878.544708</td>\n",
       "      <td>-64.6</td>\n",
       "    </tr>\n",
       "  </tbody>\n",
       "</table>\n",
       "</div>"
      ],
      "text/plain": [
       "            ChiSoPhatTrien  DienTichNuoiTrong  SoTauKhaiThacBien  TongSanLuong\n",
       "Nam                                                                           \n",
       "1997-12-31            -5.7           1.754411      -26200.000000         -87.2\n",
       "1998-12-31             1.3           2.732394         299.000000          22.2\n",
       "1999-12-31             9.6           0.464159        1598.000000         173.2\n",
       "2000-12-31            -0.5           4.895150        6371.000000          19.3\n",
       "2001-12-31            -3.9           4.838863        -790.000000         -59.9\n",
       "2002-12-31             0.5           3.489766        2822.000000          28.6\n",
       "2003-12-31            -0.7           4.119322        1322.000000          -0.9\n",
       "2004-12-31             1.9           3.744436        2308.000000          71.5\n",
       "2005-12-31             0.4           3.191252        5450.000000          40.2\n",
       "2006-12-31            -3.0           2.880487       -2561.000000         -68.8\n",
       "2007-12-31             5.5           3.484283       -2561.000000         222.7\n",
       "2008-12-31            -3.2           3.233247       37242.000000         -74.6\n",
       "2009-12-31            -3.8          -1.991632        3000.000000        -134.6\n",
       "2010-12-31            -0.2           1.991632        3000.000000           4.1\n",
       "2011-12-31             0.3          -2.295770       -1000.000000          32.3\n",
       "2012-12-31             1.0          -1.169607       -3000.000000          68.6\n",
       "2013-12-31            -3.5           1.957434        -589.000000        -174.3\n",
       "2014-12-31             1.8           2.147229       -4878.544708         114.5\n",
       "2015-12-31            -1.3           1.000000       -4878.544708         -64.6"
      ]
     },
     "execution_count": 48,
     "metadata": {},
     "output_type": "execute_result"
    }
   ],
   "source": [
    "train"
   ]
  },
  {
   "cell_type": "markdown",
   "metadata": {},
   "source": [
    "# Mô hình chuỗi thời gian đơn biến\n"
   ]
  },
  {
   "cell_type": "code",
   "execution_count": 49,
   "metadata": {},
   "outputs": [
    {
     "data": {
      "text/plain": [
       "<Figure size 720x288 with 0 Axes>"
      ]
     },
     "metadata": {},
     "output_type": "display_data"
    },
    {
     "data": {
      "image/png": "[encoded data removed]",
      "text/plain": [
       "<Figure size 1800x1080 with 1 Axes>"
      ]
     },
     "metadata": {
      "needs_background": "light"
     },
     "output_type": "display_data"
    }
   ],
   "source": [
    "from statsmodels.graphics.tsaplots import plot_acf,plot_pacf\n",
    "plt.figure(figsize = (10,4))\n",
    "plot_acf(data_diff[['TongSanLuong']])\n",
    "plt.show()"
   ]
  },
  {
   "cell_type": "code",
   "execution_count": 50,
   "metadata": {},
   "outputs": [
    {
     "name": "stderr",
     "output_type": "stream",
     "text": [
      "c:\\Users\\quypr\\Anaconda3\\lib\\site-packages\\statsmodels\\graphics\\tsaplots.py:348: FutureWarning: The default method 'yw' can produce PACF values outside of the [-1,1] interval. After 0.13, the default will change tounadjusted Yule-Walker ('ywm'). You can use this method now by setting method='ywm'.\n",
      "  warnings.warn(\n"
     ]
    },
    {
     "data": {
      "image/png": "[encoded data removed]",
      "text/plain": [
       "<Figure size 1800x1080 with 1 Axes>"
      ]
     },
     "metadata": {
      "needs_background": "light"
     },
     "output_type": "display_data"
    }
   ],
   "source": [
    "plot_pacf(data_diff[['TongSanLuong']],lags = 11)\n",
    "plt.show()\n"
   ]
  },
  {
   "cell_type": "code",
   "execution_count": 51,
   "metadata": {},
   "outputs": [],
   "source": [
    "arima = ARIMA(train[['TongSanLuong']],order  = (1,0,1))\n",
    "res = arima.fit()"
   ]
  },
  {
   "cell_type": "code",
   "execution_count": 52,
   "metadata": {},
   "outputs": [
    {
     "name": "stdout",
     "output_type": "stream",
     "text": [
      "                               SARIMAX Results                                \n",
      "==============================================================================\n",
      "Dep. Variable:           TongSanLuong   No. Observations:                   19\n",
      "Model:                 ARIMA(1, 0, 1)   Log Likelihood                -111.657\n",
      "Date:                Sun, 17 Jul 2022   AIC                            231.314\n",
      "Time:                        20:54:22   BIC                            235.092\n",
      "Sample:                    12-31-1997   HQIC                           231.954\n",
      "                         - 12-31-2015                                         \n",
      "Covariance Type:                  opg                                         \n",
      "==============================================================================\n",
      "                 coef    std err          z      P>|z|      [0.025      0.975]\n",
      "------------------------------------------------------------------------------\n",
      "const         10.1519      9.127      1.112      0.266      -7.738      28.041\n",
      "ar.L1          0.1389      0.530      0.262      0.793      -0.901       1.178\n",
      "ma.L1         -0.6676      0.341     -1.956      0.050      -1.337       0.001\n",
      "sigma2      7285.8403   2897.335      2.515      0.012    1607.168     1.3e+04\n",
      "===================================================================================\n",
      "Ljung-Box (L1) (Q):                   0.00   Jarque-Bera (JB):                 0.28\n",
      "Prob(Q):                              0.99   Prob(JB):                         0.87\n",
      "Heteroskedasticity (H):               1.14   Skew:                             0.30\n",
      "Prob(H) (two-sided):                  0.88   Kurtosis:                         3.01\n",
      "===================================================================================\n",
      "\n",
      "Warnings:\n",
      "[1] Covariance matrix calculated using the outer product of gradients (complex-step).\n"
     ]
    }
   ],
   "source": [
    "print(res.summary())"
   ]
  },
  {
   "cell_type": "code",
   "execution_count": 53,
   "metadata": {},
   "outputs": [],
   "source": [
    "arima_pred = res.forecast(5)"
   ]
  },
  {
   "cell_type": "code",
   "execution_count": 54,
   "metadata": {},
   "outputs": [],
   "source": [
    "df_forecast_arima = pd.DataFrame(arima_pred).rename({\"predicted_mean\":\"TongSanLuong\"},axis = 1)"
   ]
  },
  {
   "cell_type": "code",
   "execution_count": 55,
   "metadata": {},
   "outputs": [],
   "source": [
    "df_forecast_arima['TongSanLuong'] = data_1 + ((data_first_diff) + (df_forecast_arima['TongSanLuong']).cumsum()).cumsum()"
   ]
  },
  {
   "cell_type": "code",
   "execution_count": 56,
   "metadata": {},
   "outputs": [
    {
     "data": {
      "text/html": [
       "<div>\n",
       "<style scoped>\n",
       "    .dataframe tbody tr th:only-of-type {\n",
       "        vertical-align: middle;\n",
       "    }\n",
       "\n",
       "    .dataframe tbody tr th {\n",
       "        vertical-align: top;\n",
       "    }\n",
       "\n",
       "    .dataframe thead th {\n",
       "        text-align: right;\n",
       "    }\n",
       "</style>\n",
       "<table border=\"1\" class=\"dataframe\">\n",
       "  <thead>\n",
       "    <tr style=\"text-align: right;\">\n",
       "      <th></th>\n",
       "      <th>TongSanLuong</th>\n",
       "    </tr>\n",
       "  </thead>\n",
       "  <tbody>\n",
       "    <tr>\n",
       "      <th>2016-12-31</th>\n",
       "      <td>6632.747204</td>\n",
       "    </tr>\n",
       "    <tr>\n",
       "      <th>2017-12-31</th>\n",
       "      <td>6948.069952</td>\n",
       "    </tr>\n",
       "    <tr>\n",
       "      <th>2018-12-31</th>\n",
       "      <td>7274.325553</td>\n",
       "    </tr>\n",
       "    <tr>\n",
       "      <th>2019-12-31</th>\n",
       "      <td>7610.841494</td>\n",
       "    </tr>\n",
       "    <tr>\n",
       "      <th>2020-12-31</th>\n",
       "      <td>7957.524382</td>\n",
       "    </tr>\n",
       "  </tbody>\n",
       "</table>\n",
       "</div>"
      ],
      "text/plain": [
       "            TongSanLuong\n",
       "2016-12-31   6632.747204\n",
       "2017-12-31   6948.069952\n",
       "2018-12-31   7274.325553\n",
       "2019-12-31   7610.841494\n",
       "2020-12-31   7957.524382"
      ]
     },
     "execution_count": 56,
     "metadata": {},
     "output_type": "execute_result"
    }
   ],
   "source": [
    "df_forecast_arima"
   ]
  },
  {
   "cell_type": "code",
   "execution_count": 57,
   "metadata": {},
   "outputs": [],
   "source": [
    "data_test = data[(data.index >= \"2016-12-31\") & (data.index <= \"2020-12-31\")]"
   ]
  },
  {
   "cell_type": "code",
   "execution_count": 58,
   "metadata": {},
   "outputs": [],
   "source": [
    "uni_rmse = np.sqrt(mean_squared_error(data_test['TongSanLuong'],df_forecast_arima['TongSanLuong']))\n",
    "uni_mae = mean_absolute_error(data_test['TongSanLuong'],df_forecast_arima['TongSanLuong'])\n",
    "uni_mape = mean_absolute_percentage_error(data_test['TongSanLuong'],df_forecast_arima['TongSanLuong'])"
   ]
  },
  {
   "cell_type": "code",
   "execution_count": 59,
   "metadata": {},
   "outputs": [
    {
     "data": {
      "text/html": [
       "<div>\n",
       "<style scoped>\n",
       "    .dataframe tbody tr th:only-of-type {\n",
       "        vertical-align: middle;\n",
       "    }\n",
       "\n",
       "    .dataframe tbody tr th {\n",
       "        vertical-align: top;\n",
       "    }\n",
       "\n",
       "    .dataframe thead th {\n",
       "        text-align: right;\n",
       "    }\n",
       "</style>\n",
       "<table border=\"1\" class=\"dataframe\">\n",
       "  <thead>\n",
       "    <tr style=\"text-align: right;\">\n",
       "      <th></th>\n",
       "      <th>ARIMA</th>\n",
       "    </tr>\n",
       "  </thead>\n",
       "  <tbody>\n",
       "    <tr>\n",
       "      <th>RMSE</th>\n",
       "      <td>481.849093</td>\n",
       "    </tr>\n",
       "    <tr>\n",
       "      <th>MAE</th>\n",
       "      <td>459.418283</td>\n",
       "    </tr>\n",
       "    <tr>\n",
       "      <th>MAPE</th>\n",
       "      <td>0.058302</td>\n",
       "    </tr>\n",
       "  </tbody>\n",
       "</table>\n",
       "</div>"
      ],
      "text/plain": [
       "           ARIMA\n",
       "RMSE  481.849093\n",
       "MAE   459.418283\n",
       "MAPE    0.058302"
      ]
     },
     "execution_count": 59,
     "metadata": {},
     "output_type": "execute_result"
    }
   ],
   "source": [
    "df_uni = pd.DataFrame({\"ARIMA\":[uni_rmse,uni_mae,uni_mape]},index = [\"RMSE\",\"MAE\",\"MAPE\"])\n",
    "df_uni"
   ]
  },
  {
   "cell_type": "code",
   "execution_count": 60,
   "metadata": {},
   "outputs": [
    {
     "data": {
      "text/plain": [
       "Text(0, 0.5, 'TongSanLuong')"
      ]
     },
     "execution_count": 60,
     "metadata": {},
     "output_type": "execute_result"
    },
    {
     "data": {
      "image/png": "[encoded data removed]",
      "text/plain": [
       "<Figure size 1080x720 with 1 Axes>"
      ]
     },
     "metadata": {
      "needs_background": "light"
     },
     "output_type": "display_data"
    }
   ],
   "source": [
    "plt.figure(figsize=(15,10))\n",
    "plt.plot(df_forecast_arima.index.date,df_forecast_arima['TongSanLuong'],'r-',label = \"Predict\")\n",
    "plt.plot(data_test.index.date,data_test['TongSanLuong'],'b-',label = \"Actual\")\n",
    "plt.legend(fontsize = 15)\n",
    "plt.title(\"ARIMA\",fontsize = 15)\n",
    "plt.xlabel(\"Date\",fontsize = 15)\n",
    "plt.ylabel(\"TongSanLuong\",fontsize = 15)"
   ]
  },
  {
   "cell_type": "markdown",
   "metadata": {},
   "source": [
    "# Mô hình chuỗi thời gian đa biến\n"
   ]
  },
  {
   "cell_type": "markdown",
   "metadata": {},
   "source": [
    "## VAR"
   ]
  },
  {
   "cell_type": "markdown",
   "metadata": {},
   "source": [
    "### VAR không có yếu tố ChiSoPhatTrien"
   ]
  },
  {
   "cell_type": "code",
   "execution_count": 61,
   "metadata": {},
   "outputs": [
    {
     "name": "stdout",
     "output_type": "stream",
     "text": [
      "Order = 1\n",
      "AIC:  29.120759599179838\n",
      "BIC:  29.714340771110614\n",
      "\n",
      "Order = 2\n",
      "AIC:  28.702121708178367\n",
      "BIC:  29.73138525083605\n",
      "\n",
      "Order = 3\n",
      "AIC:  27.82311292102061\n",
      "BIC:  29.2717167752202\n",
      "\n"
     ]
    }
   ],
   "source": [
    "for i in [k for k in range(1,4)]:\n",
    "    var_nopt = VAR(endog = train_pt.values,dates = train_pt.index)\n",
    "    var_results_nopt = var_nopt.fit(maxlags = i)\n",
    "    print('Order =', i)\n",
    "    print('AIC: ', var_results_nopt.aic)\n",
    "    print('BIC: ', var_results_nopt.bic)\n",
    "    print()\n"
   ]
  },
  {
   "cell_type": "code",
   "execution_count": 62,
   "metadata": {},
   "outputs": [
    {
     "data": {
      "text/plain": [
       "  Summary of Regression Results   \n",
       "==================================\n",
       "Model:                         VAR\n",
       "Method:                        OLS\n",
       "Date:           Sun, 17, Jul, 2022\n",
       "Time:                     20:54:23\n",
       "--------------------------------------------------------------------\n",
       "No. of Equations:         3.00000    BIC:                    29.2717\n",
       "Nobs:                     16.0000    HQIC:                   27.8973\n",
       "Log likelihood:          -260.694    FPE:                2.31892e+12\n",
       "AIC:                      27.8231    Det(Omega_mle):     5.40414e+11\n",
       "--------------------------------------------------------------------\n",
       "Results for equation y1\n",
       "========================================================================\n",
       "           coefficient       std. error           t-stat            prob\n",
       "------------------------------------------------------------------------\n",
       "const         1.202682         0.425738            2.825           0.005\n",
       "L1.y1         0.363814         0.198391            1.834           0.067\n",
       "L1.y2        -0.000175         0.000035           -5.042           0.000\n",
       "L1.y3         0.000134         0.003584            0.037           0.970\n",
       "L2.y1        -0.075753         0.150886           -0.502           0.616\n",
       "L2.y2        -0.000000         0.000057           -0.007           0.995\n",
       "L2.y3         0.006328         0.004225            1.498           0.134\n",
       "L3.y1         0.443965         0.148549            2.989           0.003\n",
       "L3.y2        -0.000114         0.000031           -3.674           0.000\n",
       "L3.y3         0.003476         0.004417            0.787           0.431\n",
       "========================================================================\n",
       "\n",
       "Results for equation y2\n",
       "========================================================================\n",
       "           coefficient       std. error           t-stat            prob\n",
       "------------------------------------------------------------------------\n",
       "const     -1619.379793      5426.462273           -0.298           0.765\n",
       "L1.y1      -172.944349      2528.693848           -0.068           0.945\n",
       "L1.y2         0.173968         0.441653            0.394           0.694\n",
       "L1.y3        81.984061        45.676451            1.795           0.073\n",
       "L2.y1       517.405009      1923.190458            0.269           0.788\n",
       "L2.y2         0.069904         0.721542            0.097           0.923\n",
       "L2.y3        21.800491        53.855619            0.405           0.686\n",
       "L3.y1        15.686976      1893.411275            0.008           0.993\n",
       "L3.y2         0.210678         0.393805            0.535           0.593\n",
       "L3.y3        44.164011        56.301790            0.784           0.433\n",
       "========================================================================\n",
       "\n",
       "Results for equation y3\n",
       "========================================================================\n",
       "           coefficient       std. error           t-stat            prob\n",
       "------------------------------------------------------------------------\n",
       "const       -18.005775        39.280655           -0.458           0.647\n",
       "L1.y1        15.844627        18.304513            0.866           0.387\n",
       "L1.y2        -0.008321         0.003197           -2.603           0.009\n",
       "L1.y3        -0.819764         0.330639           -2.479           0.013\n",
       "L2.y1        15.021334        13.921442            1.079           0.281\n",
       "L2.y2         0.002602         0.005223            0.498           0.618\n",
       "L2.y3        -0.157934         0.389846           -0.405           0.685\n",
       "L3.y1        -0.993612        13.705879           -0.072           0.942\n",
       "L3.y2        -0.001080         0.002851           -0.379           0.705\n",
       "L3.y3        -0.820621         0.407553           -2.014           0.044\n",
       "========================================================================\n",
       "\n",
       "Correlation matrix of residuals\n",
       "            y1        y2        y3\n",
       "y1    1.000000  0.103015 -0.117626\n",
       "y2    0.103015  1.000000  0.344808\n",
       "y3   -0.117626  0.344808  1.000000\n",
       "\n"
      ]
     },
     "execution_count": 62,
     "metadata": {},
     "output_type": "execute_result"
    }
   ],
   "source": [
    "var_nopt_results = var_nopt.fit(3)\n",
    "var_nopt_results.summary()"
   ]
  },
  {
   "cell_type": "code",
   "execution_count": 63,
   "metadata": {},
   "outputs": [],
   "source": [
    "t = test.values[:5,1:]"
   ]
  },
  {
   "cell_type": "code",
   "execution_count": 64,
   "metadata": {},
   "outputs": [],
   "source": [
    "var_nopt_pred = var_nopt_results.forecast(y = t,steps = 5)"
   ]
  },
  {
   "cell_type": "code",
   "execution_count": 65,
   "metadata": {},
   "outputs": [],
   "source": [
    "var_nopt_pred = var_nopt_pred[:,-1]"
   ]
  },
  {
   "cell_type": "code",
   "execution_count": 66,
   "metadata": {},
   "outputs": [],
   "source": [
    "idx = pd.date_range('2016-12-31', periods=5, freq='Y')\n",
    "df_forecast_var_nopt=pd.DataFrame(data=var_nopt_pred, index=idx, columns=['TongSanLuong'])\n"
   ]
  },
  {
   "cell_type": "code",
   "execution_count": 67,
   "metadata": {},
   "outputs": [],
   "source": [
    "df_forecast_var_nopt['TongSanLuong'] = data_1 + ((data_first_diff) + (df_forecast_var_nopt['TongSanLuong']).cumsum()).cumsum()"
   ]
  },
  {
   "cell_type": "code",
   "execution_count": 68,
   "metadata": {},
   "outputs": [],
   "source": [
    "data_test = data[(data.index >= \"2016-12-31\") & (data.index <= \"2020-12-31\")]"
   ]
  },
  {
   "cell_type": "code",
   "execution_count": 69,
   "metadata": {},
   "outputs": [],
   "source": [
    "var_nopt_rmse = np.sqrt(mean_squared_error(data_test['TongSanLuong'],df_forecast_var_nopt['TongSanLuong']))\n",
    "var_nopt_mae = (mean_absolute_error(data_test['TongSanLuong'],df_forecast_var_nopt['TongSanLuong']))\n",
    "var_nopt_mape= (mean_absolute_percentage_error(data_test['TongSanLuong'],df_forecast_var_nopt['TongSanLuong']))"
   ]
  },
  {
   "cell_type": "code",
   "execution_count": 70,
   "metadata": {},
   "outputs": [
    {
     "data": {
      "text/html": [
       "<div>\n",
       "<style scoped>\n",
       "    .dataframe tbody tr th:only-of-type {\n",
       "        vertical-align: middle;\n",
       "    }\n",
       "\n",
       "    .dataframe tbody tr th {\n",
       "        vertical-align: top;\n",
       "    }\n",
       "\n",
       "    .dataframe thead th {\n",
       "        text-align: right;\n",
       "    }\n",
       "</style>\n",
       "<table border=\"1\" class=\"dataframe\">\n",
       "  <thead>\n",
       "    <tr style=\"text-align: right;\">\n",
       "      <th></th>\n",
       "      <th>Var no pt</th>\n",
       "    </tr>\n",
       "  </thead>\n",
       "  <tbody>\n",
       "    <tr>\n",
       "      <th>RMSE</th>\n",
       "      <td>152.250397</td>\n",
       "    </tr>\n",
       "    <tr>\n",
       "      <th>MAE</th>\n",
       "      <td>136.382089</td>\n",
       "    </tr>\n",
       "    <tr>\n",
       "      <th>MAPE</th>\n",
       "      <td>0.018074</td>\n",
       "    </tr>\n",
       "  </tbody>\n",
       "</table>\n",
       "</div>"
      ],
      "text/plain": [
       "       Var no pt\n",
       "RMSE  152.250397\n",
       "MAE   136.382089\n",
       "MAPE    0.018074"
      ]
     },
     "execution_count": 70,
     "metadata": {},
     "output_type": "execute_result"
    }
   ],
   "source": [
    "pd.DataFrame({\"Var no pt\":[var_nopt_rmse,var_nopt_mae,var_nopt_mape]},index = [\"RMSE\",\"MAE\",\"MAPE\"])"
   ]
  },
  {
   "cell_type": "code",
   "execution_count": null,
   "metadata": {},
   "outputs": [],
   "source": [
    "plt.figure(figsize=(15,10))\n",
    "plt.plot(df_forecast_var_nopt.index.date,df_forecast_var_nopt['TongSanLuong'],'r-',label = \"Predict\")\n",
    "plt.plot(data_test.index.date,data_test['TongSanLuong'],'b-',label = \"Actual\")\n",
    "plt.legend(fontsize = 15)\n",
    "plt.title(\"VAR_NOPT\",fontsize = 15)\n",
    "plt.xlabel(\"Date\",fontsize = 15)\n",
    "plt.ylabel(\"TongSanLuong\",fontsize = 15)"
   ]
  },
  {
   "cell_type": "markdown",
   "metadata": {},
   "source": [
    "### VAR có yếu tố ChiSoPhatTrien"
   ]
  },
  {
   "cell_type": "code",
   "execution_count": 72,
   "metadata": {},
   "outputs": [
    {
     "name": "stdout",
     "output_type": "stream",
     "text": [
      "Order = 1\n",
      "AIC:  29.850906409204732\n",
      "BIC:  30.840208362422693\n",
      "\n",
      "Order = 2\n",
      "AIC:  28.165314670203152\n",
      "BIC:  29.929766457616317\n",
      "\n"
     ]
    }
   ],
   "source": [
    "for i in [k for k in range(1,3)]:\n",
    "    var = VAR(endog = train.values,dates = train.index)\n",
    "    var_results = var.fit(maxlags = i)\n",
    "    print('Order =', i)\n",
    "    print('AIC: ', var_results.aic)\n",
    "    print('BIC: ', var_results.bic)\n",
    "    print()\n"
   ]
  },
  {
   "cell_type": "code",
   "execution_count": 73,
   "metadata": {},
   "outputs": [
    {
     "data": {
      "text/plain": [
       "  Summary of Regression Results   \n",
       "==================================\n",
       "Model:                         VAR\n",
       "Method:                        OLS\n",
       "Date:           Sun, 17, Jul, 2022\n",
       "Time:                     20:54:25\n",
       "--------------------------------------------------------------------\n",
       "No. of Equations:         4.00000    BIC:                    30.8402\n",
       "Nobs:                     18.0000    HQIC:                   29.9873\n",
       "Log likelihood:          -350.822    FPE:                9.77514e+12\n",
       "AIC:                      29.8509    Det(Omega_mle):     3.66692e+12\n",
       "--------------------------------------------------------------------\n",
       "Results for equation y1\n",
       "========================================================================\n",
       "           coefficient       std. error           t-stat            prob\n",
       "------------------------------------------------------------------------\n",
       "const         0.089624         1.091432            0.082           0.935\n",
       "L1.y1         0.822443         0.535604            1.536           0.125\n",
       "L1.y2         0.325181         0.387983            0.838           0.402\n",
       "L1.y3        -0.000137         0.000073           -1.895           0.058\n",
       "L1.y4        -0.037766         0.019314           -1.955           0.051\n",
       "========================================================================\n",
       "\n",
       "Results for equation y2\n",
       "========================================================================\n",
       "           coefficient       std. error           t-stat            prob\n",
       "------------------------------------------------------------------------\n",
       "const         1.292041         0.636534            2.030           0.042\n",
       "L1.y1         0.516337         0.312370            1.653           0.098\n",
       "L1.y2         0.545421         0.226276            2.410           0.016\n",
       "L1.y3        -0.000099         0.000042           -2.350           0.019\n",
       "L1.y4        -0.014031         0.011264           -1.246           0.213\n",
       "========================================================================\n",
       "\n",
       "Results for equation y3\n",
       "========================================================================\n",
       "           coefficient       std. error           t-stat            prob\n",
       "------------------------------------------------------------------------\n",
       "const       463.593193      2975.223567            0.156           0.876\n",
       "L1.y1      -364.674530      1460.047070           -0.250           0.803\n",
       "L1.y2       539.756164      1057.634294            0.510           0.610\n",
       "L1.y3         0.026476         0.197828            0.134           0.894\n",
       "L1.y4        61.586191        52.648389            1.170           0.242\n",
       "========================================================================\n",
       "\n",
       "Results for equation y4\n",
       "========================================================================\n",
       "           coefficient       std. error           t-stat            prob\n",
       "------------------------------------------------------------------------\n",
       "const         4.835939        28.624498            0.169           0.866\n",
       "L1.y1        32.338696        14.047050            2.302           0.021\n",
       "L1.y2        14.815727        10.175454            1.456           0.145\n",
       "L1.y3        -0.004449         0.001903           -2.337           0.019\n",
       "L1.y4        -1.442391         0.506528           -2.848           0.004\n",
       "========================================================================\n",
       "\n",
       "Correlation matrix of residuals\n",
       "            y1        y2        y3        y4\n",
       "y1    1.000000 -0.464656 -0.076425  0.861498\n",
       "y2   -0.464656  1.000000  0.122019 -0.354298\n",
       "y3   -0.076425  0.122019  1.000000 -0.028739\n",
       "y4    0.861498 -0.354298 -0.028739  1.000000\n",
       "\n"
      ]
     },
     "execution_count": 73,
     "metadata": {},
     "output_type": "execute_result"
    }
   ],
   "source": [
    "var_results = var.fit(1)\n",
    "var_results.summary()"
   ]
  },
  {
   "cell_type": "markdown",
   "metadata": {},
   "source": [
    "Dự đoán dựa vào dữ liệu 5 năm trước"
   ]
  },
  {
   "cell_type": "code",
   "execution_count": 74,
   "metadata": {},
   "outputs": [],
   "source": [
    "t = test.values"
   ]
  },
  {
   "cell_type": "code",
   "execution_count": 75,
   "metadata": {},
   "outputs": [],
   "source": [
    "var_pred = var_results.forecast(y = t,steps = 5)"
   ]
  },
  {
   "cell_type": "code",
   "execution_count": 76,
   "metadata": {},
   "outputs": [],
   "source": [
    "var_pred = var_pred[:,-1]"
   ]
  },
  {
   "cell_type": "code",
   "execution_count": 77,
   "metadata": {},
   "outputs": [],
   "source": [
    "idx = pd.date_range('2016-12-31', periods=5, freq='Y')\n",
    "df_forecast_var=pd.DataFrame(data=var_pred, index=idx, columns=['TongSanLuong'])\n"
   ]
  },
  {
   "cell_type": "code",
   "execution_count": 78,
   "metadata": {},
   "outputs": [],
   "source": [
    "df_forecast_var['TongSanLuong'] = data_1 + ((data_first_diff) + (df_forecast_var['TongSanLuong']).cumsum()).cumsum()"
   ]
  },
  {
   "cell_type": "code",
   "execution_count": 79,
   "metadata": {},
   "outputs": [
    {
     "data": {
      "text/html": [
       "<div>\n",
       "<style scoped>\n",
       "    .dataframe tbody tr th:only-of-type {\n",
       "        vertical-align: middle;\n",
       "    }\n",
       "\n",
       "    .dataframe tbody tr th {\n",
       "        vertical-align: top;\n",
       "    }\n",
       "\n",
       "    .dataframe thead th {\n",
       "        text-align: right;\n",
       "    }\n",
       "</style>\n",
       "<table border=\"1\" class=\"dataframe\">\n",
       "  <thead>\n",
       "    <tr style=\"text-align: right;\">\n",
       "      <th></th>\n",
       "      <th>TongSanLuong</th>\n",
       "    </tr>\n",
       "  </thead>\n",
       "  <tbody>\n",
       "    <tr>\n",
       "      <th>2016-12-31</th>\n",
       "      <td>6796.022565</td>\n",
       "    </tr>\n",
       "    <tr>\n",
       "      <th>2017-12-31</th>\n",
       "      <td>7228.922719</td>\n",
       "    </tr>\n",
       "    <tr>\n",
       "      <th>2018-12-31</th>\n",
       "      <td>7686.842076</td>\n",
       "    </tr>\n",
       "    <tr>\n",
       "      <th>2019-12-31</th>\n",
       "      <td>8145.147051</td>\n",
       "    </tr>\n",
       "    <tr>\n",
       "      <th>2020-12-31</th>\n",
       "      <td>8618.514151</td>\n",
       "    </tr>\n",
       "  </tbody>\n",
       "</table>\n",
       "</div>"
      ],
      "text/plain": [
       "            TongSanLuong\n",
       "2016-12-31   6796.022565\n",
       "2017-12-31   7228.922719\n",
       "2018-12-31   7686.842076\n",
       "2019-12-31   8145.147051\n",
       "2020-12-31   8618.514151"
      ]
     },
     "execution_count": 79,
     "metadata": {},
     "output_type": "execute_result"
    }
   ],
   "source": [
    "df_forecast_var"
   ]
  },
  {
   "cell_type": "code",
   "execution_count": 80,
   "metadata": {},
   "outputs": [],
   "source": [
    "data_test = data[(data.index >= \"2016-12-31\") & (data.index <= \"2020-12-31\")]"
   ]
  },
  {
   "cell_type": "code",
   "execution_count": 81,
   "metadata": {},
   "outputs": [],
   "source": [
    "var_rmse = np.sqrt(mean_squared_error(data_test['TongSanLuong'],df_forecast_var['TongSanLuong']))\n",
    "var_mae = mean_absolute_error(data_test['TongSanLuong'],df_forecast_var['TongSanLuong'])\n",
    "var_mape = mean_absolute_percentage_error(data_test['TongSanLuong'],df_forecast_var['TongSanLuong'])"
   ]
  },
  {
   "cell_type": "code",
   "execution_count": 82,
   "metadata": {},
   "outputs": [
    {
     "data": {
      "text/plain": [
       "Text(0, 0.5, 'TongSanLuong')"
      ]
     },
     "execution_count": 82,
     "metadata": {},
     "output_type": "execute_result"
    },
    {
     "data": {
      "image/png": "[encoded data removed]",
      "text/plain": [
       "<Figure size 1080x720 with 1 Axes>"
      ]
     },
     "metadata": {
      "needs_background": "light"
     },
     "output_type": "display_data"
    }
   ],
   "source": [
    "plt.figure(figsize=(15,10))\n",
    "plt.plot(df_forecast_var.index.date,df_forecast_var['TongSanLuong'],'r-',label = \"Predict\")\n",
    "plt.plot(data_test.index.date,data_test['TongSanLuong'],'b-',label = \"Actual\")\n",
    "plt.legend(fontsize = 15)\n",
    "plt.title(\"VAR\",fontsize = 15)\n",
    "plt.xlabel(\"Date\",fontsize = 15)\n",
    "plt.ylabel(\"TongSanLuong\",fontsize = 15)"
   ]
  },
  {
   "cell_type": "markdown",
   "metadata": {},
   "source": [
    "### So sánh kết quả giữa việc sử dụng yếu tố ChiSoPhatTrien của mô hình VAR"
   ]
  },
  {
   "cell_type": "code",
   "execution_count": 83,
   "metadata": {},
   "outputs": [
    {
     "data": {
      "text/html": [
       "<div>\n",
       "<style scoped>\n",
       "    .dataframe tbody tr th:only-of-type {\n",
       "        vertical-align: middle;\n",
       "    }\n",
       "\n",
       "    .dataframe tbody tr th {\n",
       "        vertical-align: top;\n",
       "    }\n",
       "\n",
       "    .dataframe thead th {\n",
       "        text-align: right;\n",
       "    }\n",
       "</style>\n",
       "<table border=\"1\" class=\"dataframe\">\n",
       "  <thead>\n",
       "    <tr style=\"text-align: right;\">\n",
       "      <th></th>\n",
       "      <th>Var no pt</th>\n",
       "      <th>Var has pt</th>\n",
       "    </tr>\n",
       "  </thead>\n",
       "  <tbody>\n",
       "    <tr>\n",
       "      <th>RMSE</th>\n",
       "      <td>152.250397</td>\n",
       "      <td>99.834723</td>\n",
       "    </tr>\n",
       "    <tr>\n",
       "      <th>MAE</th>\n",
       "      <td>136.382089</td>\n",
       "      <td>97.555948</td>\n",
       "    </tr>\n",
       "    <tr>\n",
       "      <th>MAPE</th>\n",
       "      <td>0.018074</td>\n",
       "      <td>0.012481</td>\n",
       "    </tr>\n",
       "  </tbody>\n",
       "</table>\n",
       "</div>"
      ],
      "text/plain": [
       "       Var no pt  Var has pt\n",
       "RMSE  152.250397   99.834723\n",
       "MAE   136.382089   97.555948\n",
       "MAPE    0.018074    0.012481"
      ]
     },
     "execution_count": 83,
     "metadata": {},
     "output_type": "execute_result"
    }
   ],
   "source": [
    "df_var = pd.DataFrame({\"Var no pt\":[var_nopt_rmse,var_nopt_mae,var_nopt_mape],\"Var has pt\":[var_rmse,var_mae,var_mape]},index = [\"RMSE\",\"MAE\",\"MAPE\"])\n",
    "df_var"
   ]
  },
  {
   "cell_type": "markdown",
   "metadata": {},
   "source": [
    "## ARIMAX for multivariate"
   ]
  },
  {
   "cell_type": "markdown",
   "metadata": {},
   "source": [
    "### ARIMAX không có yếu tố ChiSoPhatTrien"
   ]
  },
  {
   "cell_type": "code",
   "execution_count": 84,
   "metadata": {},
   "outputs": [
    {
     "name": "stdout",
     "output_type": "stream",
     "text": [
      " ARIMA(0,0,0)(0,0,0)[1] intercept   : AIC=235.715, Time=0.03 sec\n",
      " ARIMA(0,0,1)(0,0,0)[1] intercept   : AIC=231.452, Time=0.02 sec\n",
      " ARIMA(0,0,2)(0,0,0)[1] intercept   : AIC=227.824, Time=0.19 sec\n",
      " ARIMA(0,0,3)(0,0,0)[1] intercept   : AIC=inf, Time=0.20 sec\n",
      " ARIMA(1,0,0)(0,0,0)[1] intercept   : AIC=235.264, Time=0.07 sec\n",
      " ARIMA(1,0,1)(0,0,0)[1] intercept   : AIC=232.996, Time=0.03 sec\n",
      " ARIMA(1,0,2)(0,0,0)[1] intercept   : AIC=inf, Time=0.19 sec\n",
      " ARIMA(1,0,3)(0,0,0)[1] intercept   : AIC=inf, Time=0.24 sec\n",
      " ARIMA(2,0,0)(0,0,0)[1] intercept   : AIC=233.539, Time=0.17 sec\n",
      " ARIMA(2,0,1)(0,0,0)[1] intercept   : AIC=232.516, Time=0.18 sec\n",
      " ARIMA(2,0,2)(0,0,0)[1] intercept   : AIC=234.787, Time=0.29 sec\n",
      " ARIMA(2,0,3)(0,0,0)[1] intercept   : AIC=232.418, Time=0.27 sec\n",
      " ARIMA(3,0,0)(0,0,0)[1] intercept   : AIC=234.041, Time=0.18 sec\n",
      " ARIMA(3,0,1)(0,0,0)[1] intercept   : AIC=234.910, Time=0.22 sec\n",
      " ARIMA(3,0,2)(0,0,0)[1] intercept   : AIC=inf, Time=0.26 sec\n",
      "\n",
      "Best model:  ARIMA(0,0,2)(0,0,0)[1] intercept\n",
      "Total fit time: 2.559 seconds\n"
     ]
    }
   ],
   "source": [
    "atarima_nopt = auto_arima(train_pt[['TongSanLuong']],start_p=1,start_q=1,max_p=3,max_q=3,d=0,\n",
    "                trace = True,alpha = 0.05,stepwise=False,exogenous = train_pt.iloc[:,:-1], \n",
    "                error_action='ignore',  \n",
    "                suppress_warnings=True,)\n",
    "atarima_result_nopt = atarima_nopt.fit(train_pt[['TongSanLuong']])\n"
   ]
  },
  {
   "cell_type": "code",
   "execution_count": 85,
   "metadata": {},
   "outputs": [],
   "source": [
    "atarima_nopt_pred = atarima_result_nopt.predict(5)"
   ]
  },
  {
   "cell_type": "code",
   "execution_count": 86,
   "metadata": {},
   "outputs": [
    {
     "data": {
      "text/plain": [
       "array([48.56202771, 20.0682447 , 10.0913409 , 10.0913409 , 10.0913409 ])"
      ]
     },
     "execution_count": 86,
     "metadata": {},
     "output_type": "execute_result"
    }
   ],
   "source": [
    "atarima_nopt_pred"
   ]
  },
  {
   "cell_type": "code",
   "execution_count": 87,
   "metadata": {},
   "outputs": [],
   "source": [
    "idx = pd.date_range('2016-12-31', periods=5, freq='Y')\n",
    "df_forecast_atarima_nopt=pd.DataFrame(data=atarima_nopt_pred, index=idx, columns=['TongSanLuong'])\n"
   ]
  },
  {
   "cell_type": "code",
   "execution_count": 88,
   "metadata": {},
   "outputs": [],
   "source": [
    "df_forecast_atarima_nopt['TongSanLuong'] = data_1 + ((data_first_diff) + (df_forecast_atarima_nopt['TongSanLuong']).cumsum()).cumsum()"
   ]
  },
  {
   "cell_type": "code",
   "execution_count": 89,
   "metadata": {},
   "outputs": [],
   "source": [
    "atarima_nopt_rmse = np.sqrt(mean_squared_error(data_test['TongSanLuong'],df_forecast_atarima_nopt['TongSanLuong']))\n",
    "atarima_nopt_mae = (mean_absolute_error(data_test['TongSanLuong'],df_forecast_atarima_nopt['TongSanLuong']))\n",
    "atarima_nopt_mape = (mean_absolute_percentage_error(data_test['TongSanLuong'],df_forecast_atarima_nopt['TongSanLuong']))"
   ]
  },
  {
   "cell_type": "code",
   "execution_count": 90,
   "metadata": {},
   "outputs": [
    {
     "data": {
      "text/html": [
       "<div>\n",
       "<style scoped>\n",
       "    .dataframe tbody tr th:only-of-type {\n",
       "        vertical-align: middle;\n",
       "    }\n",
       "\n",
       "    .dataframe tbody tr th {\n",
       "        vertical-align: top;\n",
       "    }\n",
       "\n",
       "    .dataframe thead th {\n",
       "        text-align: right;\n",
       "    }\n",
       "</style>\n",
       "<table border=\"1\" class=\"dataframe\">\n",
       "  <thead>\n",
       "    <tr style=\"text-align: right;\">\n",
       "      <th></th>\n",
       "      <th>AUTOARIMA no pt</th>\n",
       "    </tr>\n",
       "  </thead>\n",
       "  <tbody>\n",
       "    <tr>\n",
       "      <th>RMSE</th>\n",
       "      <td>480.146034</td>\n",
       "    </tr>\n",
       "    <tr>\n",
       "      <th>MAE</th>\n",
       "      <td>458.214746</td>\n",
       "    </tr>\n",
       "    <tr>\n",
       "      <th>MAPE</th>\n",
       "      <td>0.058167</td>\n",
       "    </tr>\n",
       "  </tbody>\n",
       "</table>\n",
       "</div>"
      ],
      "text/plain": [
       "      AUTOARIMA no pt\n",
       "RMSE       480.146034\n",
       "MAE        458.214746\n",
       "MAPE         0.058167"
      ]
     },
     "execution_count": 90,
     "metadata": {},
     "output_type": "execute_result"
    }
   ],
   "source": [
    "pd.DataFrame({\"AUTOARIMA no pt\":[atarima_nopt_rmse,atarima_nopt_mae,atarima_nopt_mape]},index = [\"RMSE\",\"MAE\",\"MAPE\"])"
   ]
  },
  {
   "cell_type": "code",
   "execution_count": 91,
   "metadata": {},
   "outputs": [
    {
     "data": {
      "text/plain": [
       "Text(0, 0.5, 'TongSanLuong')"
      ]
     },
     "execution_count": 91,
     "metadata": {},
     "output_type": "execute_result"
    },
    {
     "data": {
      "image/png": "[encoded data removed]",
      "text/plain": [
       "<Figure size 1080x720 with 1 Axes>"
      ]
     },
     "metadata": {
      "needs_background": "light"
     },
     "output_type": "display_data"
    }
   ],
   "source": [
    "plt.figure(figsize=(15,10))\n",
    "plt.plot(df_forecast_atarima_nopt.index.date,df_forecast_atarima_nopt['TongSanLuong'],'r-',label = \"Predict\")\n",
    "plt.plot(data_test.index.date,data_test['TongSanLuong'],'b-',label = \"Actual\")\n",
    "plt.legend(fontsize = 15)\n",
    "plt.title(\"ARIMAX\",fontsize = 15)\n",
    "plt.xlabel(\"Date\",fontsize = 15)\n",
    "plt.ylabel(\"TongSanLuong\",fontsize = 15)"
   ]
  },
  {
   "cell_type": "markdown",
   "metadata": {},
   "source": [
    "### ARIMAX có yếu tố ChiSoPhatTrien"
   ]
  },
  {
   "cell_type": "code",
   "execution_count": 92,
   "metadata": {},
   "outputs": [
    {
     "name": "stdout",
     "output_type": "stream",
     "text": [
      " ARIMA(0,0,0)(0,0,0)[1] intercept   : AIC=203.299, Time=0.02 sec\n",
      " ARIMA(0,0,1)(0,0,0)[1] intercept   : AIC=199.819, Time=0.16 sec\n",
      " ARIMA(0,0,2)(0,0,0)[1] intercept   : AIC=203.319, Time=0.20 sec\n",
      " ARIMA(0,0,3)(0,0,0)[1] intercept   : AIC=214.810, Time=0.22 sec\n",
      " ARIMA(1,0,0)(0,0,0)[1] intercept   : AIC=203.332, Time=0.04 sec\n",
      " ARIMA(1,0,1)(0,0,0)[1] intercept   : AIC=202.100, Time=0.20 sec\n",
      " ARIMA(1,0,2)(0,0,0)[1] intercept   : AIC=inf, Time=0.26 sec\n",
      " ARIMA(1,0,3)(0,0,0)[1] intercept   : AIC=211.867, Time=0.18 sec\n",
      " ARIMA(2,0,0)(0,0,0)[1] intercept   : AIC=204.717, Time=0.12 sec\n",
      " ARIMA(2,0,1)(0,0,0)[1] intercept   : AIC=207.365, Time=0.26 sec\n",
      " ARIMA(2,0,2)(0,0,0)[1] intercept   : AIC=209.667, Time=0.25 sec\n",
      " ARIMA(2,0,3)(0,0,0)[1] intercept   : AIC=inf, Time=0.36 sec\n",
      " ARIMA(3,0,0)(0,0,0)[1] intercept   : AIC=205.349, Time=0.31 sec\n",
      " ARIMA(3,0,1)(0,0,0)[1] intercept   : AIC=207.845, Time=0.27 sec\n",
      " ARIMA(3,0,2)(0,0,0)[1] intercept   : AIC=208.445, Time=0.26 sec\n",
      "\n",
      "Best model:  ARIMA(0,0,1)(0,0,0)[1] intercept\n",
      "Total fit time: 3.120 seconds\n"
     ]
    }
   ],
   "source": [
    "atarima = auto_arima(train[['TongSanLuong']],start_p=1,start_q=1,max_p=3,max_q=3,d=0,\n",
    "                trace = True,alpha = 0.05,stepwise=False,exogenous = train.iloc[:,:-1], \n",
    "                error_action='ignore',  \n",
    "                suppress_warnings=True,)\n",
    "atarima_result = atarima.fit(train[['TongSanLuong']])\n"
   ]
  },
  {
   "cell_type": "code",
   "execution_count": 93,
   "metadata": {},
   "outputs": [],
   "source": [
    "atarima_pred = atarima_result.predict(5)"
   ]
  },
  {
   "cell_type": "code",
   "execution_count": 94,
   "metadata": {},
   "outputs": [],
   "source": [
    "idx = pd.date_range('2016-12-31', periods=5, freq='Y')\n",
    "df_forecast_atarima=pd.DataFrame(data=atarima_pred, index=idx, columns=['TongSanLuong'])\n"
   ]
  },
  {
   "cell_type": "code",
   "execution_count": 95,
   "metadata": {},
   "outputs": [
    {
     "data": {
      "text/html": [
       "<div>\n",
       "<style scoped>\n",
       "    .dataframe tbody tr th:only-of-type {\n",
       "        vertical-align: middle;\n",
       "    }\n",
       "\n",
       "    .dataframe tbody tr th {\n",
       "        vertical-align: top;\n",
       "    }\n",
       "\n",
       "    .dataframe thead th {\n",
       "        text-align: right;\n",
       "    }\n",
       "</style>\n",
       "<table border=\"1\" class=\"dataframe\">\n",
       "  <thead>\n",
       "    <tr style=\"text-align: right;\">\n",
       "      <th></th>\n",
       "      <th>TongSanLuong</th>\n",
       "    </tr>\n",
       "  </thead>\n",
       "  <tbody>\n",
       "    <tr>\n",
       "      <th>2016-12-31</th>\n",
       "      <td>48.366308</td>\n",
       "    </tr>\n",
       "    <tr>\n",
       "      <th>2017-12-31</th>\n",
       "      <td>10.207793</td>\n",
       "    </tr>\n",
       "    <tr>\n",
       "      <th>2018-12-31</th>\n",
       "      <td>10.207793</td>\n",
       "    </tr>\n",
       "    <tr>\n",
       "      <th>2019-12-31</th>\n",
       "      <td>10.207793</td>\n",
       "    </tr>\n",
       "    <tr>\n",
       "      <th>2020-12-31</th>\n",
       "      <td>10.207793</td>\n",
       "    </tr>\n",
       "  </tbody>\n",
       "</table>\n",
       "</div>"
      ],
      "text/plain": [
       "            TongSanLuong\n",
       "2016-12-31     48.366308\n",
       "2017-12-31     10.207793\n",
       "2018-12-31     10.207793\n",
       "2019-12-31     10.207793\n",
       "2020-12-31     10.207793"
      ]
     },
     "execution_count": 95,
     "metadata": {},
     "output_type": "execute_result"
    }
   ],
   "source": [
    "df_forecast_atarima"
   ]
  },
  {
   "cell_type": "code",
   "execution_count": 96,
   "metadata": {},
   "outputs": [],
   "source": [
    "df_forecast_atarima['TongSanLuong'] = data_1 + ((data_first_diff) + (df_forecast_atarima['TongSanLuong']).cumsum()).cumsum()"
   ]
  },
  {
   "cell_type": "code",
   "execution_count": 97,
   "metadata": {},
   "outputs": [
    {
     "data": {
      "text/html": [
       "<div>\n",
       "<style scoped>\n",
       "    .dataframe tbody tr th:only-of-type {\n",
       "        vertical-align: middle;\n",
       "    }\n",
       "\n",
       "    .dataframe tbody tr th {\n",
       "        vertical-align: top;\n",
       "    }\n",
       "\n",
       "    .dataframe thead th {\n",
       "        text-align: right;\n",
       "    }\n",
       "</style>\n",
       "<table border=\"1\" class=\"dataframe\">\n",
       "  <thead>\n",
       "    <tr style=\"text-align: right;\">\n",
       "      <th></th>\n",
       "      <th>TongSanLuong</th>\n",
       "    </tr>\n",
       "  </thead>\n",
       "  <tbody>\n",
       "    <tr>\n",
       "      <th>2016-12-31</th>\n",
       "      <td>6630.466308</td>\n",
       "    </tr>\n",
       "    <tr>\n",
       "      <th>2017-12-31</th>\n",
       "      <td>6937.940410</td>\n",
       "    </tr>\n",
       "    <tr>\n",
       "      <th>2018-12-31</th>\n",
       "      <td>7255.622305</td>\n",
       "    </tr>\n",
       "    <tr>\n",
       "      <th>2019-12-31</th>\n",
       "      <td>7583.511994</td>\n",
       "    </tr>\n",
       "    <tr>\n",
       "      <th>2020-12-31</th>\n",
       "      <td>7921.609476</td>\n",
       "    </tr>\n",
       "  </tbody>\n",
       "</table>\n",
       "</div>"
      ],
      "text/plain": [
       "            TongSanLuong\n",
       "2016-12-31   6630.466308\n",
       "2017-12-31   6937.940410\n",
       "2018-12-31   7255.622305\n",
       "2019-12-31   7583.511994\n",
       "2020-12-31   7921.609476"
      ]
     },
     "execution_count": 97,
     "metadata": {},
     "output_type": "execute_result"
    }
   ],
   "source": [
    "df_forecast_atarima"
   ]
  },
  {
   "cell_type": "code",
   "execution_count": 98,
   "metadata": {},
   "outputs": [],
   "source": [
    "atarima_rmse = np.sqrt(mean_squared_error(data_test['TongSanLuong'],df_forecast_atarima['TongSanLuong']))\n",
    "atarima_mae = mean_absolute_error(data_test['TongSanLuong'],df_forecast_atarima['TongSanLuong'])\n",
    "atarima_mape = mean_absolute_percentage_error(data_test['TongSanLuong'],df_forecast_atarima['TongSanLuong'])"
   ]
  },
  {
   "cell_type": "code",
   "execution_count": 99,
   "metadata": {},
   "outputs": [
    {
     "data": {
      "text/plain": [
       "Text(0, 0.5, 'TongSanLuong')"
      ]
     },
     "execution_count": 99,
     "metadata": {},
     "output_type": "execute_result"
    },
    {
     "data": {
      "image/png": "[encoded data removed]",
      "text/plain": [
       "<Figure size 1080x720 with 1 Axes>"
      ]
     },
     "metadata": {
      "needs_background": "light"
     },
     "output_type": "display_data"
    }
   ],
   "source": [
    "plt.figure(figsize=(15,10))\n",
    "plt.plot(df_forecast_atarima.index.date,df_forecast_atarima['TongSanLuong'],'r-',label = \"Predict\")\n",
    "plt.plot(data_test.index.date,data_test['TongSanLuong'],'b-',label = \"Actual\")\n",
    "plt.legend(fontsize = 15)\n",
    "plt.title(\"ARIMAX\",fontsize = 15)\n",
    "plt.xlabel(\"Date\",fontsize = 15)\n",
    "plt.ylabel(\"TongSanLuong\",fontsize = 15)"
   ]
  },
  {
   "cell_type": "markdown",
   "metadata": {},
   "source": [
    "### So sánh kết quả giữa việc sử dụng yếu tố ChiSoPhatTrien của mô hình AUTOARIMA"
   ]
  },
  {
   "cell_type": "code",
   "execution_count": 100,
   "metadata": {},
   "outputs": [
    {
     "data": {
      "text/html": [
       "<div>\n",
       "<style scoped>\n",
       "    .dataframe tbody tr th:only-of-type {\n",
       "        vertical-align: middle;\n",
       "    }\n",
       "\n",
       "    .dataframe tbody tr th {\n",
       "        vertical-align: top;\n",
       "    }\n",
       "\n",
       "    .dataframe thead th {\n",
       "        text-align: right;\n",
       "    }\n",
       "</style>\n",
       "<table border=\"1\" class=\"dataframe\">\n",
       "  <thead>\n",
       "    <tr style=\"text-align: right;\">\n",
       "      <th></th>\n",
       "      <th>AUTOARIMA no pt</th>\n",
       "      <th>AUTOARIMA has pt</th>\n",
       "    </tr>\n",
       "  </thead>\n",
       "  <tbody>\n",
       "    <tr>\n",
       "      <th>RMSE</th>\n",
       "      <td>480.146034</td>\n",
       "      <td>503.028099</td>\n",
       "    </tr>\n",
       "    <tr>\n",
       "      <th>MAE</th>\n",
       "      <td>458.214746</td>\n",
       "      <td>478.289901</td>\n",
       "    </tr>\n",
       "    <tr>\n",
       "      <th>MAPE</th>\n",
       "      <td>0.058167</td>\n",
       "      <td>0.060633</td>\n",
       "    </tr>\n",
       "  </tbody>\n",
       "</table>\n",
       "</div>"
      ],
      "text/plain": [
       "      AUTOARIMA no pt  AUTOARIMA has pt\n",
       "RMSE       480.146034        503.028099\n",
       "MAE        458.214746        478.289901\n",
       "MAPE         0.058167          0.060633"
      ]
     },
     "execution_count": 100,
     "metadata": {},
     "output_type": "execute_result"
    }
   ],
   "source": [
    "df_atarima =pd.DataFrame({\"AUTOARIMA no pt\":[atarima_nopt_rmse,atarima_nopt_mae,atarima_nopt_mape],\"AUTOARIMA has pt\":[atarima_rmse,atarima_mae,atarima_mape]},index = [\"RMSE\",\"MAE\",\"MAPE\"])\n",
    "df_atarima"
   ]
  },
  {
   "cell_type": "markdown",
   "metadata": {},
   "source": [
    "## LSTM"
   ]
  },
  {
   "cell_type": "code",
   "execution_count": 101,
   "metadata": {},
   "outputs": [],
   "source": [
    "data_test_lstm = data[(data.index >= \"2016-12-31\") & (data.index <= \"2020-12-31\")]"
   ]
  },
  {
   "cell_type": "code",
   "execution_count": 102,
   "metadata": {},
   "outputs": [],
   "source": [
    "BATCH_SIZE = 128\n",
    "BUFFER_SIZE = 1000\n",
    "TRAIN_SPLIT = 16\n",
    "\n",
    "# LSTM Parameters\n",
    "EVALUATION_INTERVAL = 100\n",
    "EPOCHS = 4\n",
    "PATIENCE = 5\n",
    "\n",
    "# Reproducibility\n",
    "SEED = 13\n",
    "tf.random.set_seed(SEED)\n"
   ]
  },
  {
   "cell_type": "code",
   "execution_count": 103,
   "metadata": {},
   "outputs": [],
   "source": [
    "def multivariate_data(dataset, target, start_index, end_index, history_size,\n",
    "                      target_size, step, single_step=False):\n",
    "    data = []\n",
    "    labels = []\n",
    "\n",
    "    start_index = start_index + history_size\n",
    "    if end_index is None:\n",
    "        end_index = len(dataset) - target_size\n",
    "    print(start_index,end_index)\n",
    "    for i in range(start_index, end_index):\n",
    "        indices = range(i-history_size, i, step)\n",
    "        data.append(dataset[indices])\n",
    "\n",
    "        if single_step:\n",
    "            labels.append(target[i])\n",
    "        else:\n",
    "            labels.append(target[i:i+target_size])\n",
    "\n",
    "    return np.array(data), np.array(labels)"
   ]
  },
  {
   "cell_type": "markdown",
   "metadata": {},
   "source": [
    "### LSTM không có yếu tố ChiSoPhatTrien"
   ]
  },
  {
   "cell_type": "code",
   "execution_count": 104,
   "metadata": {},
   "outputs": [],
   "source": [
    "data_lstm_nopt = data_diff.iloc[:,1:]"
   ]
  },
  {
   "cell_type": "code",
   "execution_count": 105,
   "metadata": {},
   "outputs": [
    {
     "data": {
      "text/html": [
       "<div>\n",
       "<style scoped>\n",
       "    .dataframe tbody tr th:only-of-type {\n",
       "        vertical-align: middle;\n",
       "    }\n",
       "\n",
       "    .dataframe tbody tr th {\n",
       "        vertical-align: top;\n",
       "    }\n",
       "\n",
       "    .dataframe thead th {\n",
       "        text-align: right;\n",
       "    }\n",
       "</style>\n",
       "<table border=\"1\" class=\"dataframe\">\n",
       "  <thead>\n",
       "    <tr style=\"text-align: right;\">\n",
       "      <th></th>\n",
       "      <th>DienTichNuoiTrong</th>\n",
       "      <th>SoTauKhaiThacBien</th>\n",
       "      <th>TongSanLuong</th>\n",
       "    </tr>\n",
       "    <tr>\n",
       "      <th>Nam</th>\n",
       "      <th></th>\n",
       "      <th></th>\n",
       "      <th></th>\n",
       "    </tr>\n",
       "  </thead>\n",
       "  <tbody>\n",
       "    <tr>\n",
       "      <th>1997-12-31</th>\n",
       "      <td>1.754411</td>\n",
       "      <td>-26200.000000</td>\n",
       "      <td>-87.2</td>\n",
       "    </tr>\n",
       "    <tr>\n",
       "      <th>1998-12-31</th>\n",
       "      <td>2.732394</td>\n",
       "      <td>299.000000</td>\n",
       "      <td>22.2</td>\n",
       "    </tr>\n",
       "    <tr>\n",
       "      <th>1999-12-31</th>\n",
       "      <td>0.464159</td>\n",
       "      <td>1598.000000</td>\n",
       "      <td>173.2</td>\n",
       "    </tr>\n",
       "    <tr>\n",
       "      <th>2000-12-31</th>\n",
       "      <td>4.895150</td>\n",
       "      <td>6371.000000</td>\n",
       "      <td>19.3</td>\n",
       "    </tr>\n",
       "    <tr>\n",
       "      <th>2001-12-31</th>\n",
       "      <td>4.838863</td>\n",
       "      <td>-790.000000</td>\n",
       "      <td>-59.9</td>\n",
       "    </tr>\n",
       "    <tr>\n",
       "      <th>2002-12-31</th>\n",
       "      <td>3.489766</td>\n",
       "      <td>2822.000000</td>\n",
       "      <td>28.6</td>\n",
       "    </tr>\n",
       "    <tr>\n",
       "      <th>2003-12-31</th>\n",
       "      <td>4.119322</td>\n",
       "      <td>1322.000000</td>\n",
       "      <td>-0.9</td>\n",
       "    </tr>\n",
       "    <tr>\n",
       "      <th>2004-12-31</th>\n",
       "      <td>3.744436</td>\n",
       "      <td>2308.000000</td>\n",
       "      <td>71.5</td>\n",
       "    </tr>\n",
       "    <tr>\n",
       "      <th>2005-12-31</th>\n",
       "      <td>3.191252</td>\n",
       "      <td>5450.000000</td>\n",
       "      <td>40.2</td>\n",
       "    </tr>\n",
       "    <tr>\n",
       "      <th>2006-12-31</th>\n",
       "      <td>2.880487</td>\n",
       "      <td>-2561.000000</td>\n",
       "      <td>-68.8</td>\n",
       "    </tr>\n",
       "    <tr>\n",
       "      <th>2007-12-31</th>\n",
       "      <td>3.484283</td>\n",
       "      <td>-2561.000000</td>\n",
       "      <td>222.7</td>\n",
       "    </tr>\n",
       "    <tr>\n",
       "      <th>2008-12-31</th>\n",
       "      <td>3.233247</td>\n",
       "      <td>37242.000000</td>\n",
       "      <td>-74.6</td>\n",
       "    </tr>\n",
       "    <tr>\n",
       "      <th>2009-12-31</th>\n",
       "      <td>-1.991632</td>\n",
       "      <td>3000.000000</td>\n",
       "      <td>-134.6</td>\n",
       "    </tr>\n",
       "    <tr>\n",
       "      <th>2010-12-31</th>\n",
       "      <td>1.991632</td>\n",
       "      <td>3000.000000</td>\n",
       "      <td>4.1</td>\n",
       "    </tr>\n",
       "    <tr>\n",
       "      <th>2011-12-31</th>\n",
       "      <td>-2.295770</td>\n",
       "      <td>-1000.000000</td>\n",
       "      <td>32.3</td>\n",
       "    </tr>\n",
       "    <tr>\n",
       "      <th>2012-12-31</th>\n",
       "      <td>-1.169607</td>\n",
       "      <td>-3000.000000</td>\n",
       "      <td>68.6</td>\n",
       "    </tr>\n",
       "    <tr>\n",
       "      <th>2013-12-31</th>\n",
       "      <td>1.957434</td>\n",
       "      <td>-589.000000</td>\n",
       "      <td>-174.3</td>\n",
       "    </tr>\n",
       "    <tr>\n",
       "      <th>2014-12-31</th>\n",
       "      <td>2.147229</td>\n",
       "      <td>-4878.544708</td>\n",
       "      <td>114.5</td>\n",
       "    </tr>\n",
       "    <tr>\n",
       "      <th>2015-12-31</th>\n",
       "      <td>1.000000</td>\n",
       "      <td>-4878.544708</td>\n",
       "      <td>-64.6</td>\n",
       "    </tr>\n",
       "    <tr>\n",
       "      <th>2016-12-31</th>\n",
       "      <td>2.493315</td>\n",
       "      <td>-4891.910584</td>\n",
       "      <td>39.7</td>\n",
       "    </tr>\n",
       "    <tr>\n",
       "      <th>2017-12-31</th>\n",
       "      <td>3.239612</td>\n",
       "      <td>1188.000000</td>\n",
       "      <td>154.1</td>\n",
       "    </tr>\n",
       "    <tr>\n",
       "      <th>2018-12-31</th>\n",
       "      <td>2.709886</td>\n",
       "      <td>6344.206204</td>\n",
       "      <td>13.0</td>\n",
       "    </tr>\n",
       "    <tr>\n",
       "      <th>2019-12-31</th>\n",
       "      <td>2.763296</td>\n",
       "      <td>6344.206204</td>\n",
       "      <td>45.4</td>\n",
       "    </tr>\n",
       "    <tr>\n",
       "      <th>2020-12-31</th>\n",
       "      <td>-2.586319</td>\n",
       "      <td>6361.587591</td>\n",
       "      <td>-274.1</td>\n",
       "    </tr>\n",
       "  </tbody>\n",
       "</table>\n",
       "</div>"
      ],
      "text/plain": [
       "            DienTichNuoiTrong  SoTauKhaiThacBien  TongSanLuong\n",
       "Nam                                                           \n",
       "1997-12-31           1.754411      -26200.000000         -87.2\n",
       "1998-12-31           2.732394         299.000000          22.2\n",
       "1999-12-31           0.464159        1598.000000         173.2\n",
       "2000-12-31           4.895150        6371.000000          19.3\n",
       "2001-12-31           4.838863        -790.000000         -59.9\n",
       "2002-12-31           3.489766        2822.000000          28.6\n",
       "2003-12-31           4.119322        1322.000000          -0.9\n",
       "2004-12-31           3.744436        2308.000000          71.5\n",
       "2005-12-31           3.191252        5450.000000          40.2\n",
       "2006-12-31           2.880487       -2561.000000         -68.8\n",
       "2007-12-31           3.484283       -2561.000000         222.7\n",
       "2008-12-31           3.233247       37242.000000         -74.6\n",
       "2009-12-31          -1.991632        3000.000000        -134.6\n",
       "2010-12-31           1.991632        3000.000000           4.1\n",
       "2011-12-31          -2.295770       -1000.000000          32.3\n",
       "2012-12-31          -1.169607       -3000.000000          68.6\n",
       "2013-12-31           1.957434        -589.000000        -174.3\n",
       "2014-12-31           2.147229       -4878.544708         114.5\n",
       "2015-12-31           1.000000       -4878.544708         -64.6\n",
       "2016-12-31           2.493315       -4891.910584          39.7\n",
       "2017-12-31           3.239612        1188.000000         154.1\n",
       "2018-12-31           2.709886        6344.206204          13.0\n",
       "2019-12-31           2.763296        6344.206204          45.4\n",
       "2020-12-31          -2.586319        6361.587591        -274.1"
      ]
     },
     "execution_count": 105,
     "metadata": {},
     "output_type": "execute_result"
    }
   ],
   "source": [
    "data_lstm_nopt"
   ]
  },
  {
   "cell_type": "code",
   "execution_count": 106,
   "metadata": {},
   "outputs": [
    {
     "name": "stdout",
     "output_type": "stream",
     "text": [
      "3 20\n",
      "18 19\n"
     ]
    }
   ],
   "source": [
    "past_history = 3\n",
    "future_target = 5\n",
    "STEP = 1\n",
    "\n",
    "x_train_multi_nopt, y_train_multi_nopt = multivariate_data(data_lstm_nopt.values[:,:-1], data_lstm_nopt.values[:, -1], 0,\n",
    "                                                 20, past_history,\n",
    "                                                 future_target, STEP)\n",
    "x_val_multi_nopt, y_val_multi_nopt = multivariate_data(data_lstm_nopt.values[:,:-1], data_lstm_nopt.values[:, -1],\n",
    "                                             15, None, past_history,\n",
    "                                             future_target, STEP)"
   ]
  },
  {
   "cell_type": "code",
   "execution_count": 107,
   "metadata": {},
   "outputs": [],
   "source": [
    "train_data_multi_nopt = tf.data.Dataset.from_tensor_slices((x_train_multi_nopt, y_train_multi_nopt))\n",
    "train_data_multi_nopt = train_data_multi_nopt.cache().shuffle(BUFFER_SIZE).batch(BATCH_SIZE).repeat()\n",
    "\n",
    "val_data_multi_nopt = tf.data.Dataset.from_tensor_slices((x_val_multi_nopt, y_val_multi_nopt))\n",
    "val_data_multi_nopt = val_data_multi_nopt.batch(BATCH_SIZE).repeat()\n"
   ]
  },
  {
   "cell_type": "code",
   "execution_count": 108,
   "metadata": {},
   "outputs": [
    {
     "name": "stdout",
     "output_type": "stream",
     "text": [
      "Model: \"sequential\"\n",
      "_________________________________________________________________\n",
      " Layer (type)                Output Shape              Param #   \n",
      "=================================================================\n",
      " lstm (LSTM)                 (None, 3, 64)             17152     \n",
      "                                                                 \n",
      " lstm_1 (LSTM)               (None, 64)                33024     \n",
      "                                                                 \n",
      " dense (Dense)               (None, 64)                4160      \n",
      "                                                                 \n",
      " dense_1 (Dense)             (None, 5)                 325       \n",
      "                                                                 \n",
      "=================================================================\n",
      "Total params: 54,661\n",
      "Trainable params: 54,661\n",
      "Non-trainable params: 0\n",
      "_________________________________________________________________\n",
      "None\n"
     ]
    }
   ],
   "source": [
    "multi_step_model_nopt = tf.keras.models.Sequential()\n",
    "multi_step_model_nopt.add(tf.keras.layers.LSTM(64,\n",
    "                                          return_sequences=True,\n",
    "                                          input_shape=x_train_multi_nopt.shape[-2:]))\n",
    "multi_step_model_nopt.add(tf.keras.layers.LSTM(64, activation='relu'))\n",
    "multi_step_model_nopt.add(Dense(64,activation='relu'))\n",
    "\n",
    "multi_step_model_nopt.add(tf.keras.layers.Dense(5,activation = 'relu'))\n",
    "\n",
    "multi_step_model_nopt.compile(optimizer=tf.keras.optimizers.Adam(), metrics = 'mae',loss = 'mae')\n",
    "print(multi_step_model_nopt.summary())\n"
   ]
  },
  {
   "cell_type": "code",
   "execution_count": 109,
   "metadata": {},
   "outputs": [
    {
     "name": "stdout",
     "output_type": "stream",
     "text": [
      "Epoch 1/120\n",
      "100/100 [==============================] - 3s 11ms/step - loss: 76.7922 - mae: 76.7922 - val_loss: 58.2342 - val_mae: 58.2342\n",
      "Epoch 2/120\n",
      "100/100 [==============================] - 0s 5ms/step - loss: 68.1427 - mae: 68.1427 - val_loss: 49.7739 - val_mae: 49.7739\n",
      "Epoch 3/120\n",
      "100/100 [==============================] - 0s 4ms/step - loss: 65.6963 - mae: 65.6963 - val_loss: 49.3644 - val_mae: 49.3644\n",
      "Epoch 4/120\n",
      "100/100 [==============================] - 0s 5ms/step - loss: 63.8424 - mae: 63.8424 - val_loss: 48.1041 - val_mae: 48.1041\n",
      "Epoch 5/120\n",
      "100/100 [==============================] - 0s 4ms/step - loss: 61.7750 - mae: 61.7750 - val_loss: 32.6951 - val_mae: 32.6951\n",
      "Epoch 6/120\n",
      "100/100 [==============================] - 0s 4ms/step - loss: 58.6155 - mae: 58.6155 - val_loss: 14.4661 - val_mae: 14.4661\n",
      "Epoch 7/120\n",
      "100/100 [==============================] - 0s 4ms/step - loss: 54.3662 - mae: 54.3662 - val_loss: 13.8206 - val_mae: 13.8206\n",
      "Epoch 8/120\n",
      "100/100 [==============================] - 0s 4ms/step - loss: 50.1600 - mae: 50.1600 - val_loss: 15.4425 - val_mae: 15.4425\n",
      "Epoch 9/120\n",
      "100/100 [==============================] - 0s 5ms/step - loss: 46.9149 - mae: 46.9149 - val_loss: 13.4923 - val_mae: 13.4923\n",
      "Epoch 10/120\n",
      "100/100 [==============================] - 0s 4ms/step - loss: 45.6013 - mae: 45.6013 - val_loss: 13.1225 - val_mae: 13.1225\n",
      "Epoch 11/120\n",
      "100/100 [==============================] - 0s 4ms/step - loss: 45.1284 - mae: 45.1284 - val_loss: 13.8341 - val_mae: 13.8341\n",
      "Epoch 12/120\n",
      "100/100 [==============================] - 0s 4ms/step - loss: 44.3028 - mae: 44.3028 - val_loss: 14.2414 - val_mae: 14.2414\n",
      "Epoch 13/120\n",
      "100/100 [==============================] - 0s 4ms/step - loss: 43.6513 - mae: 43.6513 - val_loss: 13.4312 - val_mae: 13.4312\n",
      "Epoch 14/120\n",
      "100/100 [==============================] - 0s 4ms/step - loss: 43.4069 - mae: 43.4069 - val_loss: 13.7852 - val_mae: 13.7852\n",
      "Epoch 15/120\n",
      "100/100 [==============================] - 0s 4ms/step - loss: 43.2203 - mae: 43.2203 - val_loss: 13.4116 - val_mae: 13.4116\n"
     ]
    }
   ],
   "source": [
    "early_stopping = EarlyStopping(monitor='val_loss', patience = 5, restore_best_weights=True)\n",
    "multi_step_history = multi_step_model_nopt.fit(train_data_multi_nopt,\n",
    "                                          epochs=120,\n",
    "                                          steps_per_epoch=EVALUATION_INTERVAL,\n",
    "                                          validation_data=val_data_multi_nopt,\n",
    "                                          validation_steps=EVALUATION_INTERVAL,\n",
    "                                          callbacks=[early_stopping])\n"
   ]
  },
  {
   "cell_type": "code",
   "execution_count": 110,
   "metadata": {},
   "outputs": [
    {
     "name": "stdout",
     "output_type": "stream",
     "text": [
      "1/1 [==============================] - 0s 444ms/step\n"
     ]
    },
    {
     "data": {
      "text/plain": [
       "array([  0.      ,  39.74439 , 154.53223 ,  13.184461,  45.75136 ],\n",
       "      dtype=float32)"
      ]
     },
     "execution_count": 110,
     "metadata": {},
     "output_type": "execute_result"
    }
   ],
   "source": [
    "pred = []\n",
    "for x, y in val_data_multi_nopt.take(1):\n",
    "    pred.append(multi_step_model_nopt.predict(x)[0])\n",
    "pred[0]"
   ]
  },
  {
   "cell_type": "code",
   "execution_count": 111,
   "metadata": {},
   "outputs": [],
   "source": [
    "idx = pd.date_range('2016-12-31', periods=5, freq='Y')\n",
    "df_forecast_lstm_nopt=pd.DataFrame(data=pred[0], index=idx, columns=['TongSanLuong'])\n"
   ]
  },
  {
   "cell_type": "code",
   "execution_count": 112,
   "metadata": {},
   "outputs": [
    {
     "data": {
      "text/html": [
       "<div>\n",
       "<style scoped>\n",
       "    .dataframe tbody tr th:only-of-type {\n",
       "        vertical-align: middle;\n",
       "    }\n",
       "\n",
       "    .dataframe tbody tr th {\n",
       "        vertical-align: top;\n",
       "    }\n",
       "\n",
       "    .dataframe thead th {\n",
       "        text-align: right;\n",
       "    }\n",
       "</style>\n",
       "<table border=\"1\" class=\"dataframe\">\n",
       "  <thead>\n",
       "    <tr style=\"text-align: right;\">\n",
       "      <th></th>\n",
       "      <th>TongSanLuong</th>\n",
       "    </tr>\n",
       "  </thead>\n",
       "  <tbody>\n",
       "    <tr>\n",
       "      <th>2016-12-31</th>\n",
       "      <td>0.000000</td>\n",
       "    </tr>\n",
       "    <tr>\n",
       "      <th>2017-12-31</th>\n",
       "      <td>39.744389</td>\n",
       "    </tr>\n",
       "    <tr>\n",
       "      <th>2018-12-31</th>\n",
       "      <td>154.532227</td>\n",
       "    </tr>\n",
       "    <tr>\n",
       "      <th>2019-12-31</th>\n",
       "      <td>13.184461</td>\n",
       "    </tr>\n",
       "    <tr>\n",
       "      <th>2020-12-31</th>\n",
       "      <td>45.751362</td>\n",
       "    </tr>\n",
       "  </tbody>\n",
       "</table>\n",
       "</div>"
      ],
      "text/plain": [
       "            TongSanLuong\n",
       "2016-12-31      0.000000\n",
       "2017-12-31     39.744389\n",
       "2018-12-31    154.532227\n",
       "2019-12-31     13.184461\n",
       "2020-12-31     45.751362"
      ]
     },
     "execution_count": 112,
     "metadata": {},
     "output_type": "execute_result"
    }
   ],
   "source": [
    "df_forecast_lstm_nopt"
   ]
  },
  {
   "cell_type": "code",
   "execution_count": 113,
   "metadata": {},
   "outputs": [],
   "source": [
    "df_forecast_lstm_nopt['TongSanLuong'] = data_1 + ((data_first_diff) + (df_forecast_lstm_nopt['TongSanLuong']).cumsum()).cumsum()"
   ]
  },
  {
   "cell_type": "code",
   "execution_count": 114,
   "metadata": {},
   "outputs": [
    {
     "data": {
      "text/html": [
       "<div>\n",
       "<style scoped>\n",
       "    .dataframe tbody tr th:only-of-type {\n",
       "        vertical-align: middle;\n",
       "    }\n",
       "\n",
       "    .dataframe tbody tr th {\n",
       "        vertical-align: top;\n",
       "    }\n",
       "\n",
       "    .dataframe thead th {\n",
       "        text-align: right;\n",
       "    }\n",
       "</style>\n",
       "<table border=\"1\" class=\"dataframe\">\n",
       "  <thead>\n",
       "    <tr style=\"text-align: right;\">\n",
       "      <th></th>\n",
       "      <th>TongSanLuong</th>\n",
       "    </tr>\n",
       "  </thead>\n",
       "  <tbody>\n",
       "    <tr>\n",
       "      <th>2016-12-31</th>\n",
       "      <td>6582.100098</td>\n",
       "    </tr>\n",
       "    <tr>\n",
       "      <th>2017-12-31</th>\n",
       "      <td>6870.744629</td>\n",
       "    </tr>\n",
       "    <tr>\n",
       "      <th>2018-12-31</th>\n",
       "      <td>7313.920898</td>\n",
       "    </tr>\n",
       "    <tr>\n",
       "      <th>2019-12-31</th>\n",
       "      <td>7770.282227</td>\n",
       "    </tr>\n",
       "    <tr>\n",
       "      <th>2020-12-31</th>\n",
       "      <td>8272.394531</td>\n",
       "    </tr>\n",
       "  </tbody>\n",
       "</table>\n",
       "</div>"
      ],
      "text/plain": [
       "            TongSanLuong\n",
       "2016-12-31   6582.100098\n",
       "2017-12-31   6870.744629\n",
       "2018-12-31   7313.920898\n",
       "2019-12-31   7770.282227\n",
       "2020-12-31   8272.394531"
      ]
     },
     "execution_count": 114,
     "metadata": {},
     "output_type": "execute_result"
    }
   ],
   "source": [
    "df_forecast_lstm_nopt"
   ]
  },
  {
   "cell_type": "code",
   "execution_count": 115,
   "metadata": {},
   "outputs": [],
   "source": [
    "lstm_nopt_rmse = np.sqrt(mean_squared_error(data_test_lstm['TongSanLuong'],df_forecast_lstm_nopt['TongSanLuong']))\n",
    "lstm_nopt_mae = (mean_absolute_error(data_test_lstm['TongSanLuong'],df_forecast_lstm_nopt['TongSanLuong']))\n",
    "lstm_nopt_mape = (mean_absolute_percentage_error(data_test_lstm['TongSanLuong'],df_forecast_lstm_nopt['TongSanLuong']))"
   ]
  },
  {
   "cell_type": "code",
   "execution_count": 116,
   "metadata": {},
   "outputs": [
    {
     "data": {
      "text/html": [
       "<div>\n",
       "<style scoped>\n",
       "    .dataframe tbody tr th:only-of-type {\n",
       "        vertical-align: middle;\n",
       "    }\n",
       "\n",
       "    .dataframe tbody tr th {\n",
       "        vertical-align: top;\n",
       "    }\n",
       "\n",
       "    .dataframe thead th {\n",
       "        text-align: right;\n",
       "    }\n",
       "</style>\n",
       "<table border=\"1\" class=\"dataframe\">\n",
       "  <thead>\n",
       "    <tr style=\"text-align: right;\">\n",
       "      <th></th>\n",
       "      <th>LSTM no pt</th>\n",
       "    </tr>\n",
       "  </thead>\n",
       "  <tbody>\n",
       "    <tr>\n",
       "      <th>RMSE</th>\n",
       "      <td>396.705678</td>\n",
       "    </tr>\n",
       "    <tr>\n",
       "      <th>MAE</th>\n",
       "      <td>382.231523</td>\n",
       "    </tr>\n",
       "    <tr>\n",
       "      <th>MAPE</th>\n",
       "      <td>0.049605</td>\n",
       "    </tr>\n",
       "  </tbody>\n",
       "</table>\n",
       "</div>"
      ],
      "text/plain": [
       "      LSTM no pt\n",
       "RMSE  396.705678\n",
       "MAE   382.231523\n",
       "MAPE    0.049605"
      ]
     },
     "execution_count": 116,
     "metadata": {},
     "output_type": "execute_result"
    }
   ],
   "source": [
    "pd.DataFrame({\"LSTM no pt\":[lstm_nopt_rmse,lstm_nopt_mae,lstm_nopt_mape]},index = [\"RMSE\",\"MAE\",\"MAPE\"])"
   ]
  },
  {
   "cell_type": "code",
   "execution_count": 117,
   "metadata": {},
   "outputs": [
    {
     "data": {
      "text/plain": [
       "Text(0, 0.5, 'TongSanLuong')"
      ]
     },
     "execution_count": 117,
     "metadata": {},
     "output_type": "execute_result"
    },
    {
     "data": {
      "image/png": "[encoded data removed]",
      "text/plain": [
       "<Figure size 1080x720 with 1 Axes>"
      ]
     },
     "metadata": {
      "needs_background": "light"
     },
     "output_type": "display_data"
    }
   ],
   "source": [
    "plt.figure(figsize=(15,10))\n",
    "plt.plot(df_forecast_lstm_nopt.index.date,df_forecast_lstm_nopt['TongSanLuong'],'r-',label = \"Predict\")\n",
    "plt.plot(data_test_lstm.index.date,data_test_lstm['TongSanLuong'],'b-',label = \"Actual\")\n",
    "plt.legend(fontsize = 15)\n",
    "plt.title(\"LSTM\",fontsize = 15)\n",
    "plt.xlabel(\"Date\",fontsize = 15)\n",
    "plt.ylabel(\"TongSanLuong\",fontsize = 15)"
   ]
  },
  {
   "cell_type": "markdown",
   "metadata": {},
   "source": [
    "### LSTM có yếu tố ChiSoPhatTrien"
   ]
  },
  {
   "cell_type": "code",
   "execution_count": 118,
   "metadata": {},
   "outputs": [],
   "source": [
    "data_lstm = data_diff"
   ]
  },
  {
   "cell_type": "code",
   "execution_count": 119,
   "metadata": {},
   "outputs": [
    {
     "data": {
      "text/html": [
       "<div>\n",
       "<style scoped>\n",
       "    .dataframe tbody tr th:only-of-type {\n",
       "        vertical-align: middle;\n",
       "    }\n",
       "\n",
       "    .dataframe tbody tr th {\n",
       "        vertical-align: top;\n",
       "    }\n",
       "\n",
       "    .dataframe thead th {\n",
       "        text-align: right;\n",
       "    }\n",
       "</style>\n",
       "<table border=\"1\" class=\"dataframe\">\n",
       "  <thead>\n",
       "    <tr style=\"text-align: right;\">\n",
       "      <th></th>\n",
       "      <th>ChiSoPhatTrien</th>\n",
       "      <th>DienTichNuoiTrong</th>\n",
       "      <th>SoTauKhaiThacBien</th>\n",
       "      <th>TongSanLuong</th>\n",
       "    </tr>\n",
       "    <tr>\n",
       "      <th>Nam</th>\n",
       "      <th></th>\n",
       "      <th></th>\n",
       "      <th></th>\n",
       "      <th></th>\n",
       "    </tr>\n",
       "  </thead>\n",
       "  <tbody>\n",
       "    <tr>\n",
       "      <th>1997-12-31</th>\n",
       "      <td>-5.7</td>\n",
       "      <td>1.754411</td>\n",
       "      <td>-26200.000000</td>\n",
       "      <td>-87.2</td>\n",
       "    </tr>\n",
       "    <tr>\n",
       "      <th>1998-12-31</th>\n",
       "      <td>1.3</td>\n",
       "      <td>2.732394</td>\n",
       "      <td>299.000000</td>\n",
       "      <td>22.2</td>\n",
       "    </tr>\n",
       "    <tr>\n",
       "      <th>1999-12-31</th>\n",
       "      <td>9.6</td>\n",
       "      <td>0.464159</td>\n",
       "      <td>1598.000000</td>\n",
       "      <td>173.2</td>\n",
       "    </tr>\n",
       "    <tr>\n",
       "      <th>2000-12-31</th>\n",
       "      <td>-0.5</td>\n",
       "      <td>4.895150</td>\n",
       "      <td>6371.000000</td>\n",
       "      <td>19.3</td>\n",
       "    </tr>\n",
       "    <tr>\n",
       "      <th>2001-12-31</th>\n",
       "      <td>-3.9</td>\n",
       "      <td>4.838863</td>\n",
       "      <td>-790.000000</td>\n",
       "      <td>-59.9</td>\n",
       "    </tr>\n",
       "    <tr>\n",
       "      <th>2002-12-31</th>\n",
       "      <td>0.5</td>\n",
       "      <td>3.489766</td>\n",
       "      <td>2822.000000</td>\n",
       "      <td>28.6</td>\n",
       "    </tr>\n",
       "    <tr>\n",
       "      <th>2003-12-31</th>\n",
       "      <td>-0.7</td>\n",
       "      <td>4.119322</td>\n",
       "      <td>1322.000000</td>\n",
       "      <td>-0.9</td>\n",
       "    </tr>\n",
       "    <tr>\n",
       "      <th>2004-12-31</th>\n",
       "      <td>1.9</td>\n",
       "      <td>3.744436</td>\n",
       "      <td>2308.000000</td>\n",
       "      <td>71.5</td>\n",
       "    </tr>\n",
       "    <tr>\n",
       "      <th>2005-12-31</th>\n",
       "      <td>0.4</td>\n",
       "      <td>3.191252</td>\n",
       "      <td>5450.000000</td>\n",
       "      <td>40.2</td>\n",
       "    </tr>\n",
       "    <tr>\n",
       "      <th>2006-12-31</th>\n",
       "      <td>-3.0</td>\n",
       "      <td>2.880487</td>\n",
       "      <td>-2561.000000</td>\n",
       "      <td>-68.8</td>\n",
       "    </tr>\n",
       "    <tr>\n",
       "      <th>2007-12-31</th>\n",
       "      <td>5.5</td>\n",
       "      <td>3.484283</td>\n",
       "      <td>-2561.000000</td>\n",
       "      <td>222.7</td>\n",
       "    </tr>\n",
       "    <tr>\n",
       "      <th>2008-12-31</th>\n",
       "      <td>-3.2</td>\n",
       "      <td>3.233247</td>\n",
       "      <td>37242.000000</td>\n",
       "      <td>-74.6</td>\n",
       "    </tr>\n",
       "    <tr>\n",
       "      <th>2009-12-31</th>\n",
       "      <td>-3.8</td>\n",
       "      <td>-1.991632</td>\n",
       "      <td>3000.000000</td>\n",
       "      <td>-134.6</td>\n",
       "    </tr>\n",
       "    <tr>\n",
       "      <th>2010-12-31</th>\n",
       "      <td>-0.2</td>\n",
       "      <td>1.991632</td>\n",
       "      <td>3000.000000</td>\n",
       "      <td>4.1</td>\n",
       "    </tr>\n",
       "    <tr>\n",
       "      <th>2011-12-31</th>\n",
       "      <td>0.3</td>\n",
       "      <td>-2.295770</td>\n",
       "      <td>-1000.000000</td>\n",
       "      <td>32.3</td>\n",
       "    </tr>\n",
       "    <tr>\n",
       "      <th>2012-12-31</th>\n",
       "      <td>1.0</td>\n",
       "      <td>-1.169607</td>\n",
       "      <td>-3000.000000</td>\n",
       "      <td>68.6</td>\n",
       "    </tr>\n",
       "    <tr>\n",
       "      <th>2013-12-31</th>\n",
       "      <td>-3.5</td>\n",
       "      <td>1.957434</td>\n",
       "      <td>-589.000000</td>\n",
       "      <td>-174.3</td>\n",
       "    </tr>\n",
       "    <tr>\n",
       "      <th>2014-12-31</th>\n",
       "      <td>1.8</td>\n",
       "      <td>2.147229</td>\n",
       "      <td>-4878.544708</td>\n",
       "      <td>114.5</td>\n",
       "    </tr>\n",
       "    <tr>\n",
       "      <th>2015-12-31</th>\n",
       "      <td>-1.3</td>\n",
       "      <td>1.000000</td>\n",
       "      <td>-4878.544708</td>\n",
       "      <td>-64.6</td>\n",
       "    </tr>\n",
       "    <tr>\n",
       "      <th>2016-12-31</th>\n",
       "      <td>0.5</td>\n",
       "      <td>2.493315</td>\n",
       "      <td>-4891.910584</td>\n",
       "      <td>39.7</td>\n",
       "    </tr>\n",
       "    <tr>\n",
       "      <th>2017-12-31</th>\n",
       "      <td>2.0</td>\n",
       "      <td>3.239612</td>\n",
       "      <td>1188.000000</td>\n",
       "      <td>154.1</td>\n",
       "    </tr>\n",
       "    <tr>\n",
       "      <th>2018-12-31</th>\n",
       "      <td>-0.2</td>\n",
       "      <td>2.709886</td>\n",
       "      <td>6344.206204</td>\n",
       "      <td>13.0</td>\n",
       "    </tr>\n",
       "    <tr>\n",
       "      <th>2019-12-31</th>\n",
       "      <td>0.2</td>\n",
       "      <td>2.763296</td>\n",
       "      <td>6344.206204</td>\n",
       "      <td>45.4</td>\n",
       "    </tr>\n",
       "    <tr>\n",
       "      <th>2020-12-31</th>\n",
       "      <td>-3.7</td>\n",
       "      <td>-2.586319</td>\n",
       "      <td>6361.587591</td>\n",
       "      <td>-274.1</td>\n",
       "    </tr>\n",
       "  </tbody>\n",
       "</table>\n",
       "</div>"
      ],
      "text/plain": [
       "            ChiSoPhatTrien  DienTichNuoiTrong  SoTauKhaiThacBien  TongSanLuong\n",
       "Nam                                                                           \n",
       "1997-12-31            -5.7           1.754411      -26200.000000         -87.2\n",
       "1998-12-31             1.3           2.732394         299.000000          22.2\n",
       "1999-12-31             9.6           0.464159        1598.000000         173.2\n",
       "2000-12-31            -0.5           4.895150        6371.000000          19.3\n",
       "2001-12-31            -3.9           4.838863        -790.000000         -59.9\n",
       "2002-12-31             0.5           3.489766        2822.000000          28.6\n",
       "2003-12-31            -0.7           4.119322        1322.000000          -0.9\n",
       "2004-12-31             1.9           3.744436        2308.000000          71.5\n",
       "2005-12-31             0.4           3.191252        5450.000000          40.2\n",
       "2006-12-31            -3.0           2.880487       -2561.000000         -68.8\n",
       "2007-12-31             5.5           3.484283       -2561.000000         222.7\n",
       "2008-12-31            -3.2           3.233247       37242.000000         -74.6\n",
       "2009-12-31            -3.8          -1.991632        3000.000000        -134.6\n",
       "2010-12-31            -0.2           1.991632        3000.000000           4.1\n",
       "2011-12-31             0.3          -2.295770       -1000.000000          32.3\n",
       "2012-12-31             1.0          -1.169607       -3000.000000          68.6\n",
       "2013-12-31            -3.5           1.957434        -589.000000        -174.3\n",
       "2014-12-31             1.8           2.147229       -4878.544708         114.5\n",
       "2015-12-31            -1.3           1.000000       -4878.544708         -64.6\n",
       "2016-12-31             0.5           2.493315       -4891.910584          39.7\n",
       "2017-12-31             2.0           3.239612        1188.000000         154.1\n",
       "2018-12-31            -0.2           2.709886        6344.206204          13.0\n",
       "2019-12-31             0.2           2.763296        6344.206204          45.4\n",
       "2020-12-31            -3.7          -2.586319        6361.587591        -274.1"
      ]
     },
     "execution_count": 119,
     "metadata": {},
     "output_type": "execute_result"
    }
   ],
   "source": [
    "data_lstm"
   ]
  },
  {
   "cell_type": "code",
   "execution_count": 120,
   "metadata": {},
   "outputs": [
    {
     "name": "stdout",
     "output_type": "stream",
     "text": [
      "3 20\n",
      "18 19\n"
     ]
    }
   ],
   "source": [
    "past_history = 3\n",
    "future_target = 5\n",
    "STEP = 1\n",
    "\n",
    "x_train_multi, y_train_multi = multivariate_data(data_lstm.values[:,:-1], data_lstm.values[:, -1], 0,\n",
    "                                                 20, past_history,\n",
    "                                                 future_target, STEP)\n",
    "x_val_multi, y_val_multi = multivariate_data(data_lstm.values[:,:-1], data_lstm.values[:, -1],\n",
    "                                             15, None, past_history,\n",
    "                                             future_target, STEP)"
   ]
  },
  {
   "cell_type": "code",
   "execution_count": 121,
   "metadata": {},
   "outputs": [],
   "source": [
    "train_data_multi = tf.data.Dataset.from_tensor_slices((x_train_multi, y_train_multi))\n",
    "train_data_multi = train_data_multi.cache().shuffle(BUFFER_SIZE).batch(BATCH_SIZE).repeat()\n",
    "\n",
    "val_data_multi = tf.data.Dataset.from_tensor_slices((x_val_multi, y_val_multi))\n",
    "val_data_multi = val_data_multi.batch(BATCH_SIZE).repeat()\n"
   ]
  },
  {
   "cell_type": "code",
   "execution_count": 122,
   "metadata": {},
   "outputs": [
    {
     "name": "stdout",
     "output_type": "stream",
     "text": [
      "Model: \"sequential_1\"\n",
      "_________________________________________________________________\n",
      " Layer (type)                Output Shape              Param #   \n",
      "=================================================================\n",
      " lstm_2 (LSTM)               (None, 3, 64)             17408     \n",
      "                                                                 \n",
      " lstm_3 (LSTM)               (None, 64)                33024     \n",
      "                                                                 \n",
      " dense_2 (Dense)             (None, 64)                4160      \n",
      "                                                                 \n",
      " dense_3 (Dense)             (None, 5)                 325       \n",
      "                                                                 \n",
      "=================================================================\n",
      "Total params: 54,917\n",
      "Trainable params: 54,917\n",
      "Non-trainable params: 0\n",
      "_________________________________________________________________\n",
      "None\n"
     ]
    }
   ],
   "source": [
    "multi_step_model = tf.keras.models.Sequential()\n",
    "multi_step_model.add(tf.keras.layers.LSTM(64,\n",
    "                                          return_sequences=True,\n",
    "                                          input_shape=x_train_multi.shape[-2:]))\n",
    "multi_step_model.add(tf.keras.layers.LSTM(64, activation='relu'))\n",
    "multi_step_model.add(Dense(64,activation='relu'))\n",
    "multi_step_model.add(tf.keras.layers.Dense(5,activation = 'relu'))\n",
    "\n",
    "multi_step_model.compile(optimizer=tf.keras.optimizers.Adam(), metrics = 'mae',loss = 'mae')\n",
    "print(multi_step_model.summary())\n"
   ]
  },
  {
   "cell_type": "code",
   "execution_count": 123,
   "metadata": {},
   "outputs": [
    {
     "name": "stdout",
     "output_type": "stream",
     "text": [
      "Epoch 1/120\n",
      "100/100 [==============================] - 3s 9ms/step - loss: 77.6500 - mae: 77.6500 - val_loss: 54.1397 - val_mae: 54.1397\n",
      "Epoch 2/120\n",
      "100/100 [==============================] - 0s 5ms/step - loss: 72.2409 - mae: 72.2409 - val_loss: 55.2034 - val_mae: 55.2034\n",
      "Epoch 3/120\n",
      "100/100 [==============================] - 0s 4ms/step - loss: 70.4232 - mae: 70.4232 - val_loss: 55.0370 - val_mae: 55.0370\n",
      "Epoch 4/120\n",
      "100/100 [==============================] - 0s 4ms/step - loss: 68.2643 - mae: 68.2643 - val_loss: 53.8944 - val_mae: 53.8944\n",
      "Epoch 5/120\n",
      "100/100 [==============================] - 0s 4ms/step - loss: 60.2152 - mae: 60.2152 - val_loss: 43.2923 - val_mae: 43.2923\n",
      "Epoch 6/120\n",
      "100/100 [==============================] - 0s 4ms/step - loss: 52.4678 - mae: 52.4678 - val_loss: 25.1218 - val_mae: 25.1218\n",
      "Epoch 7/120\n",
      "100/100 [==============================] - 0s 4ms/step - loss: 50.3880 - mae: 50.3880 - val_loss: 24.7789 - val_mae: 24.7789\n",
      "Epoch 8/120\n",
      "100/100 [==============================] - 0s 4ms/step - loss: 50.2300 - mae: 50.2300 - val_loss: 25.3962 - val_mae: 25.3962\n",
      "Epoch 9/120\n",
      "100/100 [==============================] - 0s 4ms/step - loss: 50.1141 - mae: 50.1141 - val_loss: 24.7309 - val_mae: 24.7309\n",
      "Epoch 10/120\n",
      "100/100 [==============================] - 0s 5ms/step - loss: 50.0316 - mae: 50.0316 - val_loss: 24.9457 - val_mae: 24.9457\n",
      "Epoch 11/120\n",
      "100/100 [==============================] - 0s 4ms/step - loss: 50.0892 - mae: 50.0892 - val_loss: 25.3573 - val_mae: 25.3573\n",
      "Epoch 12/120\n",
      "100/100 [==============================] - 0s 4ms/step - loss: 49.9627 - mae: 49.9627 - val_loss: 24.9806 - val_mae: 24.9806\n",
      "Epoch 13/120\n",
      "100/100 [==============================] - 0s 4ms/step - loss: 49.9978 - mae: 49.9978 - val_loss: 25.0761 - val_mae: 25.0761\n",
      "Epoch 14/120\n",
      "100/100 [==============================] - 0s 4ms/step - loss: 49.9291 - mae: 49.9291 - val_loss: 24.8957 - val_mae: 24.8957\n"
     ]
    }
   ],
   "source": [
    "early_stopping = EarlyStopping(monitor='val_loss', patience = 5, restore_best_weights=True)\n",
    "multi_step_history = multi_step_model.fit(train_data_multi,\n",
    "                                          epochs=120,\n",
    "                                          steps_per_epoch=EVALUATION_INTERVAL,\n",
    "                                          validation_data=val_data_multi,\n",
    "                                          validation_steps=EVALUATION_INTERVAL,\n",
    "                                          callbacks=[early_stopping])\n"
   ]
  },
  {
   "cell_type": "code",
   "execution_count": 124,
   "metadata": {},
   "outputs": [
    {
     "name": "stdout",
     "output_type": "stream",
     "text": [
      "1/1 [==============================] - 0s 412ms/step\n"
     ]
    },
    {
     "data": {
      "text/plain": [
       "array([  0.      ,  39.647976, 154.70232 ,   0.      ,   0.      ],\n",
       "      dtype=float32)"
      ]
     },
     "execution_count": 124,
     "metadata": {},
     "output_type": "execute_result"
    }
   ],
   "source": [
    "pred = []\n",
    "for x, y in val_data_multi.take(1):\n",
    "    pred.append(multi_step_model.predict(x)[0])\n",
    "pred[0]"
   ]
  },
  {
   "cell_type": "code",
   "execution_count": 125,
   "metadata": {},
   "outputs": [],
   "source": [
    "idx = pd.date_range('2016-12-31', periods=5, freq='Y')\n",
    "df_forecast_lstm=pd.DataFrame(data=pred[0], index=idx, columns=['TongSanLuong'])\n"
   ]
  },
  {
   "cell_type": "code",
   "execution_count": 126,
   "metadata": {},
   "outputs": [
    {
     "data": {
      "text/html": [
       "<div>\n",
       "<style scoped>\n",
       "    .dataframe tbody tr th:only-of-type {\n",
       "        vertical-align: middle;\n",
       "    }\n",
       "\n",
       "    .dataframe tbody tr th {\n",
       "        vertical-align: top;\n",
       "    }\n",
       "\n",
       "    .dataframe thead th {\n",
       "        text-align: right;\n",
       "    }\n",
       "</style>\n",
       "<table border=\"1\" class=\"dataframe\">\n",
       "  <thead>\n",
       "    <tr style=\"text-align: right;\">\n",
       "      <th></th>\n",
       "      <th>TongSanLuong</th>\n",
       "    </tr>\n",
       "  </thead>\n",
       "  <tbody>\n",
       "    <tr>\n",
       "      <th>2016-12-31</th>\n",
       "      <td>0.000000</td>\n",
       "    </tr>\n",
       "    <tr>\n",
       "      <th>2017-12-31</th>\n",
       "      <td>39.647976</td>\n",
       "    </tr>\n",
       "    <tr>\n",
       "      <th>2018-12-31</th>\n",
       "      <td>154.702316</td>\n",
       "    </tr>\n",
       "    <tr>\n",
       "      <th>2019-12-31</th>\n",
       "      <td>0.000000</td>\n",
       "    </tr>\n",
       "    <tr>\n",
       "      <th>2020-12-31</th>\n",
       "      <td>0.000000</td>\n",
       "    </tr>\n",
       "  </tbody>\n",
       "</table>\n",
       "</div>"
      ],
      "text/plain": [
       "            TongSanLuong\n",
       "2016-12-31      0.000000\n",
       "2017-12-31     39.647976\n",
       "2018-12-31    154.702316\n",
       "2019-12-31      0.000000\n",
       "2020-12-31      0.000000"
      ]
     },
     "execution_count": 126,
     "metadata": {},
     "output_type": "execute_result"
    }
   ],
   "source": [
    "df_forecast_lstm"
   ]
  },
  {
   "cell_type": "code",
   "execution_count": 127,
   "metadata": {},
   "outputs": [],
   "source": [
    "df_forecast_lstm['TongSanLuong'] = data_1 + ((data_first_diff) + (df_forecast_lstm['TongSanLuong']).cumsum()).cumsum()"
   ]
  },
  {
   "cell_type": "code",
   "execution_count": 128,
   "metadata": {},
   "outputs": [],
   "source": [
    "lstm_rmse = np.sqrt(mean_squared_error(data_test_lstm['TongSanLuong'],df_forecast_lstm['TongSanLuong']))\n",
    "lstm_mae = mean_absolute_error(data_test_lstm['TongSanLuong'],df_forecast_lstm['TongSanLuong'])\n",
    "lstm_mape = mean_absolute_percentage_error(data_test_lstm['TongSanLuong'],df_forecast_lstm['TongSanLuong'])"
   ]
  },
  {
   "cell_type": "code",
   "execution_count": 129,
   "metadata": {},
   "outputs": [
    {
     "data": {
      "text/plain": [
       "Text(0, 0.5, 'TongSanLuong')"
      ]
     },
     "execution_count": 129,
     "metadata": {},
     "output_type": "execute_result"
    },
    {
     "data": {
      "image/png": "[encoded data removed]",
      "text/plain": [
       "<Figure size 1080x720 with 1 Axes>"
      ]
     },
     "metadata": {
      "needs_background": "light"
     },
     "output_type": "display_data"
    }
   ],
   "source": [
    "plt.figure(figsize=(15,10))\n",
    "plt.plot(df_forecast_lstm.index.date,df_forecast_lstm['TongSanLuong'],'r-',label = \"Predict\")\n",
    "plt.plot(data_test_lstm.index.date,data_test_lstm['TongSanLuong'],'b-',label = \"Actual\")\n",
    "plt.legend(fontsize = 15)\n",
    "plt.title(\"LSTM\",fontsize = 15)\n",
    "plt.xlabel(\"Date\",fontsize = 15)\n",
    "plt.ylabel(\"TongSanLuong\",fontsize = 15)"
   ]
  },
  {
   "cell_type": "markdown",
   "metadata": {},
   "source": [
    "### So sánh kết quả giữa việc sử dụng yếu tố ChiSoPhatTrien của mô hình LSTM"
   ]
  },
  {
   "cell_type": "code",
   "execution_count": 130,
   "metadata": {},
   "outputs": [
    {
     "data": {
      "text/html": [
       "<div>\n",
       "<style scoped>\n",
       "    .dataframe tbody tr th:only-of-type {\n",
       "        vertical-align: middle;\n",
       "    }\n",
       "\n",
       "    .dataframe tbody tr th {\n",
       "        vertical-align: top;\n",
       "    }\n",
       "\n",
       "    .dataframe thead th {\n",
       "        text-align: right;\n",
       "    }\n",
       "</style>\n",
       "<table border=\"1\" class=\"dataframe\">\n",
       "  <thead>\n",
       "    <tr style=\"text-align: right;\">\n",
       "      <th></th>\n",
       "      <th>LSTM no pt</th>\n",
       "      <th>LSTM has pt</th>\n",
       "    </tr>\n",
       "  </thead>\n",
       "  <tbody>\n",
       "    <tr>\n",
       "      <th>RMSE</th>\n",
       "      <td>396.705678</td>\n",
       "      <td>409.350536</td>\n",
       "    </tr>\n",
       "    <tr>\n",
       "      <th>MAE</th>\n",
       "      <td>382.231523</td>\n",
       "      <td>399.280938</td>\n",
       "    </tr>\n",
       "    <tr>\n",
       "      <th>MAPE</th>\n",
       "      <td>0.049605</td>\n",
       "      <td>0.051620</td>\n",
       "    </tr>\n",
       "  </tbody>\n",
       "</table>\n",
       "</div>"
      ],
      "text/plain": [
       "      LSTM no pt  LSTM has pt\n",
       "RMSE  396.705678   409.350536\n",
       "MAE   382.231523   399.280938\n",
       "MAPE    0.049605     0.051620"
      ]
     },
     "execution_count": 130,
     "metadata": {},
     "output_type": "execute_result"
    }
   ],
   "source": [
    "df_lstm = pd.DataFrame({\"LSTM no pt\":[lstm_nopt_rmse,lstm_nopt_mae,lstm_nopt_mape],\"LSTM has pt\":[lstm_rmse,lstm_mae,lstm_mape]},index = [\"RMSE\",\"MAE\",\"MAPE\"])\n",
    "df_lstm"
   ]
  },
  {
   "cell_type": "markdown",
   "metadata": {},
   "source": [
    "# Kết quả các mô hình"
   ]
  },
  {
   "cell_type": "markdown",
   "metadata": {},
   "source": [
    "## ARIMA"
   ]
  },
  {
   "cell_type": "code",
   "execution_count": 131,
   "metadata": {},
   "outputs": [
    {
     "data": {
      "text/html": [
       "<div>\n",
       "<style scoped>\n",
       "    .dataframe tbody tr th:only-of-type {\n",
       "        vertical-align: middle;\n",
       "    }\n",
       "\n",
       "    .dataframe tbody tr th {\n",
       "        vertical-align: top;\n",
       "    }\n",
       "\n",
       "    .dataframe thead th {\n",
       "        text-align: right;\n",
       "    }\n",
       "</style>\n",
       "<table border=\"1\" class=\"dataframe\">\n",
       "  <thead>\n",
       "    <tr style=\"text-align: right;\">\n",
       "      <th></th>\n",
       "      <th>ARIMA</th>\n",
       "    </tr>\n",
       "  </thead>\n",
       "  <tbody>\n",
       "    <tr>\n",
       "      <th>RMSE</th>\n",
       "      <td>481.849093</td>\n",
       "    </tr>\n",
       "    <tr>\n",
       "      <th>MAE</th>\n",
       "      <td>459.418283</td>\n",
       "    </tr>\n",
       "    <tr>\n",
       "      <th>MAPE</th>\n",
       "      <td>0.058302</td>\n",
       "    </tr>\n",
       "  </tbody>\n",
       "</table>\n",
       "</div>"
      ],
      "text/plain": [
       "           ARIMA\n",
       "RMSE  481.849093\n",
       "MAE   459.418283\n",
       "MAPE    0.058302"
      ]
     },
     "execution_count": 131,
     "metadata": {},
     "output_type": "execute_result"
    }
   ],
   "source": [
    "df_uni"
   ]
  },
  {
   "cell_type": "markdown",
   "metadata": {},
   "source": [
    "## VAR"
   ]
  },
  {
   "cell_type": "code",
   "execution_count": 132,
   "metadata": {},
   "outputs": [
    {
     "data": {
      "text/html": [
       "<div>\n",
       "<style scoped>\n",
       "    .dataframe tbody tr th:only-of-type {\n",
       "        vertical-align: middle;\n",
       "    }\n",
       "\n",
       "    .dataframe tbody tr th {\n",
       "        vertical-align: top;\n",
       "    }\n",
       "\n",
       "    .dataframe thead th {\n",
       "        text-align: right;\n",
       "    }\n",
       "</style>\n",
       "<table border=\"1\" class=\"dataframe\">\n",
       "  <thead>\n",
       "    <tr style=\"text-align: right;\">\n",
       "      <th></th>\n",
       "      <th>Var no pt</th>\n",
       "      <th>Var has pt</th>\n",
       "    </tr>\n",
       "  </thead>\n",
       "  <tbody>\n",
       "    <tr>\n",
       "      <th>RMSE</th>\n",
       "      <td>152.250397</td>\n",
       "      <td>99.834723</td>\n",
       "    </tr>\n",
       "    <tr>\n",
       "      <th>MAE</th>\n",
       "      <td>136.382089</td>\n",
       "      <td>97.555948</td>\n",
       "    </tr>\n",
       "    <tr>\n",
       "      <th>MAPE</th>\n",
       "      <td>0.018074</td>\n",
       "      <td>0.012481</td>\n",
       "    </tr>\n",
       "  </tbody>\n",
       "</table>\n",
       "</div>"
      ],
      "text/plain": [
       "       Var no pt  Var has pt\n",
       "RMSE  152.250397   99.834723\n",
       "MAE   136.382089   97.555948\n",
       "MAPE    0.018074    0.012481"
      ]
     },
     "execution_count": 132,
     "metadata": {},
     "output_type": "execute_result"
    }
   ],
   "source": [
    "df_var"
   ]
  },
  {
   "cell_type": "markdown",
   "metadata": {},
   "source": [
    "## AUTO ARIMA"
   ]
  },
  {
   "cell_type": "code",
   "execution_count": 133,
   "metadata": {},
   "outputs": [
    {
     "data": {
      "text/html": [
       "<div>\n",
       "<style scoped>\n",
       "    .dataframe tbody tr th:only-of-type {\n",
       "        vertical-align: middle;\n",
       "    }\n",
       "\n",
       "    .dataframe tbody tr th {\n",
       "        vertical-align: top;\n",
       "    }\n",
       "\n",
       "    .dataframe thead th {\n",
       "        text-align: right;\n",
       "    }\n",
       "</style>\n",
       "<table border=\"1\" class=\"dataframe\">\n",
       "  <thead>\n",
       "    <tr style=\"text-align: right;\">\n",
       "      <th></th>\n",
       "      <th>AUTOARIMA no pt</th>\n",
       "      <th>AUTOARIMA has pt</th>\n",
       "    </tr>\n",
       "  </thead>\n",
       "  <tbody>\n",
       "    <tr>\n",
       "      <th>RMSE</th>\n",
       "      <td>480.146034</td>\n",
       "      <td>503.028099</td>\n",
       "    </tr>\n",
       "    <tr>\n",
       "      <th>MAE</th>\n",
       "      <td>458.214746</td>\n",
       "      <td>478.289901</td>\n",
       "    </tr>\n",
       "    <tr>\n",
       "      <th>MAPE</th>\n",
       "      <td>0.058167</td>\n",
       "      <td>0.060633</td>\n",
       "    </tr>\n",
       "  </tbody>\n",
       "</table>\n",
       "</div>"
      ],
      "text/plain": [
       "      AUTOARIMA no pt  AUTOARIMA has pt\n",
       "RMSE       480.146034        503.028099\n",
       "MAE        458.214746        478.289901\n",
       "MAPE         0.058167          0.060633"
      ]
     },
     "execution_count": 133,
     "metadata": {},
     "output_type": "execute_result"
    }
   ],
   "source": [
    "df_atarima"
   ]
  },
  {
   "cell_type": "markdown",
   "metadata": {},
   "source": [
    "## LSTM"
   ]
  },
  {
   "cell_type": "code",
   "execution_count": 134,
   "metadata": {},
   "outputs": [
    {
     "data": {
      "text/html": [
       "<div>\n",
       "<style scoped>\n",
       "    .dataframe tbody tr th:only-of-type {\n",
       "        vertical-align: middle;\n",
       "    }\n",
       "\n",
       "    .dataframe tbody tr th {\n",
       "        vertical-align: top;\n",
       "    }\n",
       "\n",
       "    .dataframe thead th {\n",
       "        text-align: right;\n",
       "    }\n",
       "</style>\n",
       "<table border=\"1\" class=\"dataframe\">\n",
       "  <thead>\n",
       "    <tr style=\"text-align: right;\">\n",
       "      <th></th>\n",
       "      <th>LSTM no pt</th>\n",
       "      <th>LSTM has pt</th>\n",
       "    </tr>\n",
       "  </thead>\n",
       "  <tbody>\n",
       "    <tr>\n",
       "      <th>RMSE</th>\n",
       "      <td>396.705678</td>\n",
       "      <td>409.350536</td>\n",
       "    </tr>\n",
       "    <tr>\n",
       "      <th>MAE</th>\n",
       "      <td>382.231523</td>\n",
       "      <td>399.280938</td>\n",
       "    </tr>\n",
       "    <tr>\n",
       "      <th>MAPE</th>\n",
       "      <td>0.049605</td>\n",
       "      <td>0.051620</td>\n",
       "    </tr>\n",
       "  </tbody>\n",
       "</table>\n",
       "</div>"
      ],
      "text/plain": [
       "      LSTM no pt  LSTM has pt\n",
       "RMSE  396.705678   409.350536\n",
       "MAE   382.231523   399.280938\n",
       "MAPE    0.049605     0.051620"
      ]
     },
     "execution_count": 134,
     "metadata": {},
     "output_type": "execute_result"
    }
   ],
   "source": [
    "df_lstm"
   ]
  }
 ],
 "metadata": {
  "kernelspec": {
   "display_name": "Python 3 (ipykernel)",
   "language": "python",
   "name": "python3"
  },
  "language_info": {
   "codemirror_mode": {
    "name": "ipython",
    "version": 3
   },
   "file_extension": ".py",
   "mimetype": "text/x-python",
   "name": "python",
   "nbconvert_exporter": "python",
   "pygments_lexer": "ipython3",
   "version": "3.9.16"
  },
  "vscode": {
   "interpreter": {
    "hash": "6bfd7e43db9e4734bb66d5adfb403b43705154d42fa8cc6fabe3ef8413fb5b5c"
   }
  }
 },
 "nbformat": 4,
 "nbformat_minor": 2
}
